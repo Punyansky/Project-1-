{
 "cells": [
  {
   "cell_type": "markdown",
   "metadata": {},
   "source": [
    "# Analyzing borrowers’ risk of defaulting\n",
    "\n",
    "Your project is to prepare a report for a bank’s loan division. You’ll need to find out if a customer’s marital status and number of children has an impact on whether they will default on a loan. The bank already has some data on customers’ credit worthiness.\n",
    "\n",
    "Your report will be considered when building the **credit score** of a potential customer. The **credit score** is used to evaluate the ability of a potential borrower to repay their loan.\n",
    "\n",
    "[In this notebook you're provided with hints and brief instructions and thinking prompts. Don't ignore them as they are designed to equip you with the structure for the project and will help you analyze what you're doing on a deeper level. Before submitting your project, make sure you remove all hints and descriptions provided to you. Instead, make this report look as if you're sending it to your teammates to demonstrate your findings - they shouldn't know you had some external help from us! To help you out, we've placed the hints you should remove in square brackets.]\n",
    "\n",
    "[Before you dive into analyzing your data, explain the purposes of the project and hypotheses you're going to test.]"
   ]
  },
  {
   "cell_type": "markdown",
   "metadata": {},
   "source": [
    "## Open the data file and have a look at the general information. \n",
    "\n",
    "[Start with importing the libraries and loading the data. You may realise that you need additional libraries as you go, which is totally fine - just make sure to update this section when you do.]"
   ]
  },
  {
   "cell_type": "code",
   "execution_count": 1,
   "metadata": {},
   "outputs": [],
   "source": [
    "import pandas as pd\n",
    "import numpy as np\n",
    "\n",
    "\n"
   ]
  },
  {
   "cell_type": "code",
   "execution_count": 2,
   "metadata": {},
   "outputs": [],
   "source": [
    "try:\n",
    "    data = pd.read_csv('credit_scoring_eng.csv')\n",
    "\n",
    "except:\n",
    "    data = pd.read_csv('/datasets/credit_scoring_eng.csv')\n"
   ]
  },
  {
   "cell_type": "markdown",
   "metadata": {},
   "source": [
    "## Task 1. Data exploration\n",
    "\n",
    "**Description of the data**\n",
    "- `children` - the number of children in the family\n",
    "- `days_employed` - work experience in days\n",
    "- `dob_years` - client's age in years\n",
    "- `education` - client's education\n",
    "- `education_id` - education identifier\n",
    "- `family_status` - marital status\n",
    "- `family_status_id` - marital status identifier\n",
    "- `gender` - gender of the client\n",
    "- `income_type` - type of employment\n",
    "- `debt` - was there any debt on loan repayment\n",
    "- `total_income` - monthly income\n",
    "- `purpose` - the purpose of obtaining a loan\n",
    "\n",
    "[Now let's explore our data. You'll want to see how many columns and rows it has, look at a few rows to check for potential issues with the data.]"
   ]
  },
  {
   "cell_type": "code",
   "execution_count": 3,
   "metadata": {
    "scrolled": true
   },
   "outputs": [
    {
     "name": "stdout",
     "output_type": "stream",
     "text": [
      "<class 'pandas.core.frame.DataFrame'>\n",
      "RangeIndex: 21525 entries, 0 to 21524\n",
      "Data columns (total 12 columns):\n",
      " #   Column            Non-Null Count  Dtype  \n",
      "---  ------            --------------  -----  \n",
      " 0   children          21525 non-null  int64  \n",
      " 1   days_employed     19351 non-null  float64\n",
      " 2   dob_years         21525 non-null  int64  \n",
      " 3   education         21525 non-null  object \n",
      " 4   education_id      21525 non-null  int64  \n",
      " 5   family_status     21525 non-null  object \n",
      " 6   family_status_id  21525 non-null  int64  \n",
      " 7   gender            21525 non-null  object \n",
      " 8   income_type       21525 non-null  object \n",
      " 9   debt              21525 non-null  int64  \n",
      " 10  total_income      19351 non-null  float64\n",
      " 11  purpose           21525 non-null  object \n",
      "dtypes: float64(2), int64(5), object(5)\n",
      "memory usage: 2.0+ MB\n"
     ]
    }
   ],
   "source": [
    "\n",
    "data.info()"
   ]
  },
  {
   "cell_type": "markdown",
   "metadata": {},
   "source": [
    "[Are there missing values across all columns or just a few? Briefly describe what you see in 1-2 sentences.]"
   ]
  },
  {
   "cell_type": "markdown",
   "metadata": {},
   "source": [
    "**We can see missing data in days_employed and total_income columnes**\n",
    "\n"
   ]
  },
  {
   "cell_type": "code",
   "execution_count": 4,
   "metadata": {
    "scrolled": true
   },
   "outputs": [
    {
     "data": {
      "text/html": [
       "<div>\n",
       "<style scoped>\n",
       "    .dataframe tbody tr th:only-of-type {\n",
       "        vertical-align: middle;\n",
       "    }\n",
       "\n",
       "    .dataframe tbody tr th {\n",
       "        vertical-align: top;\n",
       "    }\n",
       "\n",
       "    .dataframe thead th {\n",
       "        text-align: right;\n",
       "    }\n",
       "</style>\n",
       "<table border=\"1\" class=\"dataframe\">\n",
       "  <thead>\n",
       "    <tr style=\"text-align: right;\">\n",
       "      <th></th>\n",
       "      <th>children</th>\n",
       "      <th>days_employed</th>\n",
       "      <th>dob_years</th>\n",
       "      <th>education</th>\n",
       "      <th>education_id</th>\n",
       "      <th>family_status</th>\n",
       "      <th>family_status_id</th>\n",
       "      <th>gender</th>\n",
       "      <th>income_type</th>\n",
       "      <th>debt</th>\n",
       "      <th>total_income</th>\n",
       "      <th>purpose</th>\n",
       "    </tr>\n",
       "  </thead>\n",
       "  <tbody>\n",
       "    <tr>\n",
       "      <th>0</th>\n",
       "      <td>1</td>\n",
       "      <td>-8437.673028</td>\n",
       "      <td>42</td>\n",
       "      <td>bachelor's degree</td>\n",
       "      <td>0</td>\n",
       "      <td>married</td>\n",
       "      <td>0</td>\n",
       "      <td>F</td>\n",
       "      <td>employee</td>\n",
       "      <td>0</td>\n",
       "      <td>40620.102</td>\n",
       "      <td>purchase of the house</td>\n",
       "    </tr>\n",
       "    <tr>\n",
       "      <th>1</th>\n",
       "      <td>1</td>\n",
       "      <td>-4024.803754</td>\n",
       "      <td>36</td>\n",
       "      <td>secondary education</td>\n",
       "      <td>1</td>\n",
       "      <td>married</td>\n",
       "      <td>0</td>\n",
       "      <td>F</td>\n",
       "      <td>employee</td>\n",
       "      <td>0</td>\n",
       "      <td>17932.802</td>\n",
       "      <td>car purchase</td>\n",
       "    </tr>\n",
       "    <tr>\n",
       "      <th>2</th>\n",
       "      <td>0</td>\n",
       "      <td>-5623.422610</td>\n",
       "      <td>33</td>\n",
       "      <td>Secondary Education</td>\n",
       "      <td>1</td>\n",
       "      <td>married</td>\n",
       "      <td>0</td>\n",
       "      <td>M</td>\n",
       "      <td>employee</td>\n",
       "      <td>0</td>\n",
       "      <td>23341.752</td>\n",
       "      <td>purchase of the house</td>\n",
       "    </tr>\n",
       "    <tr>\n",
       "      <th>3</th>\n",
       "      <td>3</td>\n",
       "      <td>-4124.747207</td>\n",
       "      <td>32</td>\n",
       "      <td>secondary education</td>\n",
       "      <td>1</td>\n",
       "      <td>married</td>\n",
       "      <td>0</td>\n",
       "      <td>M</td>\n",
       "      <td>employee</td>\n",
       "      <td>0</td>\n",
       "      <td>42820.568</td>\n",
       "      <td>supplementary education</td>\n",
       "    </tr>\n",
       "    <tr>\n",
       "      <th>4</th>\n",
       "      <td>0</td>\n",
       "      <td>340266.072047</td>\n",
       "      <td>53</td>\n",
       "      <td>secondary education</td>\n",
       "      <td>1</td>\n",
       "      <td>civil partnership</td>\n",
       "      <td>1</td>\n",
       "      <td>F</td>\n",
       "      <td>retiree</td>\n",
       "      <td>0</td>\n",
       "      <td>25378.572</td>\n",
       "      <td>to have a wedding</td>\n",
       "    </tr>\n",
       "  </tbody>\n",
       "</table>\n",
       "</div>"
      ],
      "text/plain": [
       "   children  days_employed  dob_years            education  education_id  \\\n",
       "0         1   -8437.673028         42    bachelor's degree             0   \n",
       "1         1   -4024.803754         36  secondary education             1   \n",
       "2         0   -5623.422610         33  Secondary Education             1   \n",
       "3         3   -4124.747207         32  secondary education             1   \n",
       "4         0  340266.072047         53  secondary education             1   \n",
       "\n",
       "       family_status  family_status_id gender income_type  debt  total_income  \\\n",
       "0            married                 0      F    employee     0     40620.102   \n",
       "1            married                 0      F    employee     0     17932.802   \n",
       "2            married                 0      M    employee     0     23341.752   \n",
       "3            married                 0      M    employee     0     42820.568   \n",
       "4  civil partnership                 1      F     retiree     0     25378.572   \n",
       "\n",
       "                   purpose  \n",
       "0    purchase of the house  \n",
       "1             car purchase  \n",
       "2    purchase of the house  \n",
       "3  supplementary education  \n",
       "4        to have a wedding  "
      ]
     },
     "execution_count": 4,
     "metadata": {},
     "output_type": "execute_result"
    }
   ],
   "source": [
    "data.head()"
   ]
  },
  {
   "cell_type": "code",
   "execution_count": 5,
   "metadata": {},
   "outputs": [
    {
     "data": {
      "text/html": [
       "<div>\n",
       "<style scoped>\n",
       "    .dataframe tbody tr th:only-of-type {\n",
       "        vertical-align: middle;\n",
       "    }\n",
       "\n",
       "    .dataframe tbody tr th {\n",
       "        vertical-align: top;\n",
       "    }\n",
       "\n",
       "    .dataframe thead th {\n",
       "        text-align: right;\n",
       "    }\n",
       "</style>\n",
       "<table border=\"1\" class=\"dataframe\">\n",
       "  <thead>\n",
       "    <tr style=\"text-align: right;\">\n",
       "      <th></th>\n",
       "      <th>children</th>\n",
       "      <th>days_employed</th>\n",
       "      <th>dob_years</th>\n",
       "      <th>education_id</th>\n",
       "      <th>family_status_id</th>\n",
       "      <th>debt</th>\n",
       "      <th>total_income</th>\n",
       "    </tr>\n",
       "  </thead>\n",
       "  <tbody>\n",
       "    <tr>\n",
       "      <th>count</th>\n",
       "      <td>21525.000000</td>\n",
       "      <td>19351.000000</td>\n",
       "      <td>21525.000000</td>\n",
       "      <td>21525.000000</td>\n",
       "      <td>21525.000000</td>\n",
       "      <td>21525.000000</td>\n",
       "      <td>19351.000000</td>\n",
       "    </tr>\n",
       "    <tr>\n",
       "      <th>mean</th>\n",
       "      <td>0.538908</td>\n",
       "      <td>63046.497661</td>\n",
       "      <td>43.293380</td>\n",
       "      <td>0.817236</td>\n",
       "      <td>0.972544</td>\n",
       "      <td>0.080883</td>\n",
       "      <td>26787.568355</td>\n",
       "    </tr>\n",
       "    <tr>\n",
       "      <th>std</th>\n",
       "      <td>1.381587</td>\n",
       "      <td>140827.311974</td>\n",
       "      <td>12.574584</td>\n",
       "      <td>0.548138</td>\n",
       "      <td>1.420324</td>\n",
       "      <td>0.272661</td>\n",
       "      <td>16475.450632</td>\n",
       "    </tr>\n",
       "    <tr>\n",
       "      <th>min</th>\n",
       "      <td>-1.000000</td>\n",
       "      <td>-18388.949901</td>\n",
       "      <td>0.000000</td>\n",
       "      <td>0.000000</td>\n",
       "      <td>0.000000</td>\n",
       "      <td>0.000000</td>\n",
       "      <td>3306.762000</td>\n",
       "    </tr>\n",
       "    <tr>\n",
       "      <th>25%</th>\n",
       "      <td>0.000000</td>\n",
       "      <td>-2747.423625</td>\n",
       "      <td>33.000000</td>\n",
       "      <td>1.000000</td>\n",
       "      <td>0.000000</td>\n",
       "      <td>0.000000</td>\n",
       "      <td>16488.504500</td>\n",
       "    </tr>\n",
       "    <tr>\n",
       "      <th>50%</th>\n",
       "      <td>0.000000</td>\n",
       "      <td>-1203.369529</td>\n",
       "      <td>42.000000</td>\n",
       "      <td>1.000000</td>\n",
       "      <td>0.000000</td>\n",
       "      <td>0.000000</td>\n",
       "      <td>23202.870000</td>\n",
       "    </tr>\n",
       "    <tr>\n",
       "      <th>75%</th>\n",
       "      <td>1.000000</td>\n",
       "      <td>-291.095954</td>\n",
       "      <td>53.000000</td>\n",
       "      <td>1.000000</td>\n",
       "      <td>1.000000</td>\n",
       "      <td>0.000000</td>\n",
       "      <td>32549.611000</td>\n",
       "    </tr>\n",
       "    <tr>\n",
       "      <th>max</th>\n",
       "      <td>20.000000</td>\n",
       "      <td>401755.400475</td>\n",
       "      <td>75.000000</td>\n",
       "      <td>4.000000</td>\n",
       "      <td>4.000000</td>\n",
       "      <td>1.000000</td>\n",
       "      <td>362496.645000</td>\n",
       "    </tr>\n",
       "  </tbody>\n",
       "</table>\n",
       "</div>"
      ],
      "text/plain": [
       "           children  days_employed     dob_years  education_id  \\\n",
       "count  21525.000000   19351.000000  21525.000000  21525.000000   \n",
       "mean       0.538908   63046.497661     43.293380      0.817236   \n",
       "std        1.381587  140827.311974     12.574584      0.548138   \n",
       "min       -1.000000  -18388.949901      0.000000      0.000000   \n",
       "25%        0.000000   -2747.423625     33.000000      1.000000   \n",
       "50%        0.000000   -1203.369529     42.000000      1.000000   \n",
       "75%        1.000000    -291.095954     53.000000      1.000000   \n",
       "max       20.000000  401755.400475     75.000000      4.000000   \n",
       "\n",
       "       family_status_id          debt   total_income  \n",
       "count      21525.000000  21525.000000   19351.000000  \n",
       "mean           0.972544      0.080883   26787.568355  \n",
       "std            1.420324      0.272661   16475.450632  \n",
       "min            0.000000      0.000000    3306.762000  \n",
       "25%            0.000000      0.000000   16488.504500  \n",
       "50%            0.000000      0.000000   23202.870000  \n",
       "75%            1.000000      0.000000   32549.611000  \n",
       "max            4.000000      1.000000  362496.645000  "
      ]
     },
     "execution_count": 5,
     "metadata": {},
     "output_type": "execute_result"
    }
   ],
   "source": [
    "data.describe()"
   ]
  },
  {
   "cell_type": "code",
   "execution_count": 6,
   "metadata": {},
   "outputs": [
    {
     "data": {
      "text/html": [
       "<div>\n",
       "<style scoped>\n",
       "    .dataframe tbody tr th:only-of-type {\n",
       "        vertical-align: middle;\n",
       "    }\n",
       "\n",
       "    .dataframe tbody tr th {\n",
       "        vertical-align: top;\n",
       "    }\n",
       "\n",
       "    .dataframe thead th {\n",
       "        text-align: right;\n",
       "    }\n",
       "</style>\n",
       "<table border=\"1\" class=\"dataframe\">\n",
       "  <thead>\n",
       "    <tr style=\"text-align: right;\">\n",
       "      <th></th>\n",
       "      <th>count</th>\n",
       "      <th>unique</th>\n",
       "      <th>top</th>\n",
       "      <th>freq</th>\n",
       "      <th>mean</th>\n",
       "      <th>std</th>\n",
       "      <th>min</th>\n",
       "      <th>25%</th>\n",
       "      <th>50%</th>\n",
       "      <th>75%</th>\n",
       "      <th>max</th>\n",
       "    </tr>\n",
       "  </thead>\n",
       "  <tbody>\n",
       "    <tr>\n",
       "      <th>children</th>\n",
       "      <td>21525.0</td>\n",
       "      <td>NaN</td>\n",
       "      <td>NaN</td>\n",
       "      <td>NaN</td>\n",
       "      <td>0.538908</td>\n",
       "      <td>1.381587</td>\n",
       "      <td>-1.0</td>\n",
       "      <td>0.0</td>\n",
       "      <td>0.0</td>\n",
       "      <td>1.0</td>\n",
       "      <td>20.0</td>\n",
       "    </tr>\n",
       "    <tr>\n",
       "      <th>days_employed</th>\n",
       "      <td>19351.0</td>\n",
       "      <td>NaN</td>\n",
       "      <td>NaN</td>\n",
       "      <td>NaN</td>\n",
       "      <td>63046.497661</td>\n",
       "      <td>140827.311974</td>\n",
       "      <td>-18388.949901</td>\n",
       "      <td>-2747.423625</td>\n",
       "      <td>-1203.369529</td>\n",
       "      <td>-291.095954</td>\n",
       "      <td>401755.400475</td>\n",
       "    </tr>\n",
       "    <tr>\n",
       "      <th>dob_years</th>\n",
       "      <td>21525.0</td>\n",
       "      <td>NaN</td>\n",
       "      <td>NaN</td>\n",
       "      <td>NaN</td>\n",
       "      <td>43.29338</td>\n",
       "      <td>12.574584</td>\n",
       "      <td>0.0</td>\n",
       "      <td>33.0</td>\n",
       "      <td>42.0</td>\n",
       "      <td>53.0</td>\n",
       "      <td>75.0</td>\n",
       "    </tr>\n",
       "    <tr>\n",
       "      <th>education</th>\n",
       "      <td>21525</td>\n",
       "      <td>15</td>\n",
       "      <td>secondary education</td>\n",
       "      <td>13750</td>\n",
       "      <td>NaN</td>\n",
       "      <td>NaN</td>\n",
       "      <td>NaN</td>\n",
       "      <td>NaN</td>\n",
       "      <td>NaN</td>\n",
       "      <td>NaN</td>\n",
       "      <td>NaN</td>\n",
       "    </tr>\n",
       "    <tr>\n",
       "      <th>education_id</th>\n",
       "      <td>21525.0</td>\n",
       "      <td>NaN</td>\n",
       "      <td>NaN</td>\n",
       "      <td>NaN</td>\n",
       "      <td>0.817236</td>\n",
       "      <td>0.548138</td>\n",
       "      <td>0.0</td>\n",
       "      <td>1.0</td>\n",
       "      <td>1.0</td>\n",
       "      <td>1.0</td>\n",
       "      <td>4.0</td>\n",
       "    </tr>\n",
       "    <tr>\n",
       "      <th>family_status</th>\n",
       "      <td>21525</td>\n",
       "      <td>5</td>\n",
       "      <td>married</td>\n",
       "      <td>12380</td>\n",
       "      <td>NaN</td>\n",
       "      <td>NaN</td>\n",
       "      <td>NaN</td>\n",
       "      <td>NaN</td>\n",
       "      <td>NaN</td>\n",
       "      <td>NaN</td>\n",
       "      <td>NaN</td>\n",
       "    </tr>\n",
       "    <tr>\n",
       "      <th>family_status_id</th>\n",
       "      <td>21525.0</td>\n",
       "      <td>NaN</td>\n",
       "      <td>NaN</td>\n",
       "      <td>NaN</td>\n",
       "      <td>0.972544</td>\n",
       "      <td>1.420324</td>\n",
       "      <td>0.0</td>\n",
       "      <td>0.0</td>\n",
       "      <td>0.0</td>\n",
       "      <td>1.0</td>\n",
       "      <td>4.0</td>\n",
       "    </tr>\n",
       "    <tr>\n",
       "      <th>gender</th>\n",
       "      <td>21525</td>\n",
       "      <td>3</td>\n",
       "      <td>F</td>\n",
       "      <td>14236</td>\n",
       "      <td>NaN</td>\n",
       "      <td>NaN</td>\n",
       "      <td>NaN</td>\n",
       "      <td>NaN</td>\n",
       "      <td>NaN</td>\n",
       "      <td>NaN</td>\n",
       "      <td>NaN</td>\n",
       "    </tr>\n",
       "    <tr>\n",
       "      <th>income_type</th>\n",
       "      <td>21525</td>\n",
       "      <td>8</td>\n",
       "      <td>employee</td>\n",
       "      <td>11119</td>\n",
       "      <td>NaN</td>\n",
       "      <td>NaN</td>\n",
       "      <td>NaN</td>\n",
       "      <td>NaN</td>\n",
       "      <td>NaN</td>\n",
       "      <td>NaN</td>\n",
       "      <td>NaN</td>\n",
       "    </tr>\n",
       "    <tr>\n",
       "      <th>debt</th>\n",
       "      <td>21525.0</td>\n",
       "      <td>NaN</td>\n",
       "      <td>NaN</td>\n",
       "      <td>NaN</td>\n",
       "      <td>0.080883</td>\n",
       "      <td>0.272661</td>\n",
       "      <td>0.0</td>\n",
       "      <td>0.0</td>\n",
       "      <td>0.0</td>\n",
       "      <td>0.0</td>\n",
       "      <td>1.0</td>\n",
       "    </tr>\n",
       "    <tr>\n",
       "      <th>total_income</th>\n",
       "      <td>19351.0</td>\n",
       "      <td>NaN</td>\n",
       "      <td>NaN</td>\n",
       "      <td>NaN</td>\n",
       "      <td>26787.568355</td>\n",
       "      <td>16475.450632</td>\n",
       "      <td>3306.762</td>\n",
       "      <td>16488.5045</td>\n",
       "      <td>23202.87</td>\n",
       "      <td>32549.611</td>\n",
       "      <td>362496.645</td>\n",
       "    </tr>\n",
       "    <tr>\n",
       "      <th>purpose</th>\n",
       "      <td>21525</td>\n",
       "      <td>38</td>\n",
       "      <td>wedding ceremony</td>\n",
       "      <td>797</td>\n",
       "      <td>NaN</td>\n",
       "      <td>NaN</td>\n",
       "      <td>NaN</td>\n",
       "      <td>NaN</td>\n",
       "      <td>NaN</td>\n",
       "      <td>NaN</td>\n",
       "      <td>NaN</td>\n",
       "    </tr>\n",
       "  </tbody>\n",
       "</table>\n",
       "</div>"
      ],
      "text/plain": [
       "                    count unique                  top   freq          mean  \\\n",
       "children          21525.0    NaN                  NaN    NaN      0.538908   \n",
       "days_employed     19351.0    NaN                  NaN    NaN  63046.497661   \n",
       "dob_years         21525.0    NaN                  NaN    NaN      43.29338   \n",
       "education           21525     15  secondary education  13750           NaN   \n",
       "education_id      21525.0    NaN                  NaN    NaN      0.817236   \n",
       "family_status       21525      5              married  12380           NaN   \n",
       "family_status_id  21525.0    NaN                  NaN    NaN      0.972544   \n",
       "gender              21525      3                    F  14236           NaN   \n",
       "income_type         21525      8             employee  11119           NaN   \n",
       "debt              21525.0    NaN                  NaN    NaN      0.080883   \n",
       "total_income      19351.0    NaN                  NaN    NaN  26787.568355   \n",
       "purpose             21525     38     wedding ceremony    797           NaN   \n",
       "\n",
       "                            std           min          25%          50%  \\\n",
       "children               1.381587          -1.0          0.0          0.0   \n",
       "days_employed     140827.311974 -18388.949901 -2747.423625 -1203.369529   \n",
       "dob_years             12.574584           0.0         33.0         42.0   \n",
       "education                   NaN           NaN          NaN          NaN   \n",
       "education_id           0.548138           0.0          1.0          1.0   \n",
       "family_status               NaN           NaN          NaN          NaN   \n",
       "family_status_id       1.420324           0.0          0.0          0.0   \n",
       "gender                      NaN           NaN          NaN          NaN   \n",
       "income_type                 NaN           NaN          NaN          NaN   \n",
       "debt                   0.272661           0.0          0.0          0.0   \n",
       "total_income       16475.450632      3306.762   16488.5045     23202.87   \n",
       "purpose                     NaN           NaN          NaN          NaN   \n",
       "\n",
       "                         75%            max  \n",
       "children                 1.0           20.0  \n",
       "days_employed    -291.095954  401755.400475  \n",
       "dob_years               53.0           75.0  \n",
       "education                NaN            NaN  \n",
       "education_id             1.0            4.0  \n",
       "family_status            NaN            NaN  \n",
       "family_status_id         1.0            4.0  \n",
       "gender                   NaN            NaN  \n",
       "income_type              NaN            NaN  \n",
       "debt                     0.0            1.0  \n",
       "total_income       32549.611     362496.645  \n",
       "purpose                  NaN            NaN  "
      ]
     },
     "execution_count": 6,
     "metadata": {},
     "output_type": "execute_result"
    }
   ],
   "source": [
    "data.describe(include = 'all').T"
   ]
  },
  {
   "cell_type": "code",
   "execution_count": 7,
   "metadata": {
    "scrolled": false
   },
   "outputs": [
    {
     "data": {
      "text/plain": [
       "children               0\n",
       "days_employed       2174\n",
       "dob_years              0\n",
       "education              0\n",
       "education_id           0\n",
       "family_status          0\n",
       "family_status_id       0\n",
       "gender                 0\n",
       "income_type            0\n",
       "debt                   0\n",
       "total_income        2174\n",
       "purpose                0\n",
       "dtype: int64"
      ]
     },
     "execution_count": 7,
     "metadata": {},
     "output_type": "execute_result"
    }
   ],
   "source": [
    "\n",
    "data.isnull().sum()\n"
   ]
  },
  {
   "cell_type": "markdown",
   "metadata": {},
   "source": [
    "[Do missing values seem symmetric? Can we be sure in this assumption? Explain your thoughts briefly in this section. You may probably want to conduct further investigations, and count the missing values in all the rows with missing values to confirm the the missing samples are of the same size.]"
   ]
  },
  {
   "cell_type": "code",
   "execution_count": 8,
   "metadata": {
    "scrolled": true
   },
   "outputs": [
    {
     "data": {
      "text/plain": [
       "children            0.000000\n",
       "days_employed       0.100999\n",
       "dob_years           0.000000\n",
       "education           0.000000\n",
       "education_id        0.000000\n",
       "family_status       0.000000\n",
       "family_status_id    0.000000\n",
       "gender              0.000000\n",
       "income_type         0.000000\n",
       "debt                0.000000\n",
       "total_income        0.100999\n",
       "purpose             0.000000\n",
       "dtype: float64"
      ]
     },
     "execution_count": 8,
     "metadata": {},
     "output_type": "execute_result"
    }
   ],
   "source": [
    "data.isnull().sum()/len(data)"
   ]
  },
  {
   "cell_type": "code",
   "execution_count": 9,
   "metadata": {},
   "outputs": [
    {
     "data": {
      "text/plain": [
       "children            0.000000\n",
       "days_employed       0.100999\n",
       "dob_years           0.000000\n",
       "education           0.000000\n",
       "education_id        0.000000\n",
       "family_status       0.000000\n",
       "family_status_id    0.000000\n",
       "gender              0.000000\n",
       "income_type         0.000000\n",
       "debt                0.000000\n",
       "total_income        0.100999\n",
       "purpose             0.000000\n",
       "dtype: float64"
      ]
     },
     "execution_count": 9,
     "metadata": {},
     "output_type": "execute_result"
    }
   ],
   "source": [
    "data.isnull().sum()/len(data)"
   ]
  },
  {
   "cell_type": "code",
   "execution_count": 10,
   "metadata": {},
   "outputs": [
    {
     "data": {
      "text/html": [
       "<div>\n",
       "<style scoped>\n",
       "    .dataframe tbody tr th:only-of-type {\n",
       "        vertical-align: middle;\n",
       "    }\n",
       "\n",
       "    .dataframe tbody tr th {\n",
       "        vertical-align: top;\n",
       "    }\n",
       "\n",
       "    .dataframe thead th {\n",
       "        text-align: right;\n",
       "    }\n",
       "</style>\n",
       "<table border=\"1\" class=\"dataframe\">\n",
       "  <thead>\n",
       "    <tr style=\"text-align: right;\">\n",
       "      <th></th>\n",
       "      <th>missing_values</th>\n",
       "      <th>%</th>\n",
       "    </tr>\n",
       "  </thead>\n",
       "  <tbody>\n",
       "    <tr>\n",
       "      <th>days_employed</th>\n",
       "      <td>2174</td>\n",
       "      <td>0.101</td>\n",
       "    </tr>\n",
       "    <tr>\n",
       "      <th>total_income</th>\n",
       "      <td>2174</td>\n",
       "      <td>0.101</td>\n",
       "    </tr>\n",
       "    <tr>\n",
       "      <th>children</th>\n",
       "      <td>0</td>\n",
       "      <td>0.000</td>\n",
       "    </tr>\n",
       "    <tr>\n",
       "      <th>dob_years</th>\n",
       "      <td>0</td>\n",
       "      <td>0.000</td>\n",
       "    </tr>\n",
       "    <tr>\n",
       "      <th>education</th>\n",
       "      <td>0</td>\n",
       "      <td>0.000</td>\n",
       "    </tr>\n",
       "    <tr>\n",
       "      <th>education_id</th>\n",
       "      <td>0</td>\n",
       "      <td>0.000</td>\n",
       "    </tr>\n",
       "    <tr>\n",
       "      <th>family_status</th>\n",
       "      <td>0</td>\n",
       "      <td>0.000</td>\n",
       "    </tr>\n",
       "    <tr>\n",
       "      <th>family_status_id</th>\n",
       "      <td>0</td>\n",
       "      <td>0.000</td>\n",
       "    </tr>\n",
       "    <tr>\n",
       "      <th>gender</th>\n",
       "      <td>0</td>\n",
       "      <td>0.000</td>\n",
       "    </tr>\n",
       "    <tr>\n",
       "      <th>income_type</th>\n",
       "      <td>0</td>\n",
       "      <td>0.000</td>\n",
       "    </tr>\n",
       "    <tr>\n",
       "      <th>debt</th>\n",
       "      <td>0</td>\n",
       "      <td>0.000</td>\n",
       "    </tr>\n",
       "    <tr>\n",
       "      <th>purpose</th>\n",
       "      <td>0</td>\n",
       "      <td>0.000</td>\n",
       "    </tr>\n",
       "  </tbody>\n",
       "</table>\n",
       "</div>"
      ],
      "text/plain": [
       "                  missing_values      %\n",
       "days_employed               2174  0.101\n",
       "total_income                2174  0.101\n",
       "children                       0  0.000\n",
       "dob_years                      0  0.000\n",
       "education                      0  0.000\n",
       "education_id                   0  0.000\n",
       "family_status                  0  0.000\n",
       "family_status_id               0  0.000\n",
       "gender                         0  0.000\n",
       "income_type                    0  0.000\n",
       "debt                           0  0.000\n",
       "purpose                        0  0.000"
      ]
     },
     "execution_count": 10,
     "metadata": {},
     "output_type": "execute_result"
    }
   ],
   "source": [
    "data_mis = data.isnull().sum().to_frame('missing_values')\n",
    "data_mis['%'] = round(data.isnull().sum()/len(data),3)\n",
    "data_mis.sort_values(by='%', ascending=False)"
   ]
  },
  {
   "cell_type": "code",
   "execution_count": 11,
   "metadata": {
    "scrolled": true
   },
   "outputs": [
    {
     "data": {
      "text/plain": [
       "count     19351.000000\n",
       "mean      63046.497661\n",
       "std      140827.311974\n",
       "min      -18388.949901\n",
       "25%       -2747.423625\n",
       "50%       -1203.369529\n",
       "75%        -291.095954\n",
       "max      401755.400475\n",
       "Name: days_employed, dtype: float64"
      ]
     },
     "execution_count": 11,
     "metadata": {},
     "output_type": "execute_result"
    }
   ],
   "source": [
    "data['days_employed'].describe()"
   ]
  },
  {
   "cell_type": "code",
   "execution_count": 12,
   "metadata": {},
   "outputs": [
    {
     "data": {
      "text/html": [
       "<div>\n",
       "<style scoped>\n",
       "    .dataframe tbody tr th:only-of-type {\n",
       "        vertical-align: middle;\n",
       "    }\n",
       "\n",
       "    .dataframe tbody tr th {\n",
       "        vertical-align: top;\n",
       "    }\n",
       "\n",
       "    .dataframe thead th {\n",
       "        text-align: right;\n",
       "    }\n",
       "</style>\n",
       "<table border=\"1\" class=\"dataframe\">\n",
       "  <thead>\n",
       "    <tr style=\"text-align: right;\">\n",
       "      <th></th>\n",
       "      <th>children</th>\n",
       "      <th>days_employed</th>\n",
       "      <th>dob_years</th>\n",
       "      <th>education</th>\n",
       "      <th>education_id</th>\n",
       "      <th>family_status</th>\n",
       "      <th>family_status_id</th>\n",
       "      <th>gender</th>\n",
       "      <th>income_type</th>\n",
       "      <th>debt</th>\n",
       "      <th>total_income</th>\n",
       "      <th>purpose</th>\n",
       "    </tr>\n",
       "  </thead>\n",
       "  <tbody>\n",
       "    <tr>\n",
       "      <th>12</th>\n",
       "      <td>0</td>\n",
       "      <td>NaN</td>\n",
       "      <td>65</td>\n",
       "      <td>secondary education</td>\n",
       "      <td>1</td>\n",
       "      <td>civil partnership</td>\n",
       "      <td>1</td>\n",
       "      <td>M</td>\n",
       "      <td>retiree</td>\n",
       "      <td>0</td>\n",
       "      <td>NaN</td>\n",
       "      <td>to have a wedding</td>\n",
       "    </tr>\n",
       "    <tr>\n",
       "      <th>26</th>\n",
       "      <td>0</td>\n",
       "      <td>NaN</td>\n",
       "      <td>41</td>\n",
       "      <td>secondary education</td>\n",
       "      <td>1</td>\n",
       "      <td>married</td>\n",
       "      <td>0</td>\n",
       "      <td>M</td>\n",
       "      <td>civil servant</td>\n",
       "      <td>0</td>\n",
       "      <td>NaN</td>\n",
       "      <td>education</td>\n",
       "    </tr>\n",
       "    <tr>\n",
       "      <th>29</th>\n",
       "      <td>0</td>\n",
       "      <td>NaN</td>\n",
       "      <td>63</td>\n",
       "      <td>secondary education</td>\n",
       "      <td>1</td>\n",
       "      <td>unmarried</td>\n",
       "      <td>4</td>\n",
       "      <td>F</td>\n",
       "      <td>retiree</td>\n",
       "      <td>0</td>\n",
       "      <td>NaN</td>\n",
       "      <td>building a real estate</td>\n",
       "    </tr>\n",
       "    <tr>\n",
       "      <th>41</th>\n",
       "      <td>0</td>\n",
       "      <td>NaN</td>\n",
       "      <td>50</td>\n",
       "      <td>secondary education</td>\n",
       "      <td>1</td>\n",
       "      <td>married</td>\n",
       "      <td>0</td>\n",
       "      <td>F</td>\n",
       "      <td>civil servant</td>\n",
       "      <td>0</td>\n",
       "      <td>NaN</td>\n",
       "      <td>second-hand car purchase</td>\n",
       "    </tr>\n",
       "    <tr>\n",
       "      <th>55</th>\n",
       "      <td>0</td>\n",
       "      <td>NaN</td>\n",
       "      <td>54</td>\n",
       "      <td>secondary education</td>\n",
       "      <td>1</td>\n",
       "      <td>civil partnership</td>\n",
       "      <td>1</td>\n",
       "      <td>F</td>\n",
       "      <td>retiree</td>\n",
       "      <td>1</td>\n",
       "      <td>NaN</td>\n",
       "      <td>to have a wedding</td>\n",
       "    </tr>\n",
       "    <tr>\n",
       "      <th>...</th>\n",
       "      <td>...</td>\n",
       "      <td>...</td>\n",
       "      <td>...</td>\n",
       "      <td>...</td>\n",
       "      <td>...</td>\n",
       "      <td>...</td>\n",
       "      <td>...</td>\n",
       "      <td>...</td>\n",
       "      <td>...</td>\n",
       "      <td>...</td>\n",
       "      <td>...</td>\n",
       "      <td>...</td>\n",
       "    </tr>\n",
       "    <tr>\n",
       "      <th>21489</th>\n",
       "      <td>2</td>\n",
       "      <td>NaN</td>\n",
       "      <td>47</td>\n",
       "      <td>Secondary Education</td>\n",
       "      <td>1</td>\n",
       "      <td>married</td>\n",
       "      <td>0</td>\n",
       "      <td>M</td>\n",
       "      <td>business</td>\n",
       "      <td>0</td>\n",
       "      <td>NaN</td>\n",
       "      <td>purchase of a car</td>\n",
       "    </tr>\n",
       "    <tr>\n",
       "      <th>21495</th>\n",
       "      <td>1</td>\n",
       "      <td>NaN</td>\n",
       "      <td>50</td>\n",
       "      <td>secondary education</td>\n",
       "      <td>1</td>\n",
       "      <td>civil partnership</td>\n",
       "      <td>1</td>\n",
       "      <td>F</td>\n",
       "      <td>employee</td>\n",
       "      <td>0</td>\n",
       "      <td>NaN</td>\n",
       "      <td>wedding ceremony</td>\n",
       "    </tr>\n",
       "    <tr>\n",
       "      <th>21497</th>\n",
       "      <td>0</td>\n",
       "      <td>NaN</td>\n",
       "      <td>48</td>\n",
       "      <td>BACHELOR'S DEGREE</td>\n",
       "      <td>0</td>\n",
       "      <td>married</td>\n",
       "      <td>0</td>\n",
       "      <td>F</td>\n",
       "      <td>business</td>\n",
       "      <td>0</td>\n",
       "      <td>NaN</td>\n",
       "      <td>building a property</td>\n",
       "    </tr>\n",
       "    <tr>\n",
       "      <th>21502</th>\n",
       "      <td>1</td>\n",
       "      <td>NaN</td>\n",
       "      <td>42</td>\n",
       "      <td>secondary education</td>\n",
       "      <td>1</td>\n",
       "      <td>married</td>\n",
       "      <td>0</td>\n",
       "      <td>F</td>\n",
       "      <td>employee</td>\n",
       "      <td>0</td>\n",
       "      <td>NaN</td>\n",
       "      <td>building a real estate</td>\n",
       "    </tr>\n",
       "    <tr>\n",
       "      <th>21510</th>\n",
       "      <td>2</td>\n",
       "      <td>NaN</td>\n",
       "      <td>28</td>\n",
       "      <td>secondary education</td>\n",
       "      <td>1</td>\n",
       "      <td>married</td>\n",
       "      <td>0</td>\n",
       "      <td>F</td>\n",
       "      <td>employee</td>\n",
       "      <td>0</td>\n",
       "      <td>NaN</td>\n",
       "      <td>car purchase</td>\n",
       "    </tr>\n",
       "  </tbody>\n",
       "</table>\n",
       "<p>2174 rows × 12 columns</p>\n",
       "</div>"
      ],
      "text/plain": [
       "       children  days_employed  dob_years            education  education_id  \\\n",
       "12            0            NaN         65  secondary education             1   \n",
       "26            0            NaN         41  secondary education             1   \n",
       "29            0            NaN         63  secondary education             1   \n",
       "41            0            NaN         50  secondary education             1   \n",
       "55            0            NaN         54  secondary education             1   \n",
       "...         ...            ...        ...                  ...           ...   \n",
       "21489         2            NaN         47  Secondary Education             1   \n",
       "21495         1            NaN         50  secondary education             1   \n",
       "21497         0            NaN         48    BACHELOR'S DEGREE             0   \n",
       "21502         1            NaN         42  secondary education             1   \n",
       "21510         2            NaN         28  secondary education             1   \n",
       "\n",
       "           family_status  family_status_id gender    income_type  debt  \\\n",
       "12     civil partnership                 1      M        retiree     0   \n",
       "26               married                 0      M  civil servant     0   \n",
       "29             unmarried                 4      F        retiree     0   \n",
       "41               married                 0      F  civil servant     0   \n",
       "55     civil partnership                 1      F        retiree     1   \n",
       "...                  ...               ...    ...            ...   ...   \n",
       "21489            married                 0      M       business     0   \n",
       "21495  civil partnership                 1      F       employee     0   \n",
       "21497            married                 0      F       business     0   \n",
       "21502            married                 0      F       employee     0   \n",
       "21510            married                 0      F       employee     0   \n",
       "\n",
       "       total_income                   purpose  \n",
       "12              NaN         to have a wedding  \n",
       "26              NaN                 education  \n",
       "29              NaN    building a real estate  \n",
       "41              NaN  second-hand car purchase  \n",
       "55              NaN         to have a wedding  \n",
       "...             ...                       ...  \n",
       "21489           NaN         purchase of a car  \n",
       "21495           NaN          wedding ceremony  \n",
       "21497           NaN       building a property  \n",
       "21502           NaN    building a real estate  \n",
       "21510           NaN              car purchase  \n",
       "\n",
       "[2174 rows x 12 columns]"
      ]
     },
     "execution_count": 12,
     "metadata": {},
     "output_type": "execute_result"
    }
   ],
   "source": [
    "data[(data.days_employed.isnull())]"
   ]
  },
  {
   "cell_type": "code",
   "execution_count": 13,
   "metadata": {},
   "outputs": [
    {
     "data": {
      "text/html": [
       "<div>\n",
       "<style scoped>\n",
       "    .dataframe tbody tr th:only-of-type {\n",
       "        vertical-align: middle;\n",
       "    }\n",
       "\n",
       "    .dataframe tbody tr th {\n",
       "        vertical-align: top;\n",
       "    }\n",
       "\n",
       "    .dataframe thead th {\n",
       "        text-align: right;\n",
       "    }\n",
       "</style>\n",
       "<table border=\"1\" class=\"dataframe\">\n",
       "  <thead>\n",
       "    <tr style=\"text-align: right;\">\n",
       "      <th></th>\n",
       "      <th>children</th>\n",
       "      <th>days_employed</th>\n",
       "      <th>dob_years</th>\n",
       "      <th>education</th>\n",
       "      <th>education_id</th>\n",
       "      <th>family_status</th>\n",
       "      <th>family_status_id</th>\n",
       "      <th>gender</th>\n",
       "      <th>income_type</th>\n",
       "      <th>debt</th>\n",
       "      <th>total_income</th>\n",
       "      <th>purpose</th>\n",
       "    </tr>\n",
       "  </thead>\n",
       "  <tbody>\n",
       "    <tr>\n",
       "      <th>12</th>\n",
       "      <td>0</td>\n",
       "      <td>NaN</td>\n",
       "      <td>65</td>\n",
       "      <td>secondary education</td>\n",
       "      <td>1</td>\n",
       "      <td>civil partnership</td>\n",
       "      <td>1</td>\n",
       "      <td>M</td>\n",
       "      <td>retiree</td>\n",
       "      <td>0</td>\n",
       "      <td>NaN</td>\n",
       "      <td>to have a wedding</td>\n",
       "    </tr>\n",
       "    <tr>\n",
       "      <th>26</th>\n",
       "      <td>0</td>\n",
       "      <td>NaN</td>\n",
       "      <td>41</td>\n",
       "      <td>secondary education</td>\n",
       "      <td>1</td>\n",
       "      <td>married</td>\n",
       "      <td>0</td>\n",
       "      <td>M</td>\n",
       "      <td>civil servant</td>\n",
       "      <td>0</td>\n",
       "      <td>NaN</td>\n",
       "      <td>education</td>\n",
       "    </tr>\n",
       "    <tr>\n",
       "      <th>29</th>\n",
       "      <td>0</td>\n",
       "      <td>NaN</td>\n",
       "      <td>63</td>\n",
       "      <td>secondary education</td>\n",
       "      <td>1</td>\n",
       "      <td>unmarried</td>\n",
       "      <td>4</td>\n",
       "      <td>F</td>\n",
       "      <td>retiree</td>\n",
       "      <td>0</td>\n",
       "      <td>NaN</td>\n",
       "      <td>building a real estate</td>\n",
       "    </tr>\n",
       "    <tr>\n",
       "      <th>41</th>\n",
       "      <td>0</td>\n",
       "      <td>NaN</td>\n",
       "      <td>50</td>\n",
       "      <td>secondary education</td>\n",
       "      <td>1</td>\n",
       "      <td>married</td>\n",
       "      <td>0</td>\n",
       "      <td>F</td>\n",
       "      <td>civil servant</td>\n",
       "      <td>0</td>\n",
       "      <td>NaN</td>\n",
       "      <td>second-hand car purchase</td>\n",
       "    </tr>\n",
       "    <tr>\n",
       "      <th>55</th>\n",
       "      <td>0</td>\n",
       "      <td>NaN</td>\n",
       "      <td>54</td>\n",
       "      <td>secondary education</td>\n",
       "      <td>1</td>\n",
       "      <td>civil partnership</td>\n",
       "      <td>1</td>\n",
       "      <td>F</td>\n",
       "      <td>retiree</td>\n",
       "      <td>1</td>\n",
       "      <td>NaN</td>\n",
       "      <td>to have a wedding</td>\n",
       "    </tr>\n",
       "    <tr>\n",
       "      <th>...</th>\n",
       "      <td>...</td>\n",
       "      <td>...</td>\n",
       "      <td>...</td>\n",
       "      <td>...</td>\n",
       "      <td>...</td>\n",
       "      <td>...</td>\n",
       "      <td>...</td>\n",
       "      <td>...</td>\n",
       "      <td>...</td>\n",
       "      <td>...</td>\n",
       "      <td>...</td>\n",
       "      <td>...</td>\n",
       "    </tr>\n",
       "    <tr>\n",
       "      <th>21489</th>\n",
       "      <td>2</td>\n",
       "      <td>NaN</td>\n",
       "      <td>47</td>\n",
       "      <td>Secondary Education</td>\n",
       "      <td>1</td>\n",
       "      <td>married</td>\n",
       "      <td>0</td>\n",
       "      <td>M</td>\n",
       "      <td>business</td>\n",
       "      <td>0</td>\n",
       "      <td>NaN</td>\n",
       "      <td>purchase of a car</td>\n",
       "    </tr>\n",
       "    <tr>\n",
       "      <th>21495</th>\n",
       "      <td>1</td>\n",
       "      <td>NaN</td>\n",
       "      <td>50</td>\n",
       "      <td>secondary education</td>\n",
       "      <td>1</td>\n",
       "      <td>civil partnership</td>\n",
       "      <td>1</td>\n",
       "      <td>F</td>\n",
       "      <td>employee</td>\n",
       "      <td>0</td>\n",
       "      <td>NaN</td>\n",
       "      <td>wedding ceremony</td>\n",
       "    </tr>\n",
       "    <tr>\n",
       "      <th>21497</th>\n",
       "      <td>0</td>\n",
       "      <td>NaN</td>\n",
       "      <td>48</td>\n",
       "      <td>BACHELOR'S DEGREE</td>\n",
       "      <td>0</td>\n",
       "      <td>married</td>\n",
       "      <td>0</td>\n",
       "      <td>F</td>\n",
       "      <td>business</td>\n",
       "      <td>0</td>\n",
       "      <td>NaN</td>\n",
       "      <td>building a property</td>\n",
       "    </tr>\n",
       "    <tr>\n",
       "      <th>21502</th>\n",
       "      <td>1</td>\n",
       "      <td>NaN</td>\n",
       "      <td>42</td>\n",
       "      <td>secondary education</td>\n",
       "      <td>1</td>\n",
       "      <td>married</td>\n",
       "      <td>0</td>\n",
       "      <td>F</td>\n",
       "      <td>employee</td>\n",
       "      <td>0</td>\n",
       "      <td>NaN</td>\n",
       "      <td>building a real estate</td>\n",
       "    </tr>\n",
       "    <tr>\n",
       "      <th>21510</th>\n",
       "      <td>2</td>\n",
       "      <td>NaN</td>\n",
       "      <td>28</td>\n",
       "      <td>secondary education</td>\n",
       "      <td>1</td>\n",
       "      <td>married</td>\n",
       "      <td>0</td>\n",
       "      <td>F</td>\n",
       "      <td>employee</td>\n",
       "      <td>0</td>\n",
       "      <td>NaN</td>\n",
       "      <td>car purchase</td>\n",
       "    </tr>\n",
       "  </tbody>\n",
       "</table>\n",
       "<p>2174 rows × 12 columns</p>\n",
       "</div>"
      ],
      "text/plain": [
       "       children  days_employed  dob_years            education  education_id  \\\n",
       "12            0            NaN         65  secondary education             1   \n",
       "26            0            NaN         41  secondary education             1   \n",
       "29            0            NaN         63  secondary education             1   \n",
       "41            0            NaN         50  secondary education             1   \n",
       "55            0            NaN         54  secondary education             1   \n",
       "...         ...            ...        ...                  ...           ...   \n",
       "21489         2            NaN         47  Secondary Education             1   \n",
       "21495         1            NaN         50  secondary education             1   \n",
       "21497         0            NaN         48    BACHELOR'S DEGREE             0   \n",
       "21502         1            NaN         42  secondary education             1   \n",
       "21510         2            NaN         28  secondary education             1   \n",
       "\n",
       "           family_status  family_status_id gender    income_type  debt  \\\n",
       "12     civil partnership                 1      M        retiree     0   \n",
       "26               married                 0      M  civil servant     0   \n",
       "29             unmarried                 4      F        retiree     0   \n",
       "41               married                 0      F  civil servant     0   \n",
       "55     civil partnership                 1      F        retiree     1   \n",
       "...                  ...               ...    ...            ...   ...   \n",
       "21489            married                 0      M       business     0   \n",
       "21495  civil partnership                 1      F       employee     0   \n",
       "21497            married                 0      F       business     0   \n",
       "21502            married                 0      F       employee     0   \n",
       "21510            married                 0      F       employee     0   \n",
       "\n",
       "       total_income                   purpose  \n",
       "12              NaN         to have a wedding  \n",
       "26              NaN                 education  \n",
       "29              NaN    building a real estate  \n",
       "41              NaN  second-hand car purchase  \n",
       "55              NaN         to have a wedding  \n",
       "...             ...                       ...  \n",
       "21489           NaN         purchase of a car  \n",
       "21495           NaN          wedding ceremony  \n",
       "21497           NaN       building a property  \n",
       "21502           NaN    building a real estate  \n",
       "21510           NaN              car purchase  \n",
       "\n",
       "[2174 rows x 12 columns]"
      ]
     },
     "execution_count": 13,
     "metadata": {},
     "output_type": "execute_result"
    }
   ],
   "source": [
    "data[(data.total_income.isnull())]"
   ]
  },
  {
   "cell_type": "code",
   "execution_count": 14,
   "metadata": {},
   "outputs": [
    {
     "data": {
      "text/html": [
       "<div>\n",
       "<style scoped>\n",
       "    .dataframe tbody tr th:only-of-type {\n",
       "        vertical-align: middle;\n",
       "    }\n",
       "\n",
       "    .dataframe tbody tr th {\n",
       "        vertical-align: top;\n",
       "    }\n",
       "\n",
       "    .dataframe thead th {\n",
       "        text-align: right;\n",
       "    }\n",
       "</style>\n",
       "<table border=\"1\" class=\"dataframe\">\n",
       "  <thead>\n",
       "    <tr style=\"text-align: right;\">\n",
       "      <th></th>\n",
       "      <th>children</th>\n",
       "      <th>days_employed</th>\n",
       "      <th>dob_years</th>\n",
       "      <th>education</th>\n",
       "      <th>education_id</th>\n",
       "      <th>family_status</th>\n",
       "      <th>family_status_id</th>\n",
       "      <th>gender</th>\n",
       "      <th>income_type</th>\n",
       "      <th>debt</th>\n",
       "      <th>total_income</th>\n",
       "      <th>purpose</th>\n",
       "    </tr>\n",
       "  </thead>\n",
       "  <tbody>\n",
       "    <tr>\n",
       "      <th>12</th>\n",
       "      <td>0</td>\n",
       "      <td>NaN</td>\n",
       "      <td>65</td>\n",
       "      <td>secondary education</td>\n",
       "      <td>1</td>\n",
       "      <td>civil partnership</td>\n",
       "      <td>1</td>\n",
       "      <td>M</td>\n",
       "      <td>retiree</td>\n",
       "      <td>0</td>\n",
       "      <td>NaN</td>\n",
       "      <td>to have a wedding</td>\n",
       "    </tr>\n",
       "    <tr>\n",
       "      <th>26</th>\n",
       "      <td>0</td>\n",
       "      <td>NaN</td>\n",
       "      <td>41</td>\n",
       "      <td>secondary education</td>\n",
       "      <td>1</td>\n",
       "      <td>married</td>\n",
       "      <td>0</td>\n",
       "      <td>M</td>\n",
       "      <td>civil servant</td>\n",
       "      <td>0</td>\n",
       "      <td>NaN</td>\n",
       "      <td>education</td>\n",
       "    </tr>\n",
       "    <tr>\n",
       "      <th>29</th>\n",
       "      <td>0</td>\n",
       "      <td>NaN</td>\n",
       "      <td>63</td>\n",
       "      <td>secondary education</td>\n",
       "      <td>1</td>\n",
       "      <td>unmarried</td>\n",
       "      <td>4</td>\n",
       "      <td>F</td>\n",
       "      <td>retiree</td>\n",
       "      <td>0</td>\n",
       "      <td>NaN</td>\n",
       "      <td>building a real estate</td>\n",
       "    </tr>\n",
       "    <tr>\n",
       "      <th>41</th>\n",
       "      <td>0</td>\n",
       "      <td>NaN</td>\n",
       "      <td>50</td>\n",
       "      <td>secondary education</td>\n",
       "      <td>1</td>\n",
       "      <td>married</td>\n",
       "      <td>0</td>\n",
       "      <td>F</td>\n",
       "      <td>civil servant</td>\n",
       "      <td>0</td>\n",
       "      <td>NaN</td>\n",
       "      <td>second-hand car purchase</td>\n",
       "    </tr>\n",
       "    <tr>\n",
       "      <th>55</th>\n",
       "      <td>0</td>\n",
       "      <td>NaN</td>\n",
       "      <td>54</td>\n",
       "      <td>secondary education</td>\n",
       "      <td>1</td>\n",
       "      <td>civil partnership</td>\n",
       "      <td>1</td>\n",
       "      <td>F</td>\n",
       "      <td>retiree</td>\n",
       "      <td>1</td>\n",
       "      <td>NaN</td>\n",
       "      <td>to have a wedding</td>\n",
       "    </tr>\n",
       "    <tr>\n",
       "      <th>...</th>\n",
       "      <td>...</td>\n",
       "      <td>...</td>\n",
       "      <td>...</td>\n",
       "      <td>...</td>\n",
       "      <td>...</td>\n",
       "      <td>...</td>\n",
       "      <td>...</td>\n",
       "      <td>...</td>\n",
       "      <td>...</td>\n",
       "      <td>...</td>\n",
       "      <td>...</td>\n",
       "      <td>...</td>\n",
       "    </tr>\n",
       "    <tr>\n",
       "      <th>21489</th>\n",
       "      <td>2</td>\n",
       "      <td>NaN</td>\n",
       "      <td>47</td>\n",
       "      <td>Secondary Education</td>\n",
       "      <td>1</td>\n",
       "      <td>married</td>\n",
       "      <td>0</td>\n",
       "      <td>M</td>\n",
       "      <td>business</td>\n",
       "      <td>0</td>\n",
       "      <td>NaN</td>\n",
       "      <td>purchase of a car</td>\n",
       "    </tr>\n",
       "    <tr>\n",
       "      <th>21495</th>\n",
       "      <td>1</td>\n",
       "      <td>NaN</td>\n",
       "      <td>50</td>\n",
       "      <td>secondary education</td>\n",
       "      <td>1</td>\n",
       "      <td>civil partnership</td>\n",
       "      <td>1</td>\n",
       "      <td>F</td>\n",
       "      <td>employee</td>\n",
       "      <td>0</td>\n",
       "      <td>NaN</td>\n",
       "      <td>wedding ceremony</td>\n",
       "    </tr>\n",
       "    <tr>\n",
       "      <th>21497</th>\n",
       "      <td>0</td>\n",
       "      <td>NaN</td>\n",
       "      <td>48</td>\n",
       "      <td>BACHELOR'S DEGREE</td>\n",
       "      <td>0</td>\n",
       "      <td>married</td>\n",
       "      <td>0</td>\n",
       "      <td>F</td>\n",
       "      <td>business</td>\n",
       "      <td>0</td>\n",
       "      <td>NaN</td>\n",
       "      <td>building a property</td>\n",
       "    </tr>\n",
       "    <tr>\n",
       "      <th>21502</th>\n",
       "      <td>1</td>\n",
       "      <td>NaN</td>\n",
       "      <td>42</td>\n",
       "      <td>secondary education</td>\n",
       "      <td>1</td>\n",
       "      <td>married</td>\n",
       "      <td>0</td>\n",
       "      <td>F</td>\n",
       "      <td>employee</td>\n",
       "      <td>0</td>\n",
       "      <td>NaN</td>\n",
       "      <td>building a real estate</td>\n",
       "    </tr>\n",
       "    <tr>\n",
       "      <th>21510</th>\n",
       "      <td>2</td>\n",
       "      <td>NaN</td>\n",
       "      <td>28</td>\n",
       "      <td>secondary education</td>\n",
       "      <td>1</td>\n",
       "      <td>married</td>\n",
       "      <td>0</td>\n",
       "      <td>F</td>\n",
       "      <td>employee</td>\n",
       "      <td>0</td>\n",
       "      <td>NaN</td>\n",
       "      <td>car purchase</td>\n",
       "    </tr>\n",
       "  </tbody>\n",
       "</table>\n",
       "<p>2174 rows × 12 columns</p>\n",
       "</div>"
      ],
      "text/plain": [
       "       children  days_employed  dob_years            education  education_id  \\\n",
       "12            0            NaN         65  secondary education             1   \n",
       "26            0            NaN         41  secondary education             1   \n",
       "29            0            NaN         63  secondary education             1   \n",
       "41            0            NaN         50  secondary education             1   \n",
       "55            0            NaN         54  secondary education             1   \n",
       "...         ...            ...        ...                  ...           ...   \n",
       "21489         2            NaN         47  Secondary Education             1   \n",
       "21495         1            NaN         50  secondary education             1   \n",
       "21497         0            NaN         48    BACHELOR'S DEGREE             0   \n",
       "21502         1            NaN         42  secondary education             1   \n",
       "21510         2            NaN         28  secondary education             1   \n",
       "\n",
       "           family_status  family_status_id gender    income_type  debt  \\\n",
       "12     civil partnership                 1      M        retiree     0   \n",
       "26               married                 0      M  civil servant     0   \n",
       "29             unmarried                 4      F        retiree     0   \n",
       "41               married                 0      F  civil servant     0   \n",
       "55     civil partnership                 1      F        retiree     1   \n",
       "...                  ...               ...    ...            ...   ...   \n",
       "21489            married                 0      M       business     0   \n",
       "21495  civil partnership                 1      F       employee     0   \n",
       "21497            married                 0      F       business     0   \n",
       "21502            married                 0      F       employee     0   \n",
       "21510            married                 0      F       employee     0   \n",
       "\n",
       "       total_income                   purpose  \n",
       "12              NaN         to have a wedding  \n",
       "26              NaN                 education  \n",
       "29              NaN    building a real estate  \n",
       "41              NaN  second-hand car purchase  \n",
       "55              NaN         to have a wedding  \n",
       "...             ...                       ...  \n",
       "21489           NaN         purchase of a car  \n",
       "21495           NaN          wedding ceremony  \n",
       "21497           NaN       building a property  \n",
       "21502           NaN    building a real estate  \n",
       "21510           NaN              car purchase  \n",
       "\n",
       "[2174 rows x 12 columns]"
      ]
     },
     "execution_count": 14,
     "metadata": {},
     "output_type": "execute_result"
    }
   ],
   "source": [
    "\n",
    "data[(data.days_employed.isnull()) & (data.total_income.isnull())]\n"
   ]
  },
  {
   "cell_type": "markdown",
   "metadata": {},
   "source": [
    "**Intermediate conclusion**\n",
    "\n",
    "[Does the number of rows in the filtered table match the number of missing values? What conclusion can we make from this?]\n",
    "\n",
    "[Calculate the percentage of the missing values compared to the whole dataset. Is it a considerably large piece of data? If so, you may want to fill the missing values. To do that, firstly we should consider whether the missing data could be due to the specific client characteristic, such as employment type or something else. You will need to decide which characteristic *you* think might be the reason. Secondly, we should check whether there's any dependence missing values have on the value of other indicators with the columns with identified specific client characteristic.]\n",
    "\n",
    "[Explain your next steps and how they correlate with the conclusions you made so far.]"
   ]
  },
  {
   "cell_type": "markdown",
   "metadata": {},
   "source": [
    "**The number of rows in the filtered table match the number of missing values. Thats mean that missin values are resolt of specific client characteristi and wee should invistigate them.**\n",
    "\n",
    "**There are 10% of missing values. It is large piece of data and wee should fill the missing values.**"
   ]
  },
  {
   "cell_type": "markdown",
   "metadata": {},
   "source": [
    " Let's investigate clients who do not have data on identified characteristic and the column with the missing values"
   ]
  },
  {
   "cell_type": "code",
   "execution_count": 15,
   "metadata": {},
   "outputs": [
    {
     "data": {
      "text/plain": [
       "secondary education    12342\n",
       "bachelor's degree       4222\n",
       "SECONDARY EDUCATION      705\n",
       "Secondary Education      646\n",
       "some college             613\n",
       "BACHELOR'S DEGREE        251\n",
       "Bachelor's Degree        243\n",
       "primary education        231\n",
       "Some College              40\n",
       "SOME COLLEGE              22\n",
       "PRIMARY EDUCATION         16\n",
       "Primary Education         14\n",
       "graduate degree            4\n",
       "Graduate Degree            1\n",
       "GRADUATE DEGREE            1\n",
       "Name: education, dtype: int64"
      ]
     },
     "execution_count": 15,
     "metadata": {},
     "output_type": "execute_result"
    }
   ],
   "source": [
    "\n",
    "data[data.days_employed.notna()]['education'].value_counts()\n"
   ]
  },
  {
   "cell_type": "code",
   "execution_count": 16,
   "metadata": {},
   "outputs": [
    {
     "data": {
      "text/plain": [
       "secondary education    1408\n",
       "bachelor's degree       496\n",
       "SECONDARY EDUCATION      67\n",
       "Secondary Education      65\n",
       "some college             55\n",
       "Bachelor's Degree        25\n",
       "BACHELOR'S DEGREE        23\n",
       "primary education        19\n",
       "Some College              7\n",
       "SOME COLLEGE              7\n",
       "Primary Education         1\n",
       "PRIMARY EDUCATION         1\n",
       "Name: education, dtype: int64"
      ]
     },
     "execution_count": 16,
     "metadata": {},
     "output_type": "execute_result"
    }
   ],
   "source": [
    "\n",
    "data[data.days_employed.isnull()]['education'].value_counts()\n"
   ]
  },
  {
   "cell_type": "markdown",
   "metadata": {},
   "source": [
    "**Wee shold check if the level of education is connected to default on a loan**"
   ]
  },
  {
   "cell_type": "markdown",
   "metadata": {},
   "source": [
    "[Describe your findings here.]\n",
    "\n",
    "**Possible reasons for missing values in data**\n",
    "\n",
    "[Propose your ideas on why you think the values might be missing. Do you think they are missing randomly or there are any patterns?]\n",
    "\n",
    "[Let's start checking whether the missing values are random.]"
   ]
  },
  {
   "cell_type": "code",
   "execution_count": 17,
   "metadata": {},
   "outputs": [
    {
     "data": {
      "text/plain": [
       "married              1237\n",
       "civil partnership     442\n",
       "unmarried             288\n",
       "divorced              112\n",
       "widow / widower        95\n",
       "Name: family_status, dtype: int64"
      ]
     },
     "execution_count": 17,
     "metadata": {},
     "output_type": "execute_result"
    }
   ],
   "source": [
    "data[data.days_employed.isnull()]['family_status'].value_counts()"
   ]
  },
  {
   "cell_type": "code",
   "execution_count": 18,
   "metadata": {},
   "outputs": [
    {
     "data": {
      "text/plain": [
       "employee         1105\n",
       "business          508\n",
       "retiree           413\n",
       "civil servant     147\n",
       "entrepreneur        1\n",
       "Name: income_type, dtype: int64"
      ]
     },
     "execution_count": 18,
     "metadata": {},
     "output_type": "execute_result"
    }
   ],
   "source": [
    "data[data.days_employed.isnull()]['income_type'].value_counts()"
   ]
  },
  {
   "cell_type": "code",
   "execution_count": 19,
   "metadata": {},
   "outputs": [
    {
     "data": {
      "text/plain": [
       "secondary education    1408\n",
       "bachelor's degree       496\n",
       "SECONDARY EDUCATION      67\n",
       "Secondary Education      65\n",
       "some college             55\n",
       "Bachelor's Degree        25\n",
       "BACHELOR'S DEGREE        23\n",
       "primary education        19\n",
       "Some College              7\n",
       "SOME COLLEGE              7\n",
       "Primary Education         1\n",
       "PRIMARY EDUCATION         1\n",
       "Name: education, dtype: int64"
      ]
     },
     "execution_count": 19,
     "metadata": {},
     "output_type": "execute_result"
    }
   ],
   "source": [
    "data[data.days_employed.isnull()]['education'].value_counts()"
   ]
  },
  {
   "cell_type": "code",
   "execution_count": 20,
   "metadata": {},
   "outputs": [
    {
     "data": {
      "text/plain": [
       "married              1237\n",
       "civil partnership     442\n",
       "unmarried             288\n",
       "divorced              112\n",
       "widow / widower        95\n",
       "Name: family_status, dtype: int64"
      ]
     },
     "execution_count": 20,
     "metadata": {},
     "output_type": "execute_result"
    }
   ],
   "source": [
    "data[data.total_income.isnull()]['family_status'].value_counts()"
   ]
  },
  {
   "cell_type": "code",
   "execution_count": 21,
   "metadata": {},
   "outputs": [
    {
     "data": {
      "text/plain": [
       "employee         1105\n",
       "business          508\n",
       "retiree           413\n",
       "civil servant     147\n",
       "entrepreneur        1\n",
       "Name: income_type, dtype: int64"
      ]
     },
     "execution_count": 21,
     "metadata": {},
     "output_type": "execute_result"
    }
   ],
   "source": [
    "data[data.total_income.isnull()]['income_type'].value_counts()"
   ]
  },
  {
   "cell_type": "code",
   "execution_count": 22,
   "metadata": {},
   "outputs": [
    {
     "data": {
      "text/plain": [
       "secondary education    1408\n",
       "bachelor's degree       496\n",
       "SECONDARY EDUCATION      67\n",
       "Secondary Education      65\n",
       "some college             55\n",
       "Bachelor's Degree        25\n",
       "BACHELOR'S DEGREE        23\n",
       "primary education        19\n",
       "Some College              7\n",
       "SOME COLLEGE              7\n",
       "Primary Education         1\n",
       "PRIMARY EDUCATION         1\n",
       "Name: education, dtype: int64"
      ]
     },
     "execution_count": 22,
     "metadata": {},
     "output_type": "execute_result"
    }
   ],
   "source": [
    "data[data.total_income.isnull()]['education'].value_counts()"
   ]
  },
  {
   "cell_type": "markdown",
   "metadata": {},
   "source": [
    "Checking the distribution in the whole dataset"
   ]
  },
  {
   "cell_type": "code",
   "execution_count": 23,
   "metadata": {},
   "outputs": [
    {
     "data": {
      "text/plain": [
       "married              12380\n",
       "civil partnership     4177\n",
       "unmarried             2813\n",
       "divorced              1195\n",
       "widow / widower        960\n",
       "Name: family_status, dtype: int64"
      ]
     },
     "execution_count": 23,
     "metadata": {},
     "output_type": "execute_result"
    }
   ],
   "source": [
    "\n",
    "data['family_status'].value_counts()\n"
   ]
  },
  {
   "cell_type": "code",
   "execution_count": 24,
   "metadata": {},
   "outputs": [
    {
     "data": {
      "text/plain": [
       "married              0.575145\n",
       "civil partnership    0.194053\n",
       "unmarried            0.130685\n",
       "divorced             0.055517\n",
       "widow / widower      0.044599\n",
       "Name: family_status, dtype: float64"
      ]
     },
     "execution_count": 24,
     "metadata": {},
     "output_type": "execute_result"
    }
   ],
   "source": [
    "data['family_status'].value_counts()/len(data)"
   ]
  },
  {
   "cell_type": "code",
   "execution_count": 25,
   "metadata": {},
   "outputs": [
    {
     "data": {
      "text/plain": [
       "employee                       11119\n",
       "business                        5085\n",
       "retiree                         3856\n",
       "civil servant                   1459\n",
       "unemployed                         2\n",
       "entrepreneur                       2\n",
       "student                            1\n",
       "paternity / maternity leave        1\n",
       "Name: income_type, dtype: int64"
      ]
     },
     "execution_count": 25,
     "metadata": {},
     "output_type": "execute_result"
    }
   ],
   "source": [
    "data['income_type'].value_counts()"
   ]
  },
  {
   "cell_type": "code",
   "execution_count": 26,
   "metadata": {},
   "outputs": [
    {
     "data": {
      "text/plain": [
       "employee                       0.516562\n",
       "business                       0.236237\n",
       "retiree                        0.179141\n",
       "civil servant                  0.067782\n",
       "unemployed                     0.000093\n",
       "entrepreneur                   0.000093\n",
       "student                        0.000046\n",
       "paternity / maternity leave    0.000046\n",
       "Name: income_type, dtype: float64"
      ]
     },
     "execution_count": 26,
     "metadata": {},
     "output_type": "execute_result"
    }
   ],
   "source": [
    "data['income_type'].value_counts()/len(data)"
   ]
  },
  {
   "cell_type": "code",
   "execution_count": 27,
   "metadata": {},
   "outputs": [
    {
     "data": {
      "text/plain": [
       "secondary education    13750\n",
       "bachelor's degree       4718\n",
       "SECONDARY EDUCATION      772\n",
       "Secondary Education      711\n",
       "some college             668\n",
       "BACHELOR'S DEGREE        274\n",
       "Bachelor's Degree        268\n",
       "primary education        250\n",
       "Some College              47\n",
       "SOME COLLEGE              29\n",
       "PRIMARY EDUCATION         17\n",
       "Primary Education         15\n",
       "graduate degree            4\n",
       "Graduate Degree            1\n",
       "GRADUATE DEGREE            1\n",
       "Name: education, dtype: int64"
      ]
     },
     "execution_count": 27,
     "metadata": {},
     "output_type": "execute_result"
    }
   ],
   "source": [
    "data['education'].value_counts()"
   ]
  },
  {
   "cell_type": "code",
   "execution_count": 28,
   "metadata": {},
   "outputs": [
    {
     "data": {
      "text/plain": [
       "secondary education    0.638792\n",
       "bachelor's degree      0.219187\n",
       "SECONDARY EDUCATION    0.035865\n",
       "Secondary Education    0.033031\n",
       "some college           0.031034\n",
       "BACHELOR'S DEGREE      0.012729\n",
       "Bachelor's Degree      0.012451\n",
       "primary education      0.011614\n",
       "Some College           0.002184\n",
       "SOME COLLEGE           0.001347\n",
       "PRIMARY EDUCATION      0.000790\n",
       "Primary Education      0.000697\n",
       "graduate degree        0.000186\n",
       "Graduate Degree        0.000046\n",
       "GRADUATE DEGREE        0.000046\n",
       "Name: education, dtype: float64"
      ]
     },
     "execution_count": 28,
     "metadata": {},
     "output_type": "execute_result"
    }
   ],
   "source": [
    "data['education'].value_counts()/len(data)"
   ]
  },
  {
   "cell_type": "markdown",
   "metadata": {},
   "source": [
    "**Intermediate conclusion**\n",
    "\n",
    "[Is the distribution in the original dataset similar to the distribution of the filtered table? What does that mean for us?]\n",
    "\n",
    "[If you think we can't make any conclusions yet, let's investigate our dataset further. Let's think about other reasons that could lead to data missing and check if we can find any patterns that may lead us to thinking that the missing values are not random. Because this is your work, this is section is optional.]"
   ]
  },
  {
   "cell_type": "markdown",
   "metadata": {},
   "source": [
    "**The distribution in the original dataset similar to the distribution of the filtered table. The missing values are not random.Maybe : family_status, income_type and education are reasons that could lead to data missing.**"
   ]
  },
  {
   "cell_type": "markdown",
   "metadata": {},
   "source": [
    "**Intermediate conclusion**\n",
    "\n",
    "[Can we finally confirm that missing values are accidental? Check for anything else that you think might be important here.]"
   ]
  },
  {
   "cell_type": "markdown",
   "metadata": {},
   "source": [
    "**Conclusions**\n",
    "\n",
    "[Did you find any patterns? How did you come to this conclusion?]\n",
    "\n",
    "[Explain how you will address the missing values. Consider the categories in which values are missing.]\n",
    "\n",
    "[Briefly plan your next steps for transforming data. You will probably need to address different types of issues: duplicates, different registers, incorrect artifacts, and missing values.]"
   ]
  },
  {
   "cell_type": "markdown",
   "metadata": {},
   "source": [
    "## Data transformation\n",
    "\n",
    "[Let's go through each column to see what issues we may have in them.]\n",
    "\n",
    "[Begin with removing duplicates and fixing educational information if required.]"
   ]
  },
  {
   "cell_type": "markdown",
   "metadata": {},
   "source": [
    " Let's see all values in education column to check if and what spellings will need to be fixed"
   ]
  },
  {
   "cell_type": "code",
   "execution_count": 29,
   "metadata": {},
   "outputs": [
    {
     "data": {
      "text/plain": [
       "array([\"bachelor's degree\", 'secondary education', 'Secondary Education',\n",
       "       'SECONDARY EDUCATION', \"BACHELOR'S DEGREE\", 'some college',\n",
       "       'primary education', \"Bachelor's Degree\", 'SOME COLLEGE',\n",
       "       'Some College', 'PRIMARY EDUCATION', 'Primary Education',\n",
       "       'Graduate Degree', 'GRADUATE DEGREE', 'graduate degree'],\n",
       "      dtype=object)"
      ]
     },
     "execution_count": 29,
     "metadata": {},
     "output_type": "execute_result"
    }
   ],
   "source": [
    "\n",
    "data['education'].unique()"
   ]
  },
  {
   "cell_type": "markdown",
   "metadata": {},
   "source": [
    "Fixing the registers"
   ]
  },
  {
   "cell_type": "code",
   "execution_count": 30,
   "metadata": {
    "scrolled": true
   },
   "outputs": [
    {
     "data": {
      "text/plain": [
       "0          bachelor's degree\n",
       "1        secondary education\n",
       "2        secondary education\n",
       "3        secondary education\n",
       "4        secondary education\n",
       "                ...         \n",
       "21520    secondary education\n",
       "21521    secondary education\n",
       "21522    secondary education\n",
       "21523    secondary education\n",
       "21524    secondary education\n",
       "Name: education, Length: 21525, dtype: object"
      ]
     },
     "execution_count": 30,
     "metadata": {},
     "output_type": "execute_result"
    }
   ],
   "source": [
    "\n",
    "data['education'].str.lower()"
   ]
  },
  {
   "cell_type": "code",
   "execution_count": 31,
   "metadata": {},
   "outputs": [],
   "source": [
    "data['education'] = data['education'].str.lower()"
   ]
  },
  {
   "cell_type": "markdown",
   "metadata": {},
   "source": [
    "Checking all the values in the column to make sure we fixed them"
   ]
  },
  {
   "cell_type": "code",
   "execution_count": 32,
   "metadata": {},
   "outputs": [
    {
     "data": {
      "text/plain": [
       "array([\"bachelor's degree\", 'secondary education', 'some college',\n",
       "       'primary education', 'graduate degree'], dtype=object)"
      ]
     },
     "execution_count": 32,
     "metadata": {},
     "output_type": "execute_result"
    }
   ],
   "source": [
    "\n",
    "\n",
    "data['education'].unique()"
   ]
  },
  {
   "cell_type": "markdown",
   "metadata": {},
   "source": [
    "[Check the data the `children` column]"
   ]
  },
  {
   "cell_type": "markdown",
   "metadata": {},
   "source": [
    "Let's see the distribution of values in the `children` column"
   ]
  },
  {
   "cell_type": "code",
   "execution_count": 33,
   "metadata": {},
   "outputs": [
    {
     "data": {
      "text/plain": [
       "array([ 1,  0,  3,  2, -1,  4, 20,  5], dtype=int64)"
      ]
     },
     "execution_count": 33,
     "metadata": {},
     "output_type": "execute_result"
    }
   ],
   "source": [
    "\n",
    "data['children'].unique()"
   ]
  },
  {
   "cell_type": "markdown",
   "metadata": {},
   "source": [
    " Let's fix the data"
   ]
  },
  {
   "cell_type": "code",
   "execution_count": 34,
   "metadata": {},
   "outputs": [],
   "source": [
    "\n",
    "data['children'] = data['children'].replace(-1, 1)\n",
    "data['children'] = data['children'].replace(20, 2)"
   ]
  },
  {
   "cell_type": "markdown",
   "metadata": {},
   "source": [
    "Checking the `children` column again to make sure it's all fixed"
   ]
  },
  {
   "cell_type": "code",
   "execution_count": 35,
   "metadata": {},
   "outputs": [
    {
     "data": {
      "text/plain": [
       "array([1, 0, 3, 2, 4, 5], dtype=int64)"
      ]
     },
     "execution_count": 35,
     "metadata": {},
     "output_type": "execute_result"
    }
   ],
   "source": [
    "\n",
    "data['children'].unique()\n"
   ]
  },
  {
   "cell_type": "markdown",
   "metadata": {},
   "source": [
    "[Check the data in the `days_employed` column. Firstly think about what kind of issues could there be and what you may want to check and how you will do it.]"
   ]
  },
  {
   "cell_type": "markdown",
   "metadata": {},
   "source": [
    "Find problematic data in `days_employed"
   ]
  },
  {
   "cell_type": "code",
   "execution_count": 36,
   "metadata": {},
   "outputs": [
    {
     "data": {
      "text/plain": [
       "array([-8437.67302776, -4024.80375385, -5623.42261023, ...,\n",
       "       -2113.3468877 , -3112.4817052 , -1984.50758853])"
      ]
     },
     "execution_count": 36,
     "metadata": {},
     "output_type": "execute_result"
    }
   ],
   "source": [
    "\n",
    "data['days_employed'].unique()"
   ]
  },
  {
   "cell_type": "markdown",
   "metadata": {},
   "source": [
    "[If the amount of problematic data is high, it could've been due to some technical issues. We may probably want to propose the most obvious reason why it could've happened and what the correct data might've been, as we can't drop these problematic rows.]"
   ]
  },
  {
   "cell_type": "markdown",
   "metadata": {},
   "source": [
    "Let's Address the problematic values"
   ]
  },
  {
   "cell_type": "code",
   "execution_count": 37,
   "metadata": {},
   "outputs": [],
   "source": [
    "\n",
    "data['days_employed'] = data['days_employed'].abs()\n"
   ]
  },
  {
   "cell_type": "markdown",
   "metadata": {},
   "source": [
    "Check the result"
   ]
  },
  {
   "cell_type": "code",
   "execution_count": 38,
   "metadata": {},
   "outputs": [
    {
     "data": {
      "text/plain": [
       "array([8437.67302776, 4024.80375385, 5623.42261023, ..., 2113.3468877 ,\n",
       "       3112.4817052 , 1984.50758853])"
      ]
     },
     "execution_count": 38,
     "metadata": {},
     "output_type": "execute_result"
    }
   ],
   "source": [
    "\n",
    "data['days_employed'].unique()"
   ]
  },
  {
   "cell_type": "markdown",
   "metadata": {},
   "source": [
    "**There are no need in farther transformation becouse wee dont need days_employed in our project**"
   ]
  },
  {
   "cell_type": "markdown",
   "metadata": {},
   "source": [
    "[Let's now look at the client's age and whether there are any issues there. Again, think about what can data can be strange in this column, i.e. what cannot be someone's age.]"
   ]
  },
  {
   "cell_type": "markdown",
   "metadata": {},
   "source": [
    "Check the `dob_years` for suspicious values"
   ]
  },
  {
   "cell_type": "code",
   "execution_count": 39,
   "metadata": {
    "scrolled": true
   },
   "outputs": [
    {
     "data": {
      "text/plain": [
       "array([42, 36, 33, 32, 53, 27, 43, 50, 35, 41, 40, 65, 54, 56, 26, 48, 24,\n",
       "       21, 57, 67, 28, 63, 62, 47, 34, 68, 25, 31, 30, 20, 49, 37, 45, 61,\n",
       "       64, 44, 52, 46, 23, 38, 39, 51,  0, 59, 29, 60, 55, 58, 71, 22, 73,\n",
       "       66, 69, 19, 72, 70, 74, 75], dtype=int64)"
      ]
     },
     "execution_count": 39,
     "metadata": {},
     "output_type": "execute_result"
    }
   ],
   "source": [
    "\n",
    "data['dob_years'].unique()\n"
   ]
  },
  {
   "cell_type": "markdown",
   "metadata": {},
   "source": [
    "[Decide what you'll do with the problematic values and explain why.]"
   ]
  },
  {
   "cell_type": "markdown",
   "metadata": {},
   "source": [
    "Let`s replace 0 with averege age"
   ]
  },
  {
   "cell_type": "code",
   "execution_count": 40,
   "metadata": {},
   "outputs": [],
   "source": [
    "\n",
    "age_avg = data['dob_years'].mean()\n",
    "data['dob_years'] = data['dob_years'].replace(0, age_avg)\n",
    "#data['dob_years'] = data['dob_years'].fillna(value=age_avg)"
   ]
  },
  {
   "cell_type": "code",
   "execution_count": 41,
   "metadata": {},
   "outputs": [
    {
     "data": {
      "text/plain": [
       "array([42.        , 36.        , 33.        , 32.        , 53.        ,\n",
       "       27.        , 43.        , 50.        , 35.        , 41.        ,\n",
       "       40.        , 65.        , 54.        , 56.        , 26.        ,\n",
       "       48.        , 24.        , 21.        , 57.        , 67.        ,\n",
       "       28.        , 63.        , 62.        , 47.        , 34.        ,\n",
       "       68.        , 25.        , 31.        , 30.        , 20.        ,\n",
       "       49.        , 37.        , 45.        , 61.        , 64.        ,\n",
       "       44.        , 52.        , 46.        , 23.        , 38.        ,\n",
       "       39.        , 51.        , 43.29337979, 59.        , 29.        ,\n",
       "       60.        , 55.        , 58.        , 71.        , 22.        ,\n",
       "       73.        , 66.        , 69.        , 19.        , 72.        ,\n",
       "       70.        , 74.        , 75.        ])"
      ]
     },
     "execution_count": 41,
     "metadata": {},
     "output_type": "execute_result"
    }
   ],
   "source": [
    "\n",
    "data['dob_years'].unique()"
   ]
  },
  {
   "cell_type": "markdown",
   "metadata": {},
   "source": [
    "[Now let's check the `family_status` column. See what kind of values there are and what problems you may need to address.]"
   ]
  },
  {
   "cell_type": "markdown",
   "metadata": {},
   "source": [
    " let's check the family_status column"
   ]
  },
  {
   "cell_type": "markdown",
   "metadata": {},
   "source": [
    "Let's see the values for the column"
   ]
  },
  {
   "cell_type": "code",
   "execution_count": 42,
   "metadata": {},
   "outputs": [
    {
     "data": {
      "text/plain": [
       "array(['married', 'civil partnership', 'widow / widower', 'divorced',\n",
       "       'unmarried'], dtype=object)"
      ]
     },
     "execution_count": 42,
     "metadata": {},
     "output_type": "execute_result"
    }
   ],
   "source": [
    "\n",
    "data['family_status'].unique()\n"
   ]
  },
  {
   "cell_type": "code",
   "execution_count": 43,
   "metadata": {},
   "outputs": [],
   "source": [
    "\n",
    "data['family_status'] = data['family_status'].replace('unmarried', 'single')\n"
   ]
  },
  {
   "cell_type": "code",
   "execution_count": 44,
   "metadata": {},
   "outputs": [
    {
     "data": {
      "text/plain": [
       "array(['married', 'civil partnership', 'widow / widower', 'divorced',\n",
       "       'single'], dtype=object)"
      ]
     },
     "execution_count": 44,
     "metadata": {},
     "output_type": "execute_result"
    }
   ],
   "source": [
    "\n",
    "data['family_status'].unique()"
   ]
  },
  {
   "cell_type": "markdown",
   "metadata": {},
   "source": [
    " Let's check the gender column"
   ]
  },
  {
   "cell_type": "code",
   "execution_count": 45,
   "metadata": {},
   "outputs": [
    {
     "data": {
      "text/plain": [
       "array(['F', 'M', 'XNA'], dtype=object)"
      ]
     },
     "execution_count": 45,
     "metadata": {},
     "output_type": "execute_result"
    }
   ],
   "source": [
    "\n",
    "data['gender'].unique()"
   ]
  },
  {
   "cell_type": "code",
   "execution_count": 46,
   "metadata": {},
   "outputs": [],
   "source": [
    "\n",
    "data.loc[data['gender'] == 'XNA', 'gender'] = 'Unknown'"
   ]
  },
  {
   "cell_type": "code",
   "execution_count": 47,
   "metadata": {},
   "outputs": [
    {
     "data": {
      "text/plain": [
       "array(['F', 'M', 'Unknown'], dtype=object)"
      ]
     },
     "execution_count": 47,
     "metadata": {},
     "output_type": "execute_result"
    }
   ],
   "source": [
    "\n",
    "data['gender'].unique()\n"
   ]
  },
  {
   "cell_type": "markdown",
   "metadata": {},
   "source": [
    "Let's check the income_type column"
   ]
  },
  {
   "cell_type": "code",
   "execution_count": 48,
   "metadata": {},
   "outputs": [
    {
     "data": {
      "text/plain": [
       "array(['employee', 'retiree', 'business', 'civil servant', 'unemployed',\n",
       "       'entrepreneur', 'student', 'paternity / maternity leave'],\n",
       "      dtype=object)"
      ]
     },
     "execution_count": 48,
     "metadata": {},
     "output_type": "execute_result"
    }
   ],
   "source": [
    "\n",
    "data['income_type'].unique()"
   ]
  },
  {
   "cell_type": "code",
   "execution_count": 49,
   "metadata": {},
   "outputs": [],
   "source": [
    "\n",
    "data.loc[data['income_type'] == 'entrepreneur', 'income_type'] = 'business'\n",
    "data.loc[data['income_type'] == 'civil servant', 'income_type'] = 'employee'"
   ]
  },
  {
   "cell_type": "code",
   "execution_count": 50,
   "metadata": {},
   "outputs": [
    {
     "data": {
      "text/plain": [
       "array(['employee', 'retiree', 'business', 'unemployed', 'student',\n",
       "       'paternity / maternity leave'], dtype=object)"
      ]
     },
     "execution_count": 50,
     "metadata": {},
     "output_type": "execute_result"
    }
   ],
   "source": [
    "\n",
    "data['income_type'].unique()\n"
   ]
  },
  {
   "cell_type": "markdown",
   "metadata": {},
   "source": [
    "Checking duplicates:"
   ]
  },
  {
   "cell_type": "code",
   "execution_count": 51,
   "metadata": {},
   "outputs": [
    {
     "data": {
      "text/plain": [
       "74"
      ]
     },
     "execution_count": 51,
     "metadata": {},
     "output_type": "execute_result"
    }
   ],
   "source": [
    "\n",
    "data.duplicated().sum()\n"
   ]
  },
  {
   "cell_type": "code",
   "execution_count": 52,
   "metadata": {},
   "outputs": [
    {
     "data": {
      "text/html": [
       "<div>\n",
       "<style scoped>\n",
       "    .dataframe tbody tr th:only-of-type {\n",
       "        vertical-align: middle;\n",
       "    }\n",
       "\n",
       "    .dataframe tbody tr th {\n",
       "        vertical-align: top;\n",
       "    }\n",
       "\n",
       "    .dataframe thead th {\n",
       "        text-align: right;\n",
       "    }\n",
       "</style>\n",
       "<table border=\"1\" class=\"dataframe\">\n",
       "  <thead>\n",
       "    <tr style=\"text-align: right;\">\n",
       "      <th></th>\n",
       "      <th>children</th>\n",
       "      <th>days_employed</th>\n",
       "      <th>dob_years</th>\n",
       "      <th>education</th>\n",
       "      <th>education_id</th>\n",
       "      <th>family_status</th>\n",
       "      <th>family_status_id</th>\n",
       "      <th>gender</th>\n",
       "      <th>income_type</th>\n",
       "      <th>debt</th>\n",
       "      <th>total_income</th>\n",
       "      <th>purpose</th>\n",
       "    </tr>\n",
       "  </thead>\n",
       "  <tbody>\n",
       "    <tr>\n",
       "      <th>2849</th>\n",
       "      <td>0</td>\n",
       "      <td>NaN</td>\n",
       "      <td>41.0</td>\n",
       "      <td>secondary education</td>\n",
       "      <td>1</td>\n",
       "      <td>married</td>\n",
       "      <td>0</td>\n",
       "      <td>F</td>\n",
       "      <td>employee</td>\n",
       "      <td>0</td>\n",
       "      <td>NaN</td>\n",
       "      <td>purchase of the house for my family</td>\n",
       "    </tr>\n",
       "    <tr>\n",
       "      <th>3290</th>\n",
       "      <td>0</td>\n",
       "      <td>NaN</td>\n",
       "      <td>58.0</td>\n",
       "      <td>secondary education</td>\n",
       "      <td>1</td>\n",
       "      <td>civil partnership</td>\n",
       "      <td>1</td>\n",
       "      <td>F</td>\n",
       "      <td>retiree</td>\n",
       "      <td>0</td>\n",
       "      <td>NaN</td>\n",
       "      <td>to have a wedding</td>\n",
       "    </tr>\n",
       "    <tr>\n",
       "      <th>4182</th>\n",
       "      <td>1</td>\n",
       "      <td>NaN</td>\n",
       "      <td>34.0</td>\n",
       "      <td>bachelor's degree</td>\n",
       "      <td>0</td>\n",
       "      <td>civil partnership</td>\n",
       "      <td>1</td>\n",
       "      <td>F</td>\n",
       "      <td>employee</td>\n",
       "      <td>0</td>\n",
       "      <td>NaN</td>\n",
       "      <td>wedding ceremony</td>\n",
       "    </tr>\n",
       "    <tr>\n",
       "      <th>4658</th>\n",
       "      <td>1</td>\n",
       "      <td>NaN</td>\n",
       "      <td>46.0</td>\n",
       "      <td>bachelor's degree</td>\n",
       "      <td>0</td>\n",
       "      <td>married</td>\n",
       "      <td>0</td>\n",
       "      <td>F</td>\n",
       "      <td>employee</td>\n",
       "      <td>0</td>\n",
       "      <td>NaN</td>\n",
       "      <td>construction of own property</td>\n",
       "    </tr>\n",
       "    <tr>\n",
       "      <th>4851</th>\n",
       "      <td>0</td>\n",
       "      <td>NaN</td>\n",
       "      <td>60.0</td>\n",
       "      <td>secondary education</td>\n",
       "      <td>1</td>\n",
       "      <td>civil partnership</td>\n",
       "      <td>1</td>\n",
       "      <td>F</td>\n",
       "      <td>retiree</td>\n",
       "      <td>0</td>\n",
       "      <td>NaN</td>\n",
       "      <td>wedding ceremony</td>\n",
       "    </tr>\n",
       "    <tr>\n",
       "      <th>...</th>\n",
       "      <td>...</td>\n",
       "      <td>...</td>\n",
       "      <td>...</td>\n",
       "      <td>...</td>\n",
       "      <td>...</td>\n",
       "      <td>...</td>\n",
       "      <td>...</td>\n",
       "      <td>...</td>\n",
       "      <td>...</td>\n",
       "      <td>...</td>\n",
       "      <td>...</td>\n",
       "      <td>...</td>\n",
       "    </tr>\n",
       "    <tr>\n",
       "      <th>20702</th>\n",
       "      <td>0</td>\n",
       "      <td>NaN</td>\n",
       "      <td>64.0</td>\n",
       "      <td>secondary education</td>\n",
       "      <td>1</td>\n",
       "      <td>married</td>\n",
       "      <td>0</td>\n",
       "      <td>F</td>\n",
       "      <td>retiree</td>\n",
       "      <td>0</td>\n",
       "      <td>NaN</td>\n",
       "      <td>supplementary education</td>\n",
       "    </tr>\n",
       "    <tr>\n",
       "      <th>21032</th>\n",
       "      <td>0</td>\n",
       "      <td>NaN</td>\n",
       "      <td>60.0</td>\n",
       "      <td>secondary education</td>\n",
       "      <td>1</td>\n",
       "      <td>married</td>\n",
       "      <td>0</td>\n",
       "      <td>F</td>\n",
       "      <td>retiree</td>\n",
       "      <td>0</td>\n",
       "      <td>NaN</td>\n",
       "      <td>to become educated</td>\n",
       "    </tr>\n",
       "    <tr>\n",
       "      <th>21132</th>\n",
       "      <td>0</td>\n",
       "      <td>NaN</td>\n",
       "      <td>47.0</td>\n",
       "      <td>secondary education</td>\n",
       "      <td>1</td>\n",
       "      <td>married</td>\n",
       "      <td>0</td>\n",
       "      <td>F</td>\n",
       "      <td>employee</td>\n",
       "      <td>0</td>\n",
       "      <td>NaN</td>\n",
       "      <td>housing renovation</td>\n",
       "    </tr>\n",
       "    <tr>\n",
       "      <th>21281</th>\n",
       "      <td>1</td>\n",
       "      <td>NaN</td>\n",
       "      <td>30.0</td>\n",
       "      <td>bachelor's degree</td>\n",
       "      <td>0</td>\n",
       "      <td>married</td>\n",
       "      <td>0</td>\n",
       "      <td>F</td>\n",
       "      <td>employee</td>\n",
       "      <td>0</td>\n",
       "      <td>NaN</td>\n",
       "      <td>buy commercial real estate</td>\n",
       "    </tr>\n",
       "    <tr>\n",
       "      <th>21415</th>\n",
       "      <td>0</td>\n",
       "      <td>NaN</td>\n",
       "      <td>54.0</td>\n",
       "      <td>secondary education</td>\n",
       "      <td>1</td>\n",
       "      <td>married</td>\n",
       "      <td>0</td>\n",
       "      <td>F</td>\n",
       "      <td>retiree</td>\n",
       "      <td>0</td>\n",
       "      <td>NaN</td>\n",
       "      <td>housing transactions</td>\n",
       "    </tr>\n",
       "  </tbody>\n",
       "</table>\n",
       "<p>74 rows × 12 columns</p>\n",
       "</div>"
      ],
      "text/plain": [
       "       children  days_employed  dob_years            education  education_id  \\\n",
       "2849          0            NaN       41.0  secondary education             1   \n",
       "3290          0            NaN       58.0  secondary education             1   \n",
       "4182          1            NaN       34.0    bachelor's degree             0   \n",
       "4658          1            NaN       46.0    bachelor's degree             0   \n",
       "4851          0            NaN       60.0  secondary education             1   \n",
       "...         ...            ...        ...                  ...           ...   \n",
       "20702         0            NaN       64.0  secondary education             1   \n",
       "21032         0            NaN       60.0  secondary education             1   \n",
       "21132         0            NaN       47.0  secondary education             1   \n",
       "21281         1            NaN       30.0    bachelor's degree             0   \n",
       "21415         0            NaN       54.0  secondary education             1   \n",
       "\n",
       "           family_status  family_status_id gender income_type  debt  \\\n",
       "2849             married                 0      F    employee     0   \n",
       "3290   civil partnership                 1      F     retiree     0   \n",
       "4182   civil partnership                 1      F    employee     0   \n",
       "4658             married                 0      F    employee     0   \n",
       "4851   civil partnership                 1      F     retiree     0   \n",
       "...                  ...               ...    ...         ...   ...   \n",
       "20702            married                 0      F     retiree     0   \n",
       "21032            married                 0      F     retiree     0   \n",
       "21132            married                 0      F    employee     0   \n",
       "21281            married                 0      F    employee     0   \n",
       "21415            married                 0      F     retiree     0   \n",
       "\n",
       "       total_income                              purpose  \n",
       "2849            NaN  purchase of the house for my family  \n",
       "3290            NaN                    to have a wedding  \n",
       "4182            NaN                     wedding ceremony  \n",
       "4658            NaN         construction of own property  \n",
       "4851            NaN                     wedding ceremony  \n",
       "...             ...                                  ...  \n",
       "20702           NaN              supplementary education  \n",
       "21032           NaN                   to become educated  \n",
       "21132           NaN                   housing renovation  \n",
       "21281           NaN           buy commercial real estate  \n",
       "21415           NaN                 housing transactions  \n",
       "\n",
       "[74 rows x 12 columns]"
      ]
     },
     "execution_count": 52,
     "metadata": {},
     "output_type": "execute_result"
    }
   ],
   "source": [
    "data[data.duplicated()]"
   ]
  },
  {
   "cell_type": "markdown",
   "metadata": {},
   "source": [
    "Fixing the duplicates"
   ]
  },
  {
   "cell_type": "code",
   "execution_count": 53,
   "metadata": {},
   "outputs": [],
   "source": [
    "\n",
    "data.drop_duplicates(inplace=True) "
   ]
  },
  {
   "cell_type": "markdown",
   "metadata": {},
   "source": [
    "Checking the result"
   ]
  },
  {
   "cell_type": "code",
   "execution_count": 54,
   "metadata": {},
   "outputs": [
    {
     "data": {
      "text/plain": [
       "0"
      ]
     },
     "execution_count": 54,
     "metadata": {},
     "output_type": "execute_result"
    }
   ],
   "source": [
    "\n",
    "data.duplicated().sum()\n"
   ]
  },
  {
   "cell_type": "markdown",
   "metadata": {},
   "source": [
    "Check the size of the dataset that wee now have after our first manipulations with it"
   ]
  },
  {
   "cell_type": "code",
   "execution_count": 55,
   "metadata": {},
   "outputs": [
    {
     "name": "stdout",
     "output_type": "stream",
     "text": [
      "<class 'pandas.core.frame.DataFrame'>\n",
      "Int64Index: 21451 entries, 0 to 21524\n",
      "Data columns (total 12 columns):\n",
      " #   Column            Non-Null Count  Dtype  \n",
      "---  ------            --------------  -----  \n",
      " 0   children          21451 non-null  int64  \n",
      " 1   days_employed     19351 non-null  float64\n",
      " 2   dob_years         21451 non-null  float64\n",
      " 3   education         21451 non-null  object \n",
      " 4   education_id      21451 non-null  int64  \n",
      " 5   family_status     21451 non-null  object \n",
      " 6   family_status_id  21451 non-null  int64  \n",
      " 7   gender            21451 non-null  object \n",
      " 8   income_type       21451 non-null  object \n",
      " 9   debt              21451 non-null  int64  \n",
      " 10  total_income      19351 non-null  float64\n",
      " 11  purpose           21451 non-null  object \n",
      "dtypes: float64(3), int64(4), object(5)\n",
      "memory usage: 2.1+ MB\n"
     ]
    }
   ],
   "source": [
    "\n",
    "data.info()"
   ]
  },
  {
   "cell_type": "code",
   "execution_count": 56,
   "metadata": {},
   "outputs": [
    {
     "data": {
      "text/html": [
       "<div>\n",
       "<style scoped>\n",
       "    .dataframe tbody tr th:only-of-type {\n",
       "        vertical-align: middle;\n",
       "    }\n",
       "\n",
       "    .dataframe tbody tr th {\n",
       "        vertical-align: top;\n",
       "    }\n",
       "\n",
       "    .dataframe thead th {\n",
       "        text-align: right;\n",
       "    }\n",
       "</style>\n",
       "<table border=\"1\" class=\"dataframe\">\n",
       "  <thead>\n",
       "    <tr style=\"text-align: right;\">\n",
       "      <th></th>\n",
       "      <th>children</th>\n",
       "      <th>days_employed</th>\n",
       "      <th>dob_years</th>\n",
       "      <th>education_id</th>\n",
       "      <th>family_status_id</th>\n",
       "      <th>debt</th>\n",
       "      <th>total_income</th>\n",
       "    </tr>\n",
       "  </thead>\n",
       "  <tbody>\n",
       "    <tr>\n",
       "      <th>count</th>\n",
       "      <td>21451.000000</td>\n",
       "      <td>19351.000000</td>\n",
       "      <td>21451.000000</td>\n",
       "      <td>21451.000000</td>\n",
       "      <td>21451.000000</td>\n",
       "      <td>21451.000000</td>\n",
       "      <td>19351.000000</td>\n",
       "    </tr>\n",
       "    <tr>\n",
       "      <th>mean</th>\n",
       "      <td>0.480584</td>\n",
       "      <td>66914.728907</td>\n",
       "      <td>43.474087</td>\n",
       "      <td>0.817165</td>\n",
       "      <td>0.974034</td>\n",
       "      <td>0.081162</td>\n",
       "      <td>26787.568355</td>\n",
       "    </tr>\n",
       "    <tr>\n",
       "      <th>std</th>\n",
       "      <td>0.756099</td>\n",
       "      <td>139030.880527</td>\n",
       "      <td>12.213885</td>\n",
       "      <td>0.548655</td>\n",
       "      <td>1.421620</td>\n",
       "      <td>0.273090</td>\n",
       "      <td>16475.450632</td>\n",
       "    </tr>\n",
       "    <tr>\n",
       "      <th>min</th>\n",
       "      <td>0.000000</td>\n",
       "      <td>24.141633</td>\n",
       "      <td>19.000000</td>\n",
       "      <td>0.000000</td>\n",
       "      <td>0.000000</td>\n",
       "      <td>0.000000</td>\n",
       "      <td>3306.762000</td>\n",
       "    </tr>\n",
       "    <tr>\n",
       "      <th>25%</th>\n",
       "      <td>0.000000</td>\n",
       "      <td>927.009265</td>\n",
       "      <td>33.000000</td>\n",
       "      <td>1.000000</td>\n",
       "      <td>0.000000</td>\n",
       "      <td>0.000000</td>\n",
       "      <td>16488.504500</td>\n",
       "    </tr>\n",
       "    <tr>\n",
       "      <th>50%</th>\n",
       "      <td>0.000000</td>\n",
       "      <td>2194.220567</td>\n",
       "      <td>43.000000</td>\n",
       "      <td>1.000000</td>\n",
       "      <td>0.000000</td>\n",
       "      <td>0.000000</td>\n",
       "      <td>23202.870000</td>\n",
       "    </tr>\n",
       "    <tr>\n",
       "      <th>75%</th>\n",
       "      <td>1.000000</td>\n",
       "      <td>5537.882441</td>\n",
       "      <td>53.000000</td>\n",
       "      <td>1.000000</td>\n",
       "      <td>1.000000</td>\n",
       "      <td>0.000000</td>\n",
       "      <td>32549.611000</td>\n",
       "    </tr>\n",
       "    <tr>\n",
       "      <th>max</th>\n",
       "      <td>5.000000</td>\n",
       "      <td>401755.400475</td>\n",
       "      <td>75.000000</td>\n",
       "      <td>4.000000</td>\n",
       "      <td>4.000000</td>\n",
       "      <td>1.000000</td>\n",
       "      <td>362496.645000</td>\n",
       "    </tr>\n",
       "  </tbody>\n",
       "</table>\n",
       "</div>"
      ],
      "text/plain": [
       "           children  days_employed     dob_years  education_id  \\\n",
       "count  21451.000000   19351.000000  21451.000000  21451.000000   \n",
       "mean       0.480584   66914.728907     43.474087      0.817165   \n",
       "std        0.756099  139030.880527     12.213885      0.548655   \n",
       "min        0.000000      24.141633     19.000000      0.000000   \n",
       "25%        0.000000     927.009265     33.000000      1.000000   \n",
       "50%        0.000000    2194.220567     43.000000      1.000000   \n",
       "75%        1.000000    5537.882441     53.000000      1.000000   \n",
       "max        5.000000  401755.400475     75.000000      4.000000   \n",
       "\n",
       "       family_status_id          debt   total_income  \n",
       "count      21451.000000  21451.000000   19351.000000  \n",
       "mean           0.974034      0.081162   26787.568355  \n",
       "std            1.421620      0.273090   16475.450632  \n",
       "min            0.000000      0.000000    3306.762000  \n",
       "25%            0.000000      0.000000   16488.504500  \n",
       "50%            0.000000      0.000000   23202.870000  \n",
       "75%            1.000000      0.000000   32549.611000  \n",
       "max            4.000000      1.000000  362496.645000  "
      ]
     },
     "execution_count": 56,
     "metadata": {},
     "output_type": "execute_result"
    }
   ],
   "source": [
    "data.describe()"
   ]
  },
  {
   "cell_type": "markdown",
   "metadata": {},
   "source": [
    "[Describe your new dataset: briefly say what's changed and what's the percentage of the changes, if there were any.]\n"
   ]
  },
  {
   "cell_type": "code",
   "execution_count": 57,
   "metadata": {},
   "outputs": [
    {
     "data": {
      "text/plain": [
       "children               0\n",
       "days_employed       2100\n",
       "dob_years              0\n",
       "education              0\n",
       "education_id           0\n",
       "family_status          0\n",
       "family_status_id       0\n",
       "gender                 0\n",
       "income_type            0\n",
       "debt                   0\n",
       "total_income        2100\n",
       "purpose                0\n",
       "dtype: int64"
      ]
     },
     "execution_count": 57,
     "metadata": {},
     "output_type": "execute_result"
    }
   ],
   "source": [
    "data.isnull().sum()\n"
   ]
  },
  {
   "cell_type": "code",
   "execution_count": 58,
   "metadata": {},
   "outputs": [
    {
     "data": {
      "text/plain": [
       "children            0.000000\n",
       "days_employed       0.097898\n",
       "dob_years           0.000000\n",
       "education           0.000000\n",
       "education_id        0.000000\n",
       "family_status       0.000000\n",
       "family_status_id    0.000000\n",
       "gender              0.000000\n",
       "income_type         0.000000\n",
       "debt                0.000000\n",
       "total_income        0.097898\n",
       "purpose             0.000000\n",
       "dtype: float64"
      ]
     },
     "execution_count": 58,
     "metadata": {},
     "output_type": "execute_result"
    }
   ],
   "source": [
    "data.isnull().sum()/len(data)"
   ]
  },
  {
   "cell_type": "code",
   "execution_count": 59,
   "metadata": {},
   "outputs": [
    {
     "data": {
      "text/plain": [
       "0.0031010000000000065"
      ]
     },
     "execution_count": 59,
     "metadata": {},
     "output_type": "execute_result"
    }
   ],
   "source": [
    "  0.100999 -  0.097898"
   ]
  },
  {
   "cell_type": "markdown",
   "metadata": {},
   "source": [
    "We have decreaswd the persentage of missing values in 0.0031010000000000065"
   ]
  },
  {
   "cell_type": "markdown",
   "metadata": {},
   "source": [
    "# Working with missing values"
   ]
  },
  {
   "cell_type": "markdown",
   "metadata": {},
   "source": [
    "[To speed up working with some data, you may want to work with dictionaries for some values, where IDs are provided. Explain why and which dictionaries you will work with.]"
   ]
  },
  {
   "cell_type": "markdown",
   "metadata": {},
   "source": [
    "Because the categories are well definde we dont ned to find the dictionaries"
   ]
  },
  {
   "cell_type": "markdown",
   "metadata": {},
   "source": [
    "### Restoring missing values in `total_income`"
   ]
  },
  {
   "cell_type": "markdown",
   "metadata": {},
   "source": [
    "Let's write a function that calculates the age category"
   ]
  },
  {
   "cell_type": "code",
   "execution_count": 60,
   "metadata": {},
   "outputs": [],
   "source": [
    "\n",
    "def age_group(dob_years):\n",
    "    if dob_years < 20 :\n",
    "        return 'yong_adult'\n",
    "    elif dob_years < 50:\n",
    "        return 'adult'\n",
    "    else:\n",
    "        return 'senior'\n",
    "    "
   ]
  },
  {
   "cell_type": "markdown",
   "metadata": {},
   "source": [
    "Creating new column based on function"
   ]
  },
  {
   "cell_type": "code",
   "execution_count": 61,
   "metadata": {},
   "outputs": [],
   "source": [
    "\n",
    "data['age_group'] = data['dob_years'].apply(age_group)\n"
   ]
  },
  {
   "cell_type": "code",
   "execution_count": 62,
   "metadata": {},
   "outputs": [
    {
     "data": {
      "text/html": [
       "<div>\n",
       "<style scoped>\n",
       "    .dataframe tbody tr th:only-of-type {\n",
       "        vertical-align: middle;\n",
       "    }\n",
       "\n",
       "    .dataframe tbody tr th {\n",
       "        vertical-align: top;\n",
       "    }\n",
       "\n",
       "    .dataframe thead th {\n",
       "        text-align: right;\n",
       "    }\n",
       "</style>\n",
       "<table border=\"1\" class=\"dataframe\">\n",
       "  <thead>\n",
       "    <tr style=\"text-align: right;\">\n",
       "      <th></th>\n",
       "      <th>children</th>\n",
       "      <th>days_employed</th>\n",
       "      <th>dob_years</th>\n",
       "      <th>education</th>\n",
       "      <th>education_id</th>\n",
       "      <th>family_status</th>\n",
       "      <th>family_status_id</th>\n",
       "      <th>gender</th>\n",
       "      <th>income_type</th>\n",
       "      <th>debt</th>\n",
       "      <th>total_income</th>\n",
       "      <th>purpose</th>\n",
       "      <th>age_group</th>\n",
       "    </tr>\n",
       "  </thead>\n",
       "  <tbody>\n",
       "    <tr>\n",
       "      <th>0</th>\n",
       "      <td>1</td>\n",
       "      <td>8437.673028</td>\n",
       "      <td>42.0</td>\n",
       "      <td>bachelor's degree</td>\n",
       "      <td>0</td>\n",
       "      <td>married</td>\n",
       "      <td>0</td>\n",
       "      <td>F</td>\n",
       "      <td>employee</td>\n",
       "      <td>0</td>\n",
       "      <td>40620.102</td>\n",
       "      <td>purchase of the house</td>\n",
       "      <td>adult</td>\n",
       "    </tr>\n",
       "    <tr>\n",
       "      <th>1</th>\n",
       "      <td>1</td>\n",
       "      <td>4024.803754</td>\n",
       "      <td>36.0</td>\n",
       "      <td>secondary education</td>\n",
       "      <td>1</td>\n",
       "      <td>married</td>\n",
       "      <td>0</td>\n",
       "      <td>F</td>\n",
       "      <td>employee</td>\n",
       "      <td>0</td>\n",
       "      <td>17932.802</td>\n",
       "      <td>car purchase</td>\n",
       "      <td>adult</td>\n",
       "    </tr>\n",
       "    <tr>\n",
       "      <th>2</th>\n",
       "      <td>0</td>\n",
       "      <td>5623.422610</td>\n",
       "      <td>33.0</td>\n",
       "      <td>secondary education</td>\n",
       "      <td>1</td>\n",
       "      <td>married</td>\n",
       "      <td>0</td>\n",
       "      <td>M</td>\n",
       "      <td>employee</td>\n",
       "      <td>0</td>\n",
       "      <td>23341.752</td>\n",
       "      <td>purchase of the house</td>\n",
       "      <td>adult</td>\n",
       "    </tr>\n",
       "    <tr>\n",
       "      <th>3</th>\n",
       "      <td>3</td>\n",
       "      <td>4124.747207</td>\n",
       "      <td>32.0</td>\n",
       "      <td>secondary education</td>\n",
       "      <td>1</td>\n",
       "      <td>married</td>\n",
       "      <td>0</td>\n",
       "      <td>M</td>\n",
       "      <td>employee</td>\n",
       "      <td>0</td>\n",
       "      <td>42820.568</td>\n",
       "      <td>supplementary education</td>\n",
       "      <td>adult</td>\n",
       "    </tr>\n",
       "    <tr>\n",
       "      <th>4</th>\n",
       "      <td>0</td>\n",
       "      <td>340266.072047</td>\n",
       "      <td>53.0</td>\n",
       "      <td>secondary education</td>\n",
       "      <td>1</td>\n",
       "      <td>civil partnership</td>\n",
       "      <td>1</td>\n",
       "      <td>F</td>\n",
       "      <td>retiree</td>\n",
       "      <td>0</td>\n",
       "      <td>25378.572</td>\n",
       "      <td>to have a wedding</td>\n",
       "      <td>senior</td>\n",
       "    </tr>\n",
       "    <tr>\n",
       "      <th>5</th>\n",
       "      <td>0</td>\n",
       "      <td>926.185831</td>\n",
       "      <td>27.0</td>\n",
       "      <td>bachelor's degree</td>\n",
       "      <td>0</td>\n",
       "      <td>civil partnership</td>\n",
       "      <td>1</td>\n",
       "      <td>M</td>\n",
       "      <td>business</td>\n",
       "      <td>0</td>\n",
       "      <td>40922.170</td>\n",
       "      <td>purchase of the house</td>\n",
       "      <td>adult</td>\n",
       "    </tr>\n",
       "    <tr>\n",
       "      <th>6</th>\n",
       "      <td>0</td>\n",
       "      <td>2879.202052</td>\n",
       "      <td>43.0</td>\n",
       "      <td>bachelor's degree</td>\n",
       "      <td>0</td>\n",
       "      <td>married</td>\n",
       "      <td>0</td>\n",
       "      <td>F</td>\n",
       "      <td>business</td>\n",
       "      <td>0</td>\n",
       "      <td>38484.156</td>\n",
       "      <td>housing transactions</td>\n",
       "      <td>adult</td>\n",
       "    </tr>\n",
       "    <tr>\n",
       "      <th>7</th>\n",
       "      <td>0</td>\n",
       "      <td>152.779569</td>\n",
       "      <td>50.0</td>\n",
       "      <td>secondary education</td>\n",
       "      <td>1</td>\n",
       "      <td>married</td>\n",
       "      <td>0</td>\n",
       "      <td>M</td>\n",
       "      <td>employee</td>\n",
       "      <td>0</td>\n",
       "      <td>21731.829</td>\n",
       "      <td>education</td>\n",
       "      <td>senior</td>\n",
       "    </tr>\n",
       "    <tr>\n",
       "      <th>8</th>\n",
       "      <td>2</td>\n",
       "      <td>6929.865299</td>\n",
       "      <td>35.0</td>\n",
       "      <td>bachelor's degree</td>\n",
       "      <td>0</td>\n",
       "      <td>civil partnership</td>\n",
       "      <td>1</td>\n",
       "      <td>F</td>\n",
       "      <td>employee</td>\n",
       "      <td>0</td>\n",
       "      <td>15337.093</td>\n",
       "      <td>having a wedding</td>\n",
       "      <td>adult</td>\n",
       "    </tr>\n",
       "    <tr>\n",
       "      <th>9</th>\n",
       "      <td>0</td>\n",
       "      <td>2188.756445</td>\n",
       "      <td>41.0</td>\n",
       "      <td>secondary education</td>\n",
       "      <td>1</td>\n",
       "      <td>married</td>\n",
       "      <td>0</td>\n",
       "      <td>M</td>\n",
       "      <td>employee</td>\n",
       "      <td>0</td>\n",
       "      <td>23108.150</td>\n",
       "      <td>purchase of the house for my family</td>\n",
       "      <td>adult</td>\n",
       "    </tr>\n",
       "  </tbody>\n",
       "</table>\n",
       "</div>"
      ],
      "text/plain": [
       "   children  days_employed  dob_years            education  education_id  \\\n",
       "0         1    8437.673028       42.0    bachelor's degree             0   \n",
       "1         1    4024.803754       36.0  secondary education             1   \n",
       "2         0    5623.422610       33.0  secondary education             1   \n",
       "3         3    4124.747207       32.0  secondary education             1   \n",
       "4         0  340266.072047       53.0  secondary education             1   \n",
       "5         0     926.185831       27.0    bachelor's degree             0   \n",
       "6         0    2879.202052       43.0    bachelor's degree             0   \n",
       "7         0     152.779569       50.0  secondary education             1   \n",
       "8         2    6929.865299       35.0    bachelor's degree             0   \n",
       "9         0    2188.756445       41.0  secondary education             1   \n",
       "\n",
       "       family_status  family_status_id gender income_type  debt  total_income  \\\n",
       "0            married                 0      F    employee     0     40620.102   \n",
       "1            married                 0      F    employee     0     17932.802   \n",
       "2            married                 0      M    employee     0     23341.752   \n",
       "3            married                 0      M    employee     0     42820.568   \n",
       "4  civil partnership                 1      F     retiree     0     25378.572   \n",
       "5  civil partnership                 1      M    business     0     40922.170   \n",
       "6            married                 0      F    business     0     38484.156   \n",
       "7            married                 0      M    employee     0     21731.829   \n",
       "8  civil partnership                 1      F    employee     0     15337.093   \n",
       "9            married                 0      M    employee     0     23108.150   \n",
       "\n",
       "                               purpose age_group  \n",
       "0                purchase of the house     adult  \n",
       "1                         car purchase     adult  \n",
       "2                purchase of the house     adult  \n",
       "3              supplementary education     adult  \n",
       "4                    to have a wedding    senior  \n",
       "5                purchase of the house     adult  \n",
       "6                 housing transactions     adult  \n",
       "7                            education    senior  \n",
       "8                     having a wedding     adult  \n",
       "9  purchase of the house for my family     adult  "
      ]
     },
     "execution_count": 62,
     "metadata": {},
     "output_type": "execute_result"
    }
   ],
   "source": [
    "\n",
    "\n",
    "data.head(10)"
   ]
  },
  {
   "cell_type": "markdown",
   "metadata": {},
   "source": [
    "  Creating a function that we will use for filling in missing values"
   ]
  },
  {
   "cell_type": "markdown",
   "metadata": {},
   "source": [
    "For total_income"
   ]
  },
  {
   "cell_type": "code",
   "execution_count": 63,
   "metadata": {},
   "outputs": [],
   "source": [
    "\n",
    "        \n",
    "data['total_income'] = data.groupby('age_group')['total_income']\\\n",
    "                        .transform(lambda grp: grp.fillna(np.mean(grp)))"
   ]
  },
  {
   "cell_type": "markdown",
   "metadata": {},
   "source": [
    "For days_employed"
   ]
  },
  {
   "cell_type": "code",
   "execution_count": 64,
   "metadata": {},
   "outputs": [],
   "source": [
    "data['days_employed'] = data.groupby('age_group')['days_employed']\\\n",
    "                        .transform(lambda grp: grp.fillna(np.mean(grp)))"
   ]
  },
  {
   "cell_type": "markdown",
   "metadata": {},
   "source": [
    "Checking if it works"
   ]
  },
  {
   "cell_type": "code",
   "execution_count": 65,
   "metadata": {},
   "outputs": [
    {
     "data": {
      "text/html": [
       "<div>\n",
       "<style scoped>\n",
       "    .dataframe tbody tr th:only-of-type {\n",
       "        vertical-align: middle;\n",
       "    }\n",
       "\n",
       "    .dataframe tbody tr th {\n",
       "        vertical-align: top;\n",
       "    }\n",
       "\n",
       "    .dataframe thead th {\n",
       "        text-align: right;\n",
       "    }\n",
       "</style>\n",
       "<table border=\"1\" class=\"dataframe\">\n",
       "  <thead>\n",
       "    <tr style=\"text-align: right;\">\n",
       "      <th></th>\n",
       "      <th>children</th>\n",
       "      <th>days_employed</th>\n",
       "      <th>dob_years</th>\n",
       "      <th>education</th>\n",
       "      <th>education_id</th>\n",
       "      <th>family_status</th>\n",
       "      <th>family_status_id</th>\n",
       "      <th>gender</th>\n",
       "      <th>income_type</th>\n",
       "      <th>debt</th>\n",
       "      <th>total_income</th>\n",
       "      <th>purpose</th>\n",
       "      <th>age_group</th>\n",
       "    </tr>\n",
       "  </thead>\n",
       "  <tbody>\n",
       "  </tbody>\n",
       "</table>\n",
       "</div>"
      ],
      "text/plain": [
       "Empty DataFrame\n",
       "Columns: [children, days_employed, dob_years, education, education_id, family_status, family_status_id, gender, income_type, debt, total_income, purpose, age_group]\n",
       "Index: []"
      ]
     },
     "execution_count": 65,
     "metadata": {},
     "output_type": "execute_result"
    }
   ],
   "source": [
    "\n",
    "data[(data.total_income.isnull())]"
   ]
  },
  {
   "cell_type": "code",
   "execution_count": 66,
   "metadata": {},
   "outputs": [
    {
     "data": {
      "text/html": [
       "<div>\n",
       "<style scoped>\n",
       "    .dataframe tbody tr th:only-of-type {\n",
       "        vertical-align: middle;\n",
       "    }\n",
       "\n",
       "    .dataframe tbody tr th {\n",
       "        vertical-align: top;\n",
       "    }\n",
       "\n",
       "    .dataframe thead th {\n",
       "        text-align: right;\n",
       "    }\n",
       "</style>\n",
       "<table border=\"1\" class=\"dataframe\">\n",
       "  <thead>\n",
       "    <tr style=\"text-align: right;\">\n",
       "      <th></th>\n",
       "      <th>children</th>\n",
       "      <th>days_employed</th>\n",
       "      <th>dob_years</th>\n",
       "      <th>education</th>\n",
       "      <th>education_id</th>\n",
       "      <th>family_status</th>\n",
       "      <th>family_status_id</th>\n",
       "      <th>gender</th>\n",
       "      <th>income_type</th>\n",
       "      <th>debt</th>\n",
       "      <th>total_income</th>\n",
       "      <th>purpose</th>\n",
       "      <th>age_group</th>\n",
       "    </tr>\n",
       "  </thead>\n",
       "  <tbody>\n",
       "  </tbody>\n",
       "</table>\n",
       "</div>"
      ],
      "text/plain": [
       "Empty DataFrame\n",
       "Columns: [children, days_employed, dob_years, education, education_id, family_status, family_status_id, gender, income_type, debt, total_income, purpose, age_group]\n",
       "Index: []"
      ]
     },
     "execution_count": 66,
     "metadata": {},
     "output_type": "execute_result"
    }
   ],
   "source": [
    "data[(data.days_employed.isnull())]"
   ]
  },
  {
   "cell_type": "markdown",
   "metadata": {},
   "source": [
    "[When you think you've finished with `total_income`, check that the total number of values in this column matches the number of values in other ones.]"
   ]
  },
  {
   "cell_type": "markdown",
   "metadata": {},
   "source": [
    " Checking the number of entries in the columns"
   ]
  },
  {
   "cell_type": "code",
   "execution_count": 67,
   "metadata": {},
   "outputs": [
    {
     "data": {
      "text/html": [
       "<div>\n",
       "<style scoped>\n",
       "    .dataframe tbody tr th:only-of-type {\n",
       "        vertical-align: middle;\n",
       "    }\n",
       "\n",
       "    .dataframe tbody tr th {\n",
       "        vertical-align: top;\n",
       "    }\n",
       "\n",
       "    .dataframe thead th {\n",
       "        text-align: right;\n",
       "    }\n",
       "</style>\n",
       "<table border=\"1\" class=\"dataframe\">\n",
       "  <thead>\n",
       "    <tr style=\"text-align: right;\">\n",
       "      <th></th>\n",
       "      <th>children</th>\n",
       "      <th>days_employed</th>\n",
       "      <th>dob_years</th>\n",
       "      <th>education</th>\n",
       "      <th>education_id</th>\n",
       "      <th>family_status</th>\n",
       "      <th>family_status_id</th>\n",
       "      <th>gender</th>\n",
       "      <th>income_type</th>\n",
       "      <th>debt</th>\n",
       "      <th>total_income</th>\n",
       "      <th>purpose</th>\n",
       "      <th>age_group</th>\n",
       "    </tr>\n",
       "  </thead>\n",
       "  <tbody>\n",
       "    <tr>\n",
       "      <th>0</th>\n",
       "      <td>1</td>\n",
       "      <td>8437.673028</td>\n",
       "      <td>42.0</td>\n",
       "      <td>bachelor's degree</td>\n",
       "      <td>0</td>\n",
       "      <td>married</td>\n",
       "      <td>0</td>\n",
       "      <td>F</td>\n",
       "      <td>employee</td>\n",
       "      <td>0</td>\n",
       "      <td>40620.102</td>\n",
       "      <td>purchase of the house</td>\n",
       "      <td>adult</td>\n",
       "    </tr>\n",
       "    <tr>\n",
       "      <th>1</th>\n",
       "      <td>1</td>\n",
       "      <td>4024.803754</td>\n",
       "      <td>36.0</td>\n",
       "      <td>secondary education</td>\n",
       "      <td>1</td>\n",
       "      <td>married</td>\n",
       "      <td>0</td>\n",
       "      <td>F</td>\n",
       "      <td>employee</td>\n",
       "      <td>0</td>\n",
       "      <td>17932.802</td>\n",
       "      <td>car purchase</td>\n",
       "      <td>adult</td>\n",
       "    </tr>\n",
       "    <tr>\n",
       "      <th>2</th>\n",
       "      <td>0</td>\n",
       "      <td>5623.422610</td>\n",
       "      <td>33.0</td>\n",
       "      <td>secondary education</td>\n",
       "      <td>1</td>\n",
       "      <td>married</td>\n",
       "      <td>0</td>\n",
       "      <td>M</td>\n",
       "      <td>employee</td>\n",
       "      <td>0</td>\n",
       "      <td>23341.752</td>\n",
       "      <td>purchase of the house</td>\n",
       "      <td>adult</td>\n",
       "    </tr>\n",
       "    <tr>\n",
       "      <th>3</th>\n",
       "      <td>3</td>\n",
       "      <td>4124.747207</td>\n",
       "      <td>32.0</td>\n",
       "      <td>secondary education</td>\n",
       "      <td>1</td>\n",
       "      <td>married</td>\n",
       "      <td>0</td>\n",
       "      <td>M</td>\n",
       "      <td>employee</td>\n",
       "      <td>0</td>\n",
       "      <td>42820.568</td>\n",
       "      <td>supplementary education</td>\n",
       "      <td>adult</td>\n",
       "    </tr>\n",
       "    <tr>\n",
       "      <th>4</th>\n",
       "      <td>0</td>\n",
       "      <td>340266.072047</td>\n",
       "      <td>53.0</td>\n",
       "      <td>secondary education</td>\n",
       "      <td>1</td>\n",
       "      <td>civil partnership</td>\n",
       "      <td>1</td>\n",
       "      <td>F</td>\n",
       "      <td>retiree</td>\n",
       "      <td>0</td>\n",
       "      <td>25378.572</td>\n",
       "      <td>to have a wedding</td>\n",
       "      <td>senior</td>\n",
       "    </tr>\n",
       "    <tr>\n",
       "      <th>5</th>\n",
       "      <td>0</td>\n",
       "      <td>926.185831</td>\n",
       "      <td>27.0</td>\n",
       "      <td>bachelor's degree</td>\n",
       "      <td>0</td>\n",
       "      <td>civil partnership</td>\n",
       "      <td>1</td>\n",
       "      <td>M</td>\n",
       "      <td>business</td>\n",
       "      <td>0</td>\n",
       "      <td>40922.170</td>\n",
       "      <td>purchase of the house</td>\n",
       "      <td>adult</td>\n",
       "    </tr>\n",
       "    <tr>\n",
       "      <th>6</th>\n",
       "      <td>0</td>\n",
       "      <td>2879.202052</td>\n",
       "      <td>43.0</td>\n",
       "      <td>bachelor's degree</td>\n",
       "      <td>0</td>\n",
       "      <td>married</td>\n",
       "      <td>0</td>\n",
       "      <td>F</td>\n",
       "      <td>business</td>\n",
       "      <td>0</td>\n",
       "      <td>38484.156</td>\n",
       "      <td>housing transactions</td>\n",
       "      <td>adult</td>\n",
       "    </tr>\n",
       "    <tr>\n",
       "      <th>7</th>\n",
       "      <td>0</td>\n",
       "      <td>152.779569</td>\n",
       "      <td>50.0</td>\n",
       "      <td>secondary education</td>\n",
       "      <td>1</td>\n",
       "      <td>married</td>\n",
       "      <td>0</td>\n",
       "      <td>M</td>\n",
       "      <td>employee</td>\n",
       "      <td>0</td>\n",
       "      <td>21731.829</td>\n",
       "      <td>education</td>\n",
       "      <td>senior</td>\n",
       "    </tr>\n",
       "    <tr>\n",
       "      <th>8</th>\n",
       "      <td>2</td>\n",
       "      <td>6929.865299</td>\n",
       "      <td>35.0</td>\n",
       "      <td>bachelor's degree</td>\n",
       "      <td>0</td>\n",
       "      <td>civil partnership</td>\n",
       "      <td>1</td>\n",
       "      <td>F</td>\n",
       "      <td>employee</td>\n",
       "      <td>0</td>\n",
       "      <td>15337.093</td>\n",
       "      <td>having a wedding</td>\n",
       "      <td>adult</td>\n",
       "    </tr>\n",
       "    <tr>\n",
       "      <th>9</th>\n",
       "      <td>0</td>\n",
       "      <td>2188.756445</td>\n",
       "      <td>41.0</td>\n",
       "      <td>secondary education</td>\n",
       "      <td>1</td>\n",
       "      <td>married</td>\n",
       "      <td>0</td>\n",
       "      <td>M</td>\n",
       "      <td>employee</td>\n",
       "      <td>0</td>\n",
       "      <td>23108.150</td>\n",
       "      <td>purchase of the house for my family</td>\n",
       "      <td>adult</td>\n",
       "    </tr>\n",
       "  </tbody>\n",
       "</table>\n",
       "</div>"
      ],
      "text/plain": [
       "   children  days_employed  dob_years            education  education_id  \\\n",
       "0         1    8437.673028       42.0    bachelor's degree             0   \n",
       "1         1    4024.803754       36.0  secondary education             1   \n",
       "2         0    5623.422610       33.0  secondary education             1   \n",
       "3         3    4124.747207       32.0  secondary education             1   \n",
       "4         0  340266.072047       53.0  secondary education             1   \n",
       "5         0     926.185831       27.0    bachelor's degree             0   \n",
       "6         0    2879.202052       43.0    bachelor's degree             0   \n",
       "7         0     152.779569       50.0  secondary education             1   \n",
       "8         2    6929.865299       35.0    bachelor's degree             0   \n",
       "9         0    2188.756445       41.0  secondary education             1   \n",
       "\n",
       "       family_status  family_status_id gender income_type  debt  total_income  \\\n",
       "0            married                 0      F    employee     0     40620.102   \n",
       "1            married                 0      F    employee     0     17932.802   \n",
       "2            married                 0      M    employee     0     23341.752   \n",
       "3            married                 0      M    employee     0     42820.568   \n",
       "4  civil partnership                 1      F     retiree     0     25378.572   \n",
       "5  civil partnership                 1      M    business     0     40922.170   \n",
       "6            married                 0      F    business     0     38484.156   \n",
       "7            married                 0      M    employee     0     21731.829   \n",
       "8  civil partnership                 1      F    employee     0     15337.093   \n",
       "9            married                 0      M    employee     0     23108.150   \n",
       "\n",
       "                               purpose age_group  \n",
       "0                purchase of the house     adult  \n",
       "1                         car purchase     adult  \n",
       "2                purchase of the house     adult  \n",
       "3              supplementary education     adult  \n",
       "4                    to have a wedding    senior  \n",
       "5                purchase of the house     adult  \n",
       "6                 housing transactions     adult  \n",
       "7                            education    senior  \n",
       "8                     having a wedding     adult  \n",
       "9  purchase of the house for my family     adult  "
      ]
     },
     "execution_count": 67,
     "metadata": {},
     "output_type": "execute_result"
    }
   ],
   "source": [
    "\n",
    "\n",
    "data.head(10)"
   ]
  },
  {
   "cell_type": "markdown",
   "metadata": {},
   "source": [
    "Checking the entries in all columns"
   ]
  },
  {
   "cell_type": "code",
   "execution_count": 68,
   "metadata": {},
   "outputs": [
    {
     "data": {
      "text/html": [
       "<div>\n",
       "<style scoped>\n",
       "    .dataframe tbody tr th:only-of-type {\n",
       "        vertical-align: middle;\n",
       "    }\n",
       "\n",
       "    .dataframe tbody tr th {\n",
       "        vertical-align: top;\n",
       "    }\n",
       "\n",
       "    .dataframe thead th {\n",
       "        text-align: right;\n",
       "    }\n",
       "</style>\n",
       "<table border=\"1\" class=\"dataframe\">\n",
       "  <thead>\n",
       "    <tr style=\"text-align: right;\">\n",
       "      <th></th>\n",
       "      <th>children</th>\n",
       "      <th>days_employed</th>\n",
       "      <th>dob_years</th>\n",
       "      <th>education</th>\n",
       "      <th>education_id</th>\n",
       "      <th>family_status</th>\n",
       "      <th>family_status_id</th>\n",
       "      <th>gender</th>\n",
       "      <th>income_type</th>\n",
       "      <th>debt</th>\n",
       "      <th>total_income</th>\n",
       "      <th>purpose</th>\n",
       "      <th>age_group</th>\n",
       "    </tr>\n",
       "  </thead>\n",
       "  <tbody>\n",
       "    <tr>\n",
       "      <th>0</th>\n",
       "      <td>False</td>\n",
       "      <td>False</td>\n",
       "      <td>False</td>\n",
       "      <td>False</td>\n",
       "      <td>False</td>\n",
       "      <td>False</td>\n",
       "      <td>False</td>\n",
       "      <td>False</td>\n",
       "      <td>False</td>\n",
       "      <td>False</td>\n",
       "      <td>False</td>\n",
       "      <td>False</td>\n",
       "      <td>False</td>\n",
       "    </tr>\n",
       "    <tr>\n",
       "      <th>1</th>\n",
       "      <td>False</td>\n",
       "      <td>False</td>\n",
       "      <td>False</td>\n",
       "      <td>False</td>\n",
       "      <td>False</td>\n",
       "      <td>False</td>\n",
       "      <td>False</td>\n",
       "      <td>False</td>\n",
       "      <td>False</td>\n",
       "      <td>False</td>\n",
       "      <td>False</td>\n",
       "      <td>False</td>\n",
       "      <td>False</td>\n",
       "    </tr>\n",
       "    <tr>\n",
       "      <th>2</th>\n",
       "      <td>False</td>\n",
       "      <td>False</td>\n",
       "      <td>False</td>\n",
       "      <td>False</td>\n",
       "      <td>False</td>\n",
       "      <td>False</td>\n",
       "      <td>False</td>\n",
       "      <td>False</td>\n",
       "      <td>False</td>\n",
       "      <td>False</td>\n",
       "      <td>False</td>\n",
       "      <td>False</td>\n",
       "      <td>False</td>\n",
       "    </tr>\n",
       "    <tr>\n",
       "      <th>3</th>\n",
       "      <td>False</td>\n",
       "      <td>False</td>\n",
       "      <td>False</td>\n",
       "      <td>False</td>\n",
       "      <td>False</td>\n",
       "      <td>False</td>\n",
       "      <td>False</td>\n",
       "      <td>False</td>\n",
       "      <td>False</td>\n",
       "      <td>False</td>\n",
       "      <td>False</td>\n",
       "      <td>False</td>\n",
       "      <td>False</td>\n",
       "    </tr>\n",
       "    <tr>\n",
       "      <th>4</th>\n",
       "      <td>False</td>\n",
       "      <td>False</td>\n",
       "      <td>False</td>\n",
       "      <td>False</td>\n",
       "      <td>False</td>\n",
       "      <td>False</td>\n",
       "      <td>False</td>\n",
       "      <td>False</td>\n",
       "      <td>False</td>\n",
       "      <td>False</td>\n",
       "      <td>False</td>\n",
       "      <td>False</td>\n",
       "      <td>False</td>\n",
       "    </tr>\n",
       "    <tr>\n",
       "      <th>...</th>\n",
       "      <td>...</td>\n",
       "      <td>...</td>\n",
       "      <td>...</td>\n",
       "      <td>...</td>\n",
       "      <td>...</td>\n",
       "      <td>...</td>\n",
       "      <td>...</td>\n",
       "      <td>...</td>\n",
       "      <td>...</td>\n",
       "      <td>...</td>\n",
       "      <td>...</td>\n",
       "      <td>...</td>\n",
       "      <td>...</td>\n",
       "    </tr>\n",
       "    <tr>\n",
       "      <th>21520</th>\n",
       "      <td>False</td>\n",
       "      <td>False</td>\n",
       "      <td>False</td>\n",
       "      <td>False</td>\n",
       "      <td>False</td>\n",
       "      <td>False</td>\n",
       "      <td>False</td>\n",
       "      <td>False</td>\n",
       "      <td>False</td>\n",
       "      <td>False</td>\n",
       "      <td>False</td>\n",
       "      <td>False</td>\n",
       "      <td>False</td>\n",
       "    </tr>\n",
       "    <tr>\n",
       "      <th>21521</th>\n",
       "      <td>False</td>\n",
       "      <td>False</td>\n",
       "      <td>False</td>\n",
       "      <td>False</td>\n",
       "      <td>False</td>\n",
       "      <td>False</td>\n",
       "      <td>False</td>\n",
       "      <td>False</td>\n",
       "      <td>False</td>\n",
       "      <td>False</td>\n",
       "      <td>False</td>\n",
       "      <td>False</td>\n",
       "      <td>False</td>\n",
       "    </tr>\n",
       "    <tr>\n",
       "      <th>21522</th>\n",
       "      <td>False</td>\n",
       "      <td>False</td>\n",
       "      <td>False</td>\n",
       "      <td>False</td>\n",
       "      <td>False</td>\n",
       "      <td>False</td>\n",
       "      <td>False</td>\n",
       "      <td>False</td>\n",
       "      <td>False</td>\n",
       "      <td>False</td>\n",
       "      <td>False</td>\n",
       "      <td>False</td>\n",
       "      <td>False</td>\n",
       "    </tr>\n",
       "    <tr>\n",
       "      <th>21523</th>\n",
       "      <td>False</td>\n",
       "      <td>False</td>\n",
       "      <td>False</td>\n",
       "      <td>False</td>\n",
       "      <td>False</td>\n",
       "      <td>False</td>\n",
       "      <td>False</td>\n",
       "      <td>False</td>\n",
       "      <td>False</td>\n",
       "      <td>False</td>\n",
       "      <td>False</td>\n",
       "      <td>False</td>\n",
       "      <td>False</td>\n",
       "    </tr>\n",
       "    <tr>\n",
       "      <th>21524</th>\n",
       "      <td>False</td>\n",
       "      <td>False</td>\n",
       "      <td>False</td>\n",
       "      <td>False</td>\n",
       "      <td>False</td>\n",
       "      <td>False</td>\n",
       "      <td>False</td>\n",
       "      <td>False</td>\n",
       "      <td>False</td>\n",
       "      <td>False</td>\n",
       "      <td>False</td>\n",
       "      <td>False</td>\n",
       "      <td>False</td>\n",
       "    </tr>\n",
       "  </tbody>\n",
       "</table>\n",
       "<p>21451 rows × 13 columns</p>\n",
       "</div>"
      ],
      "text/plain": [
       "       children  days_employed  dob_years  education  education_id  \\\n",
       "0         False          False      False      False         False   \n",
       "1         False          False      False      False         False   \n",
       "2         False          False      False      False         False   \n",
       "3         False          False      False      False         False   \n",
       "4         False          False      False      False         False   \n",
       "...         ...            ...        ...        ...           ...   \n",
       "21520     False          False      False      False         False   \n",
       "21521     False          False      False      False         False   \n",
       "21522     False          False      False      False         False   \n",
       "21523     False          False      False      False         False   \n",
       "21524     False          False      False      False         False   \n",
       "\n",
       "       family_status  family_status_id  gender  income_type   debt  \\\n",
       "0              False             False   False        False  False   \n",
       "1              False             False   False        False  False   \n",
       "2              False             False   False        False  False   \n",
       "3              False             False   False        False  False   \n",
       "4              False             False   False        False  False   \n",
       "...              ...               ...     ...          ...    ...   \n",
       "21520          False             False   False        False  False   \n",
       "21521          False             False   False        False  False   \n",
       "21522          False             False   False        False  False   \n",
       "21523          False             False   False        False  False   \n",
       "21524          False             False   False        False  False   \n",
       "\n",
       "       total_income  purpose  age_group  \n",
       "0             False    False      False  \n",
       "1             False    False      False  \n",
       "2             False    False      False  \n",
       "3             False    False      False  \n",
       "4             False    False      False  \n",
       "...             ...      ...        ...  \n",
       "21520         False    False      False  \n",
       "21521         False    False      False  \n",
       "21522         False    False      False  \n",
       "21523         False    False      False  \n",
       "21524         False    False      False  \n",
       "\n",
       "[21451 rows x 13 columns]"
      ]
     },
     "execution_count": 68,
     "metadata": {},
     "output_type": "execute_result"
    }
   ],
   "source": [
    "\n",
    "data.isnull()"
   ]
  },
  {
   "cell_type": "code",
   "execution_count": 69,
   "metadata": {},
   "outputs": [
    {
     "data": {
      "text/html": [
       "<div>\n",
       "<style scoped>\n",
       "    .dataframe tbody tr th:only-of-type {\n",
       "        vertical-align: middle;\n",
       "    }\n",
       "\n",
       "    .dataframe tbody tr th {\n",
       "        vertical-align: top;\n",
       "    }\n",
       "\n",
       "    .dataframe thead th {\n",
       "        text-align: right;\n",
       "    }\n",
       "</style>\n",
       "<table border=\"1\" class=\"dataframe\">\n",
       "  <thead>\n",
       "    <tr style=\"text-align: right;\">\n",
       "      <th></th>\n",
       "      <th>count</th>\n",
       "      <th>unique</th>\n",
       "      <th>top</th>\n",
       "      <th>freq</th>\n",
       "      <th>mean</th>\n",
       "      <th>std</th>\n",
       "      <th>min</th>\n",
       "      <th>25%</th>\n",
       "      <th>50%</th>\n",
       "      <th>75%</th>\n",
       "      <th>max</th>\n",
       "    </tr>\n",
       "  </thead>\n",
       "  <tbody>\n",
       "    <tr>\n",
       "      <th>children</th>\n",
       "      <td>21451.0</td>\n",
       "      <td>NaN</td>\n",
       "      <td>NaN</td>\n",
       "      <td>NaN</td>\n",
       "      <td>0.480584</td>\n",
       "      <td>0.756099</td>\n",
       "      <td>0.0</td>\n",
       "      <td>0.0</td>\n",
       "      <td>0.0</td>\n",
       "      <td>1.0</td>\n",
       "      <td>5.0</td>\n",
       "    </tr>\n",
       "    <tr>\n",
       "      <th>days_employed</th>\n",
       "      <td>21451.0</td>\n",
       "      <td>NaN</td>\n",
       "      <td>NaN</td>\n",
       "      <td>NaN</td>\n",
       "      <td>67123.085678</td>\n",
       "      <td>134721.686841</td>\n",
       "      <td>24.141633</td>\n",
       "      <td>1023.585294</td>\n",
       "      <td>2590.976638</td>\n",
       "      <td>7238.582916</td>\n",
       "      <td>401755.400475</td>\n",
       "    </tr>\n",
       "    <tr>\n",
       "      <th>dob_years</th>\n",
       "      <td>21451.0</td>\n",
       "      <td>NaN</td>\n",
       "      <td>NaN</td>\n",
       "      <td>NaN</td>\n",
       "      <td>43.474087</td>\n",
       "      <td>12.213885</td>\n",
       "      <td>19.0</td>\n",
       "      <td>33.0</td>\n",
       "      <td>43.0</td>\n",
       "      <td>53.0</td>\n",
       "      <td>75.0</td>\n",
       "    </tr>\n",
       "    <tr>\n",
       "      <th>education</th>\n",
       "      <td>21451</td>\n",
       "      <td>5</td>\n",
       "      <td>secondary education</td>\n",
       "      <td>15171</td>\n",
       "      <td>NaN</td>\n",
       "      <td>NaN</td>\n",
       "      <td>NaN</td>\n",
       "      <td>NaN</td>\n",
       "      <td>NaN</td>\n",
       "      <td>NaN</td>\n",
       "      <td>NaN</td>\n",
       "    </tr>\n",
       "    <tr>\n",
       "      <th>education_id</th>\n",
       "      <td>21451.0</td>\n",
       "      <td>NaN</td>\n",
       "      <td>NaN</td>\n",
       "      <td>NaN</td>\n",
       "      <td>0.817165</td>\n",
       "      <td>0.548655</td>\n",
       "      <td>0.0</td>\n",
       "      <td>1.0</td>\n",
       "      <td>1.0</td>\n",
       "      <td>1.0</td>\n",
       "      <td>4.0</td>\n",
       "    </tr>\n",
       "    <tr>\n",
       "      <th>family_status</th>\n",
       "      <td>21451</td>\n",
       "      <td>5</td>\n",
       "      <td>married</td>\n",
       "      <td>12336</td>\n",
       "      <td>NaN</td>\n",
       "      <td>NaN</td>\n",
       "      <td>NaN</td>\n",
       "      <td>NaN</td>\n",
       "      <td>NaN</td>\n",
       "      <td>NaN</td>\n",
       "      <td>NaN</td>\n",
       "    </tr>\n",
       "    <tr>\n",
       "      <th>family_status_id</th>\n",
       "      <td>21451.0</td>\n",
       "      <td>NaN</td>\n",
       "      <td>NaN</td>\n",
       "      <td>NaN</td>\n",
       "      <td>0.974034</td>\n",
       "      <td>1.42162</td>\n",
       "      <td>0.0</td>\n",
       "      <td>0.0</td>\n",
       "      <td>0.0</td>\n",
       "      <td>1.0</td>\n",
       "      <td>4.0</td>\n",
       "    </tr>\n",
       "    <tr>\n",
       "      <th>gender</th>\n",
       "      <td>21451</td>\n",
       "      <td>3</td>\n",
       "      <td>F</td>\n",
       "      <td>14172</td>\n",
       "      <td>NaN</td>\n",
       "      <td>NaN</td>\n",
       "      <td>NaN</td>\n",
       "      <td>NaN</td>\n",
       "      <td>NaN</td>\n",
       "      <td>NaN</td>\n",
       "      <td>NaN</td>\n",
       "    </tr>\n",
       "    <tr>\n",
       "      <th>income_type</th>\n",
       "      <td>21451</td>\n",
       "      <td>6</td>\n",
       "      <td>employee</td>\n",
       "      <td>12538</td>\n",
       "      <td>NaN</td>\n",
       "      <td>NaN</td>\n",
       "      <td>NaN</td>\n",
       "      <td>NaN</td>\n",
       "      <td>NaN</td>\n",
       "      <td>NaN</td>\n",
       "      <td>NaN</td>\n",
       "    </tr>\n",
       "    <tr>\n",
       "      <th>debt</th>\n",
       "      <td>21451.0</td>\n",
       "      <td>NaN</td>\n",
       "      <td>NaN</td>\n",
       "      <td>NaN</td>\n",
       "      <td>0.081162</td>\n",
       "      <td>0.27309</td>\n",
       "      <td>0.0</td>\n",
       "      <td>0.0</td>\n",
       "      <td>0.0</td>\n",
       "      <td>0.0</td>\n",
       "      <td>1.0</td>\n",
       "    </tr>\n",
       "    <tr>\n",
       "      <th>total_income</th>\n",
       "      <td>21451.0</td>\n",
       "      <td>NaN</td>\n",
       "      <td>NaN</td>\n",
       "      <td>NaN</td>\n",
       "      <td>26784.36725</td>\n",
       "      <td>15654.428036</td>\n",
       "      <td>3306.762</td>\n",
       "      <td>17211.0</td>\n",
       "      <td>24833.682909</td>\n",
       "      <td>31331.235</td>\n",
       "      <td>362496.645</td>\n",
       "    </tr>\n",
       "    <tr>\n",
       "      <th>purpose</th>\n",
       "      <td>21451</td>\n",
       "      <td>38</td>\n",
       "      <td>wedding ceremony</td>\n",
       "      <td>791</td>\n",
       "      <td>NaN</td>\n",
       "      <td>NaN</td>\n",
       "      <td>NaN</td>\n",
       "      <td>NaN</td>\n",
       "      <td>NaN</td>\n",
       "      <td>NaN</td>\n",
       "      <td>NaN</td>\n",
       "    </tr>\n",
       "    <tr>\n",
       "      <th>age_group</th>\n",
       "      <td>21451</td>\n",
       "      <td>3</td>\n",
       "      <td>adult</td>\n",
       "      <td>14281</td>\n",
       "      <td>NaN</td>\n",
       "      <td>NaN</td>\n",
       "      <td>NaN</td>\n",
       "      <td>NaN</td>\n",
       "      <td>NaN</td>\n",
       "      <td>NaN</td>\n",
       "      <td>NaN</td>\n",
       "    </tr>\n",
       "  </tbody>\n",
       "</table>\n",
       "</div>"
      ],
      "text/plain": [
       "                    count unique                  top   freq          mean  \\\n",
       "children          21451.0    NaN                  NaN    NaN      0.480584   \n",
       "days_employed     21451.0    NaN                  NaN    NaN  67123.085678   \n",
       "dob_years         21451.0    NaN                  NaN    NaN     43.474087   \n",
       "education           21451      5  secondary education  15171           NaN   \n",
       "education_id      21451.0    NaN                  NaN    NaN      0.817165   \n",
       "family_status       21451      5              married  12336           NaN   \n",
       "family_status_id  21451.0    NaN                  NaN    NaN      0.974034   \n",
       "gender              21451      3                    F  14172           NaN   \n",
       "income_type         21451      6             employee  12538           NaN   \n",
       "debt              21451.0    NaN                  NaN    NaN      0.081162   \n",
       "total_income      21451.0    NaN                  NaN    NaN   26784.36725   \n",
       "purpose             21451     38     wedding ceremony    791           NaN   \n",
       "age_group           21451      3                adult  14281           NaN   \n",
       "\n",
       "                            std        min          25%           50%  \\\n",
       "children               0.756099        0.0          0.0           0.0   \n",
       "days_employed     134721.686841  24.141633  1023.585294   2590.976638   \n",
       "dob_years             12.213885       19.0         33.0          43.0   \n",
       "education                   NaN        NaN          NaN           NaN   \n",
       "education_id           0.548655        0.0          1.0           1.0   \n",
       "family_status               NaN        NaN          NaN           NaN   \n",
       "family_status_id        1.42162        0.0          0.0           0.0   \n",
       "gender                      NaN        NaN          NaN           NaN   \n",
       "income_type                 NaN        NaN          NaN           NaN   \n",
       "debt                    0.27309        0.0          0.0           0.0   \n",
       "total_income       15654.428036   3306.762      17211.0  24833.682909   \n",
       "purpose                     NaN        NaN          NaN           NaN   \n",
       "age_group                   NaN        NaN          NaN           NaN   \n",
       "\n",
       "                          75%            max  \n",
       "children                  1.0            5.0  \n",
       "days_employed     7238.582916  401755.400475  \n",
       "dob_years                53.0           75.0  \n",
       "education                 NaN            NaN  \n",
       "education_id              1.0            4.0  \n",
       "family_status             NaN            NaN  \n",
       "family_status_id          1.0            4.0  \n",
       "gender                    NaN            NaN  \n",
       "income_type               NaN            NaN  \n",
       "debt                      0.0            1.0  \n",
       "total_income        31331.235     362496.645  \n",
       "purpose                   NaN            NaN  \n",
       "age_group                 NaN            NaN  "
      ]
     },
     "execution_count": 69,
     "metadata": {},
     "output_type": "execute_result"
    }
   ],
   "source": [
    "data.describe(include = 'all').T"
   ]
  },
  {
   "cell_type": "code",
   "execution_count": 70,
   "metadata": {},
   "outputs": [
    {
     "name": "stdout",
     "output_type": "stream",
     "text": [
      "<class 'pandas.core.frame.DataFrame'>\n",
      "Int64Index: 21451 entries, 0 to 21524\n",
      "Data columns (total 13 columns):\n",
      " #   Column            Non-Null Count  Dtype  \n",
      "---  ------            --------------  -----  \n",
      " 0   children          21451 non-null  int64  \n",
      " 1   days_employed     21451 non-null  float64\n",
      " 2   dob_years         21451 non-null  float64\n",
      " 3   education         21451 non-null  object \n",
      " 4   education_id      21451 non-null  int64  \n",
      " 5   family_status     21451 non-null  object \n",
      " 6   family_status_id  21451 non-null  int64  \n",
      " 7   gender            21451 non-null  object \n",
      " 8   income_type       21451 non-null  object \n",
      " 9   debt              21451 non-null  int64  \n",
      " 10  total_income      21451 non-null  float64\n",
      " 11  purpose           21451 non-null  object \n",
      " 12  age_group         21451 non-null  object \n",
      "dtypes: float64(3), int64(4), object(6)\n",
      "memory usage: 2.3+ MB\n"
     ]
    }
   ],
   "source": [
    "data.info()"
   ]
  },
  {
   "cell_type": "markdown",
   "metadata": {},
   "source": [
    "## Categorization of data\n",
    "\n",
    "[To answer the questions and test the hypotheses, you will want to work with categorized data. Look at the questions that were posed to you and that you should answer. Think about which of the data will need to be categorized to answer these questions. Below you will find a template through which you can work your way when categorizing data. The first step-by-step processing covers the text data; the second one addresses the numerical data that needs to be categorized. You can use both or none of the suggested instructions - it's up to you.]\n",
    "\n",
    "[Despite of how you decide to address the categorization, make sure to provide clear explanation of why you made your decision. Remember: this is your work and you make all decisions in it.]\n"
   ]
  },
  {
   "cell_type": "markdown",
   "metadata": {},
   "source": [
    "Print the values for your selected data for categorization"
   ]
  },
  {
   "cell_type": "code",
   "execution_count": 71,
   "metadata": {
    "scrolled": true
   },
   "outputs": [
    {
     "data": {
      "text/plain": [
       "array(['purchase of the house', 'car purchase', 'supplementary education',\n",
       "       'to have a wedding', 'housing transactions', 'education',\n",
       "       'having a wedding', 'purchase of the house for my family',\n",
       "       'buy real estate', 'buy commercial real estate',\n",
       "       'buy residential real estate', 'construction of own property',\n",
       "       'property', 'building a property', 'buying a second-hand car',\n",
       "       'buying my own car', 'transactions with commercial real estate',\n",
       "       'building a real estate', 'housing',\n",
       "       'transactions with my real estate', 'cars', 'to become educated',\n",
       "       'second-hand car purchase', 'getting an education', 'car',\n",
       "       'wedding ceremony', 'to get a supplementary education',\n",
       "       'purchase of my own house', 'real estate transactions',\n",
       "       'getting higher education', 'to own a car', 'purchase of a car',\n",
       "       'profile education', 'university education',\n",
       "       'buying property for renting out', 'to buy a car',\n",
       "       'housing renovation', 'going to university'], dtype=object)"
      ]
     },
     "execution_count": 71,
     "metadata": {},
     "output_type": "execute_result"
    }
   ],
   "source": [
    "\n",
    "\n",
    "data['purpose'].unique()"
   ]
  },
  {
   "cell_type": "markdown",
   "metadata": {},
   "source": [
    "Will lemmatize the words"
   ]
  },
  {
   "cell_type": "markdown",
   "metadata": {},
   "source": [
    "Checking the unique values"
   ]
  },
  {
   "cell_type": "code",
   "execution_count": 72,
   "metadata": {},
   "outputs": [
    {
     "name": "stdout",
     "output_type": "stream",
     "text": [
      "Requirement already satisfied: pymystem3 in c:\\users\\ididi\\anaconda3\\lib\\site-packages (0.2.0)\n",
      "Requirement already satisfied: requests in c:\\users\\ididi\\anaconda3\\lib\\site-packages (from pymystem3) (2.26.0)\n",
      "Requirement already satisfied: certifi>=2017.4.17 in c:\\users\\ididi\\anaconda3\\lib\\site-packages (from requests->pymystem3) (2021.10.8)\n",
      "Requirement already satisfied: urllib3<1.27,>=1.21.1 in c:\\users\\ididi\\anaconda3\\lib\\site-packages (from requests->pymystem3) (1.26.7)\n",
      "Requirement already satisfied: charset-normalizer~=2.0.0 in c:\\users\\ididi\\anaconda3\\lib\\site-packages (from requests->pymystem3) (2.0.4)\n",
      "Requirement already satisfied: idna<4,>=2.5 in c:\\users\\ididi\\anaconda3\\lib\\site-packages (from requests->pymystem3) (3.2)\n",
      "Note: you may need to restart the kernel to use updated packages.\n"
     ]
    }
   ],
   "source": [
    "%pip install pymystem3\n",
    "from pymystem3 import Mystem\n",
    "from collections import Counter\n",
    "m = Mystem()"
   ]
  },
  {
   "cell_type": "code",
   "execution_count": 73,
   "metadata": {},
   "outputs": [],
   "source": [
    "import nltk\n",
    "from nltk.stem import WordNetLemmatizer\n",
    "\n",
    "wordnet_lemma = WordNetLemmatizer()"
   ]
  },
  {
   "cell_type": "code",
   "execution_count": 74,
   "metadata": {},
   "outputs": [
    {
     "name": "stdout",
     "output_type": "stream",
     "text": [
      "['purchase', 'of', 'the', 'house', ',', 'car', 'purchase', ',', 'supplementary', 'education']\n",
      "['purchase', 'of', 'the', 'house', ',', 'car', 'purchase', ',', 'supplementary', 'education']\n"
     ]
    }
   ],
   "source": [
    "purpose = 'purchase of the house,car purchase,supplementary education'\n",
    "words = nltk.word_tokenize(purpose)\n",
    "print(words)\n",
    "lemmas = [wordnet_lemma.lemmatize(w, pos = 'n') for w in words]\n",
    "print(lemmas) "
   ]
  },
  {
   "cell_type": "markdown",
   "metadata": {},
   "source": [
    "Let's write a function to categorize the data based on common topics"
   ]
  },
  {
   "cell_type": "code",
   "execution_count": 75,
   "metadata": {},
   "outputs": [],
   "source": [
    "\n",
    "lemmas_list_all = []\n",
    "\n",
    "for purpose in data.purpose.unique():\n",
    "    words = nltk.word_tokenize(purpose)\n",
    "    lemmas = [wordnet_lemma.lemmatize(w, pos = 'n') for w in words]\n",
    "    lemmas=[l.lower() for l in lemmas]\n",
    "    for i in lemmas:\n",
    "        lemmas_list_all.append(i)"
   ]
  },
  {
   "cell_type": "code",
   "execution_count": 76,
   "metadata": {},
   "outputs": [
    {
     "data": {
      "text/plain": [
       "['purchase',\n",
       " 'of',\n",
       " 'the',\n",
       " 'house',\n",
       " 'car',\n",
       " 'purchase',\n",
       " 'supplementary',\n",
       " 'education',\n",
       " 'to',\n",
       " 'have',\n",
       " 'a',\n",
       " 'wedding',\n",
       " 'housing',\n",
       " 'transaction',\n",
       " 'education',\n",
       " 'having',\n",
       " 'a',\n",
       " 'wedding',\n",
       " 'purchase',\n",
       " 'of',\n",
       " 'the',\n",
       " 'house',\n",
       " 'for',\n",
       " 'my',\n",
       " 'family',\n",
       " 'buy',\n",
       " 'real',\n",
       " 'estate',\n",
       " 'buy',\n",
       " 'commercial',\n",
       " 'real',\n",
       " 'estate',\n",
       " 'buy',\n",
       " 'residential',\n",
       " 'real',\n",
       " 'estate',\n",
       " 'construction',\n",
       " 'of',\n",
       " 'own',\n",
       " 'property',\n",
       " 'property',\n",
       " 'building',\n",
       " 'a',\n",
       " 'property',\n",
       " 'buying',\n",
       " 'a',\n",
       " 'second-hand',\n",
       " 'car',\n",
       " 'buying',\n",
       " 'my',\n",
       " 'own',\n",
       " 'car',\n",
       " 'transaction',\n",
       " 'with',\n",
       " 'commercial',\n",
       " 'real',\n",
       " 'estate',\n",
       " 'building',\n",
       " 'a',\n",
       " 'real',\n",
       " 'estate',\n",
       " 'housing',\n",
       " 'transaction',\n",
       " 'with',\n",
       " 'my',\n",
       " 'real',\n",
       " 'estate',\n",
       " 'car',\n",
       " 'to',\n",
       " 'become',\n",
       " 'educated',\n",
       " 'second-hand',\n",
       " 'car',\n",
       " 'purchase',\n",
       " 'getting',\n",
       " 'an',\n",
       " 'education',\n",
       " 'car',\n",
       " 'wedding',\n",
       " 'ceremony',\n",
       " 'to',\n",
       " 'get',\n",
       " 'a',\n",
       " 'supplementary',\n",
       " 'education',\n",
       " 'purchase',\n",
       " 'of',\n",
       " 'my',\n",
       " 'own',\n",
       " 'house',\n",
       " 'real',\n",
       " 'estate',\n",
       " 'transaction',\n",
       " 'getting',\n",
       " 'higher',\n",
       " 'education',\n",
       " 'to',\n",
       " 'own',\n",
       " 'a',\n",
       " 'car',\n",
       " 'purchase',\n",
       " 'of',\n",
       " 'a',\n",
       " 'car',\n",
       " 'profile',\n",
       " 'education',\n",
       " 'university',\n",
       " 'education',\n",
       " 'buying',\n",
       " 'property',\n",
       " 'for',\n",
       " 'renting',\n",
       " 'out',\n",
       " 'to',\n",
       " 'buy',\n",
       " 'a',\n",
       " 'car',\n",
       " 'housing',\n",
       " 'renovation',\n",
       " 'going',\n",
       " 'to',\n",
       " 'university']"
      ]
     },
     "execution_count": 76,
     "metadata": {},
     "output_type": "execute_result"
    }
   ],
   "source": [
    "lemmas_list_all"
   ]
  },
  {
   "cell_type": "markdown",
   "metadata": {},
   "source": [
    "Create a column with the categories and count the values for them"
   ]
  },
  {
   "cell_type": "code",
   "execution_count": 77,
   "metadata": {},
   "outputs": [
    {
     "data": {
      "text/plain": [
       "Counter({'purchase': 6,\n",
       "         'of': 5,\n",
       "         'the': 2,\n",
       "         'house': 3,\n",
       "         'car': 9,\n",
       "         'supplementary': 2,\n",
       "         'education': 7,\n",
       "         'to': 6,\n",
       "         'have': 1,\n",
       "         'a': 9,\n",
       "         'wedding': 3,\n",
       "         'housing': 3,\n",
       "         'transaction': 4,\n",
       "         'having': 1,\n",
       "         'for': 2,\n",
       "         'my': 4,\n",
       "         'family': 1,\n",
       "         'buy': 4,\n",
       "         'real': 7,\n",
       "         'estate': 7,\n",
       "         'commercial': 2,\n",
       "         'residential': 1,\n",
       "         'construction': 1,\n",
       "         'own': 4,\n",
       "         'property': 4,\n",
       "         'building': 2,\n",
       "         'buying': 3,\n",
       "         'second-hand': 2,\n",
       "         'with': 2,\n",
       "         'become': 1,\n",
       "         'educated': 1,\n",
       "         'getting': 2,\n",
       "         'an': 1,\n",
       "         'ceremony': 1,\n",
       "         'get': 1,\n",
       "         'higher': 1,\n",
       "         'profile': 1,\n",
       "         'university': 2,\n",
       "         'renting': 1,\n",
       "         'out': 1,\n",
       "         'renovation': 1,\n",
       "         'going': 1})"
      ]
     },
     "execution_count": 77,
     "metadata": {},
     "output_type": "execute_result"
    }
   ],
   "source": [
    "\n",
    "Counter(lemmas_list_all)\n"
   ]
  },
  {
   "cell_type": "code",
   "execution_count": 78,
   "metadata": {},
   "outputs": [],
   "source": [
    "estete_category=['purchase','house','housing','estate','residential','construction',\n",
    "                       'own','property','building','buying','renting','real']\n",
    "education_category=['education','own','educated','university',]\n",
    "business_category=['supplementary','commercial','own','buying','renovation']\n",
    "private_category=['wedding','family','buying','ceremony']\n",
    "auto_category=['car','own','buying',]"
   ]
  },
  {
   "cell_type": "markdown",
   "metadata": {},
   "source": [
    "Lemmatization_func(example)"
   ]
  },
  {
   "cell_type": "code",
   "execution_count": 79,
   "metadata": {},
   "outputs": [],
   "source": [
    "def lemmatization_func(line):\n",
    "    words = nltk.word_tokenize(line)\n",
    "    lemmas = [wordnet_lemma.lemmatize(w, pos = 'n') for w in words]\n",
    "    lemmas=[l.lower() for l in lemmas]\n",
    "    return lemmas"
   ]
  },
  {
   "cell_type": "code",
   "execution_count": 80,
   "metadata": {},
   "outputs": [
    {
     "data": {
      "text/plain": [
       "'purchase of the house'"
      ]
     },
     "execution_count": 80,
     "metadata": {},
     "output_type": "execute_result"
    }
   ],
   "source": [
    "example=data.loc[0]['purpose']\n",
    "example"
   ]
  },
  {
   "cell_type": "code",
   "execution_count": 81,
   "metadata": {},
   "outputs": [
    {
     "data": {
      "text/plain": [
       "['purchase', 'of', 'the', 'house']"
      ]
     },
     "execution_count": 81,
     "metadata": {},
     "output_type": "execute_result"
    }
   ],
   "source": [
    "lemmatization_func(example)"
   ]
  },
  {
   "cell_type": "markdown",
   "metadata": {},
   "source": [
    "Example of Any"
   ]
  },
  {
   "cell_type": "code",
   "execution_count": 82,
   "metadata": {},
   "outputs": [
    {
     "data": {
      "text/plain": [
       "False"
      ]
     },
     "execution_count": 82,
     "metadata": {},
     "output_type": "execute_result"
    }
   ],
   "source": [
    "any(word in lemmatization_func(example) for word in education_category)\n"
   ]
  },
  {
   "cell_type": "code",
   "execution_count": 83,
   "metadata": {},
   "outputs": [
    {
     "data": {
      "text/plain": [
       "True"
      ]
     },
     "execution_count": 83,
     "metadata": {},
     "output_type": "execute_result"
    }
   ],
   "source": [
    "any(word in lemmatization_func(example) for word in estete_category)"
   ]
  },
  {
   "cell_type": "code",
   "execution_count": 84,
   "metadata": {},
   "outputs": [],
   "source": [
    "def lemmatization_func(line):\n",
    "  \n",
    "    words = nltk.word_tokenize(line)\n",
    "    lemmas = [wordnet_lemma.lemmatize(w, pos = 'n') for w in words]\n",
    "    lemmas=[l.lower() for l in lemmas]\n",
    "    \n",
    "    if any(word in lemmas for word in estete_category):\n",
    "        return 'estete'\n",
    "    elif  any(word in lemmas for word in education_category):\n",
    "        return 'education'\n",
    "    elif  any(word in lemmas for word in business_category):\n",
    "        return 'business'\n",
    "    elif  any(word in lemmas for word in private_category):\n",
    "        return 'privet'\n",
    "    elif  any(word in lemmas for word in auto_category):\n",
    "        return 'auto'\n",
    "    else:\n",
    "        \n",
    "        return 'other'\n"
   ]
  },
  {
   "cell_type": "code",
   "execution_count": 85,
   "metadata": {},
   "outputs": [
    {
     "data": {
      "text/plain": [
       "'estete'"
      ]
     },
     "execution_count": 85,
     "metadata": {},
     "output_type": "execute_result"
    }
   ],
   "source": [
    "lemmatization_func(example)"
   ]
  },
  {
   "cell_type": "code",
   "execution_count": 86,
   "metadata": {},
   "outputs": [],
   "source": [
    "data['cat_purpose']=data['purpose'].apply(lemmatization_func)"
   ]
  },
  {
   "cell_type": "code",
   "execution_count": 87,
   "metadata": {},
   "outputs": [
    {
     "data": {
      "text/plain": [
       "estete       13672\n",
       "education     4012\n",
       "privet        2324\n",
       "auto          1443\n",
       "Name: cat_purpose, dtype: int64"
      ]
     },
     "execution_count": 87,
     "metadata": {},
     "output_type": "execute_result"
    }
   ],
   "source": [
    "data['cat_purpose'].value_counts()"
   ]
  },
  {
   "cell_type": "markdown",
   "metadata": {},
   "source": [
    "[If you decide to categorize the numerical data, you'll need to come up with the categories for it too.]"
   ]
  },
  {
   "cell_type": "markdown",
   "metadata": {},
   "source": [
    "**I cotegorized numerical data previesly then I categorized the age by age groups** "
   ]
  },
  {
   "cell_type": "markdown",
   "metadata": {},
   "source": [
    "## Checking the Hypotheses\n"
   ]
  },
  {
   "cell_type": "markdown",
   "metadata": {},
   "source": [
    "**Is there a correlation between having children and paying back on time?**"
   ]
  },
  {
   "cell_type": "markdown",
   "metadata": {},
   "source": [
    "Calculating default-rate based on the number of children"
   ]
  },
  {
   "cell_type": "code",
   "execution_count": 88,
   "metadata": {},
   "outputs": [
    {
     "data": {
      "text/html": [
       "<div>\n",
       "<style scoped>\n",
       "    .dataframe tbody tr th:only-of-type {\n",
       "        vertical-align: middle;\n",
       "    }\n",
       "\n",
       "    .dataframe tbody tr th {\n",
       "        vertical-align: top;\n",
       "    }\n",
       "\n",
       "    .dataframe thead th {\n",
       "        text-align: right;\n",
       "    }\n",
       "</style>\n",
       "<table border=\"1\" class=\"dataframe\">\n",
       "  <thead>\n",
       "    <tr style=\"text-align: right;\">\n",
       "      <th></th>\n",
       "      <th>children</th>\n",
       "      <th>days_employed</th>\n",
       "      <th>dob_years</th>\n",
       "      <th>education</th>\n",
       "      <th>education_id</th>\n",
       "      <th>family_status</th>\n",
       "      <th>family_status_id</th>\n",
       "      <th>gender</th>\n",
       "      <th>income_type</th>\n",
       "      <th>debt</th>\n",
       "      <th>total_income</th>\n",
       "      <th>purpose</th>\n",
       "      <th>age_group</th>\n",
       "      <th>cat_purpose</th>\n",
       "    </tr>\n",
       "  </thead>\n",
       "  <tbody>\n",
       "    <tr>\n",
       "      <th>0</th>\n",
       "      <td>1</td>\n",
       "      <td>8437.673028</td>\n",
       "      <td>42.0</td>\n",
       "      <td>bachelor's degree</td>\n",
       "      <td>0</td>\n",
       "      <td>married</td>\n",
       "      <td>0</td>\n",
       "      <td>F</td>\n",
       "      <td>employee</td>\n",
       "      <td>0</td>\n",
       "      <td>40620.102</td>\n",
       "      <td>purchase of the house</td>\n",
       "      <td>adult</td>\n",
       "      <td>estete</td>\n",
       "    </tr>\n",
       "    <tr>\n",
       "      <th>1</th>\n",
       "      <td>1</td>\n",
       "      <td>4024.803754</td>\n",
       "      <td>36.0</td>\n",
       "      <td>secondary education</td>\n",
       "      <td>1</td>\n",
       "      <td>married</td>\n",
       "      <td>0</td>\n",
       "      <td>F</td>\n",
       "      <td>employee</td>\n",
       "      <td>0</td>\n",
       "      <td>17932.802</td>\n",
       "      <td>car purchase</td>\n",
       "      <td>adult</td>\n",
       "      <td>estete</td>\n",
       "    </tr>\n",
       "    <tr>\n",
       "      <th>2</th>\n",
       "      <td>0</td>\n",
       "      <td>5623.422610</td>\n",
       "      <td>33.0</td>\n",
       "      <td>secondary education</td>\n",
       "      <td>1</td>\n",
       "      <td>married</td>\n",
       "      <td>0</td>\n",
       "      <td>M</td>\n",
       "      <td>employee</td>\n",
       "      <td>0</td>\n",
       "      <td>23341.752</td>\n",
       "      <td>purchase of the house</td>\n",
       "      <td>adult</td>\n",
       "      <td>estete</td>\n",
       "    </tr>\n",
       "    <tr>\n",
       "      <th>3</th>\n",
       "      <td>3</td>\n",
       "      <td>4124.747207</td>\n",
       "      <td>32.0</td>\n",
       "      <td>secondary education</td>\n",
       "      <td>1</td>\n",
       "      <td>married</td>\n",
       "      <td>0</td>\n",
       "      <td>M</td>\n",
       "      <td>employee</td>\n",
       "      <td>0</td>\n",
       "      <td>42820.568</td>\n",
       "      <td>supplementary education</td>\n",
       "      <td>adult</td>\n",
       "      <td>education</td>\n",
       "    </tr>\n",
       "    <tr>\n",
       "      <th>4</th>\n",
       "      <td>0</td>\n",
       "      <td>340266.072047</td>\n",
       "      <td>53.0</td>\n",
       "      <td>secondary education</td>\n",
       "      <td>1</td>\n",
       "      <td>civil partnership</td>\n",
       "      <td>1</td>\n",
       "      <td>F</td>\n",
       "      <td>retiree</td>\n",
       "      <td>0</td>\n",
       "      <td>25378.572</td>\n",
       "      <td>to have a wedding</td>\n",
       "      <td>senior</td>\n",
       "      <td>privet</td>\n",
       "    </tr>\n",
       "  </tbody>\n",
       "</table>\n",
       "</div>"
      ],
      "text/plain": [
       "   children  days_employed  dob_years            education  education_id  \\\n",
       "0         1    8437.673028       42.0    bachelor's degree             0   \n",
       "1         1    4024.803754       36.0  secondary education             1   \n",
       "2         0    5623.422610       33.0  secondary education             1   \n",
       "3         3    4124.747207       32.0  secondary education             1   \n",
       "4         0  340266.072047       53.0  secondary education             1   \n",
       "\n",
       "       family_status  family_status_id gender income_type  debt  total_income  \\\n",
       "0            married                 0      F    employee     0     40620.102   \n",
       "1            married                 0      F    employee     0     17932.802   \n",
       "2            married                 0      M    employee     0     23341.752   \n",
       "3            married                 0      M    employee     0     42820.568   \n",
       "4  civil partnership                 1      F     retiree     0     25378.572   \n",
       "\n",
       "                   purpose age_group cat_purpose  \n",
       "0    purchase of the house     adult      estete  \n",
       "1             car purchase     adult      estete  \n",
       "2    purchase of the house     adult      estete  \n",
       "3  supplementary education     adult   education  \n",
       "4        to have a wedding    senior      privet  "
      ]
     },
     "execution_count": 88,
     "metadata": {},
     "output_type": "execute_result"
    }
   ],
   "source": [
    "data.head()"
   ]
  },
  {
   "cell_type": "code",
   "execution_count": 89,
   "metadata": {},
   "outputs": [
    {
     "data": {
      "text/plain": [
       "0        0\n",
       "1        0\n",
       "2        0\n",
       "3        0\n",
       "4        0\n",
       "        ..\n",
       "21520    0\n",
       "21521    0\n",
       "21522    1\n",
       "21523    1\n",
       "21524    0\n",
       "Name: debt, Length: 21451, dtype: int64"
      ]
     },
     "execution_count": 89,
     "metadata": {},
     "output_type": "execute_result"
    }
   ],
   "source": [
    "data['debt']"
   ]
  },
  {
   "cell_type": "code",
   "execution_count": 90,
   "metadata": {},
   "outputs": [
    {
     "data": {
      "text/plain": [
       "0.0811617174024521"
      ]
     },
     "execution_count": 90,
     "metadata": {},
     "output_type": "execute_result"
    }
   ],
   "source": [
    "data['debt'].mean()"
   ]
  },
  {
   "cell_type": "markdown",
   "metadata": {},
   "source": [
    "Calculating default-rate"
   ]
  },
  {
   "cell_type": "code",
   "execution_count": 91,
   "metadata": {},
   "outputs": [
    {
     "data": {
      "text/html": [
       "<div>\n",
       "<style scoped>\n",
       "    .dataframe tbody tr th:only-of-type {\n",
       "        vertical-align: middle;\n",
       "    }\n",
       "\n",
       "    .dataframe tbody tr th {\n",
       "        vertical-align: top;\n",
       "    }\n",
       "\n",
       "    .dataframe thead th {\n",
       "        text-align: right;\n",
       "    }\n",
       "</style>\n",
       "<table border=\"1\" class=\"dataframe\">\n",
       "  <thead>\n",
       "    <tr style=\"text-align: right;\">\n",
       "      <th></th>\n",
       "      <th>children</th>\n",
       "      <th>debt</th>\n",
       "    </tr>\n",
       "  </thead>\n",
       "  <tbody>\n",
       "    <tr>\n",
       "      <th>5</th>\n",
       "      <td>5</td>\n",
       "      <td>0.000000</td>\n",
       "    </tr>\n",
       "    <tr>\n",
       "      <th>0</th>\n",
       "      <td>0</td>\n",
       "      <td>0.075449</td>\n",
       "    </tr>\n",
       "    <tr>\n",
       "      <th>3</th>\n",
       "      <td>3</td>\n",
       "      <td>0.081818</td>\n",
       "    </tr>\n",
       "    <tr>\n",
       "      <th>1</th>\n",
       "      <td>1</td>\n",
       "      <td>0.091677</td>\n",
       "    </tr>\n",
       "    <tr>\n",
       "      <th>2</th>\n",
       "      <td>2</td>\n",
       "      <td>0.094925</td>\n",
       "    </tr>\n",
       "    <tr>\n",
       "      <th>4</th>\n",
       "      <td>4</td>\n",
       "      <td>0.097561</td>\n",
       "    </tr>\n",
       "  </tbody>\n",
       "</table>\n",
       "</div>"
      ],
      "text/plain": [
       "   children      debt\n",
       "5         5  0.000000\n",
       "0         0  0.075449\n",
       "3         3  0.081818\n",
       "1         1  0.091677\n",
       "2         2  0.094925\n",
       "4         4  0.097561"
      ]
     },
     "execution_count": 91,
     "metadata": {},
     "output_type": "execute_result"
    }
   ],
   "source": [
    "data.groupby(['children'])['debt'].mean().reset_index().sort_values(by='debt')\n",
    "\n"
   ]
  },
  {
   "cell_type": "markdown",
   "metadata": {},
   "source": [
    "**Conclusion**\n",
    "\n",
    "\n",
    "\n"
   ]
  },
  {
   "cell_type": "markdown",
   "metadata": {},
   "source": [
    "**There are no connection between having children and paying back on time**"
   ]
  },
  {
   "cell_type": "markdown",
   "metadata": {},
   "source": [
    "**Is there a correlation between family status and paying back on time?**"
   ]
  },
  {
   "cell_type": "markdown",
   "metadata": {},
   "source": [
    " Checking the family status data and paying back on time"
   ]
  },
  {
   "cell_type": "markdown",
   "metadata": {},
   "source": [
    "Calculating default-rate based on family status"
   ]
  },
  {
   "cell_type": "code",
   "execution_count": 92,
   "metadata": {},
   "outputs": [
    {
     "data": {
      "text/html": [
       "<div>\n",
       "<style scoped>\n",
       "    .dataframe tbody tr th:only-of-type {\n",
       "        vertical-align: middle;\n",
       "    }\n",
       "\n",
       "    .dataframe tbody tr th {\n",
       "        vertical-align: top;\n",
       "    }\n",
       "\n",
       "    .dataframe thead th {\n",
       "        text-align: right;\n",
       "    }\n",
       "</style>\n",
       "<table border=\"1\" class=\"dataframe\">\n",
       "  <thead>\n",
       "    <tr style=\"text-align: right;\">\n",
       "      <th></th>\n",
       "      <th>family_status</th>\n",
       "      <th>debt</th>\n",
       "    </tr>\n",
       "  </thead>\n",
       "  <tbody>\n",
       "    <tr>\n",
       "      <th>4</th>\n",
       "      <td>widow / widower</td>\n",
       "      <td>0.065693</td>\n",
       "    </tr>\n",
       "    <tr>\n",
       "      <th>1</th>\n",
       "      <td>divorced</td>\n",
       "      <td>0.071130</td>\n",
       "    </tr>\n",
       "    <tr>\n",
       "      <th>2</th>\n",
       "      <td>married</td>\n",
       "      <td>0.075470</td>\n",
       "    </tr>\n",
       "    <tr>\n",
       "      <th>0</th>\n",
       "      <td>civil partnership</td>\n",
       "      <td>0.093471</td>\n",
       "    </tr>\n",
       "    <tr>\n",
       "      <th>3</th>\n",
       "      <td>single</td>\n",
       "      <td>0.097509</td>\n",
       "    </tr>\n",
       "  </tbody>\n",
       "</table>\n",
       "</div>"
      ],
      "text/plain": [
       "       family_status      debt\n",
       "4    widow / widower  0.065693\n",
       "1           divorced  0.071130\n",
       "2            married  0.075470\n",
       "0  civil partnership  0.093471\n",
       "3             single  0.097509"
      ]
     },
     "execution_count": 92,
     "metadata": {},
     "output_type": "execute_result"
    }
   ],
   "source": [
    "\n",
    "data.groupby(['family_status'])['debt'].mean().reset_index().sort_values(by='debt')\n"
   ]
  },
  {
   "cell_type": "markdown",
   "metadata": {},
   "source": [
    "**Conclusion**\n",
    "\n"
   ]
  },
  {
   "cell_type": "markdown",
   "metadata": {},
   "source": [
    "**It seems that custumers that single ore in civil partnership less responseble in  paying back on time then other categories**"
   ]
  },
  {
   "cell_type": "markdown",
   "metadata": {},
   "source": [
    "**Is there a correlation between income level and paying back on time?**"
   ]
  },
  {
   "cell_type": "markdown",
   "metadata": {},
   "source": [
    "Checking the income level data and paying back on time"
   ]
  },
  {
   "cell_type": "markdown",
   "metadata": {},
   "source": [
    "Calculating default-rate based on income level"
   ]
  },
  {
   "cell_type": "code",
   "execution_count": 93,
   "metadata": {},
   "outputs": [
    {
     "data": {
      "text/html": [
       "<div>\n",
       "<style scoped>\n",
       "    .dataframe tbody tr th:only-of-type {\n",
       "        vertical-align: middle;\n",
       "    }\n",
       "\n",
       "    .dataframe tbody tr th {\n",
       "        vertical-align: top;\n",
       "    }\n",
       "\n",
       "    .dataframe thead th {\n",
       "        text-align: right;\n",
       "    }\n",
       "</style>\n",
       "<table border=\"1\" class=\"dataframe\">\n",
       "  <thead>\n",
       "    <tr style=\"text-align: right;\">\n",
       "      <th></th>\n",
       "      <th>total_income</th>\n",
       "      <th>debt</th>\n",
       "    </tr>\n",
       "  </thead>\n",
       "  <tbody>\n",
       "    <tr>\n",
       "      <th>9675</th>\n",
       "      <td>23202.870</td>\n",
       "      <td>0.0</td>\n",
       "    </tr>\n",
       "    <tr>\n",
       "      <th>12678</th>\n",
       "      <td>28225.736</td>\n",
       "      <td>0.0</td>\n",
       "    </tr>\n",
       "    <tr>\n",
       "      <th>12675</th>\n",
       "      <td>28216.603</td>\n",
       "      <td>0.0</td>\n",
       "    </tr>\n",
       "    <tr>\n",
       "      <th>12674</th>\n",
       "      <td>28209.905</td>\n",
       "      <td>0.0</td>\n",
       "    </tr>\n",
       "    <tr>\n",
       "      <th>12673</th>\n",
       "      <td>28209.807</td>\n",
       "      <td>0.0</td>\n",
       "    </tr>\n",
       "    <tr>\n",
       "      <th>...</th>\n",
       "      <td>...</td>\n",
       "      <td>...</td>\n",
       "    </tr>\n",
       "    <tr>\n",
       "      <th>3847</th>\n",
       "      <td>15150.253</td>\n",
       "      <td>1.0</td>\n",
       "    </tr>\n",
       "    <tr>\n",
       "      <th>3846</th>\n",
       "      <td>15149.780</td>\n",
       "      <td>1.0</td>\n",
       "    </tr>\n",
       "    <tr>\n",
       "      <th>3845</th>\n",
       "      <td>15149.745</td>\n",
       "      <td>1.0</td>\n",
       "    </tr>\n",
       "    <tr>\n",
       "      <th>1675</th>\n",
       "      <td>11643.014</td>\n",
       "      <td>1.0</td>\n",
       "    </tr>\n",
       "    <tr>\n",
       "      <th>0</th>\n",
       "      <td>3306.762</td>\n",
       "      <td>1.0</td>\n",
       "    </tr>\n",
       "  </tbody>\n",
       "</table>\n",
       "<p>19351 rows × 2 columns</p>\n",
       "</div>"
      ],
      "text/plain": [
       "       total_income  debt\n",
       "9675      23202.870   0.0\n",
       "12678     28225.736   0.0\n",
       "12675     28216.603   0.0\n",
       "12674     28209.905   0.0\n",
       "12673     28209.807   0.0\n",
       "...             ...   ...\n",
       "3847      15150.253   1.0\n",
       "3846      15149.780   1.0\n",
       "3845      15149.745   1.0\n",
       "1675      11643.014   1.0\n",
       "0          3306.762   1.0\n",
       "\n",
       "[19351 rows x 2 columns]"
      ]
     },
     "execution_count": 93,
     "metadata": {},
     "output_type": "execute_result"
    }
   ],
   "source": [
    "\n",
    "\n",
    "data.groupby(['total_income'])['debt'].mean().reset_index().sort_values(by='debt')"
   ]
  },
  {
   "cell_type": "code",
   "execution_count": 94,
   "metadata": {},
   "outputs": [
    {
     "data": {
      "text/html": [
       "<div>\n",
       "<style scoped>\n",
       "    .dataframe tbody tr th:only-of-type {\n",
       "        vertical-align: middle;\n",
       "    }\n",
       "\n",
       "    .dataframe tbody tr th {\n",
       "        vertical-align: top;\n",
       "    }\n",
       "\n",
       "    .dataframe thead th {\n",
       "        text-align: right;\n",
       "    }\n",
       "</style>\n",
       "<table border=\"1\" class=\"dataframe\">\n",
       "  <thead>\n",
       "    <tr style=\"text-align: right;\">\n",
       "      <th></th>\n",
       "      <th>income_type</th>\n",
       "      <th>debt</th>\n",
       "    </tr>\n",
       "  </thead>\n",
       "  <tbody>\n",
       "    <tr>\n",
       "      <th>4</th>\n",
       "      <td>student</td>\n",
       "      <td>0.000000</td>\n",
       "    </tr>\n",
       "    <tr>\n",
       "      <th>3</th>\n",
       "      <td>retiree</td>\n",
       "      <td>0.056412</td>\n",
       "    </tr>\n",
       "    <tr>\n",
       "      <th>0</th>\n",
       "      <td>business</td>\n",
       "      <td>0.074016</td>\n",
       "    </tr>\n",
       "    <tr>\n",
       "      <th>1</th>\n",
       "      <td>employee</td>\n",
       "      <td>0.091482</td>\n",
       "    </tr>\n",
       "    <tr>\n",
       "      <th>5</th>\n",
       "      <td>unemployed</td>\n",
       "      <td>0.500000</td>\n",
       "    </tr>\n",
       "    <tr>\n",
       "      <th>2</th>\n",
       "      <td>paternity / maternity leave</td>\n",
       "      <td>1.000000</td>\n",
       "    </tr>\n",
       "  </tbody>\n",
       "</table>\n",
       "</div>"
      ],
      "text/plain": [
       "                   income_type      debt\n",
       "4                      student  0.000000\n",
       "3                      retiree  0.056412\n",
       "0                     business  0.074016\n",
       "1                     employee  0.091482\n",
       "5                   unemployed  0.500000\n",
       "2  paternity / maternity leave  1.000000"
      ]
     },
     "execution_count": 94,
     "metadata": {},
     "output_type": "execute_result"
    }
   ],
   "source": [
    "data.groupby(['income_type'])['debt'].mean().reset_index().sort_values(by='debt')"
   ]
  },
  {
   "cell_type": "markdown",
   "metadata": {},
   "source": [
    "**Conclusion**\n",
    "\n"
   ]
  },
  {
   "cell_type": "markdown",
   "metadata": {},
   "source": [
    "**It seems that custumers thet unemployed ore paternity / maternity leave struggling with paying back on time**"
   ]
  },
  {
   "cell_type": "markdown",
   "metadata": {},
   "source": [
    "**How does credit purpose affect the default rate?**"
   ]
  },
  {
   "cell_type": "markdown",
   "metadata": {},
   "source": [
    "Checking the percentages for default rate for each credit purpose"
   ]
  },
  {
   "cell_type": "code",
   "execution_count": 95,
   "metadata": {},
   "outputs": [
    {
     "data": {
      "text/html": [
       "<div>\n",
       "<style scoped>\n",
       "    .dataframe tbody tr th:only-of-type {\n",
       "        vertical-align: middle;\n",
       "    }\n",
       "\n",
       "    .dataframe tbody tr th {\n",
       "        vertical-align: top;\n",
       "    }\n",
       "\n",
       "    .dataframe thead th {\n",
       "        text-align: right;\n",
       "    }\n",
       "</style>\n",
       "<table border=\"1\" class=\"dataframe\">\n",
       "  <thead>\n",
       "    <tr style=\"text-align: right;\">\n",
       "      <th></th>\n",
       "      <th>purpose</th>\n",
       "      <th>count</th>\n",
       "      <th>mean</th>\n",
       "    </tr>\n",
       "  </thead>\n",
       "  <tbody>\n",
       "    <tr>\n",
       "      <th>37</th>\n",
       "      <td>wedding ceremony</td>\n",
       "      <td>791</td>\n",
       "      <td>0.080910</td>\n",
       "    </tr>\n",
       "    <tr>\n",
       "      <th>16</th>\n",
       "      <td>having a wedding</td>\n",
       "      <td>768</td>\n",
       "      <td>0.083333</td>\n",
       "    </tr>\n",
       "    <tr>\n",
       "      <th>32</th>\n",
       "      <td>to have a wedding</td>\n",
       "      <td>765</td>\n",
       "      <td>0.075817</td>\n",
       "    </tr>\n",
       "    <tr>\n",
       "      <th>26</th>\n",
       "      <td>real estate transactions</td>\n",
       "      <td>675</td>\n",
       "      <td>0.081481</td>\n",
       "    </tr>\n",
       "    <tr>\n",
       "      <th>2</th>\n",
       "      <td>buy commercial real estate</td>\n",
       "      <td>661</td>\n",
       "      <td>0.071104</td>\n",
       "    </tr>\n",
       "    <tr>\n",
       "      <th>19</th>\n",
       "      <td>housing transactions</td>\n",
       "      <td>652</td>\n",
       "      <td>0.073620</td>\n",
       "    </tr>\n",
       "    <tr>\n",
       "      <th>7</th>\n",
       "      <td>buying property for renting out</td>\n",
       "      <td>651</td>\n",
       "      <td>0.079877</td>\n",
       "    </tr>\n",
       "    <tr>\n",
       "      <th>34</th>\n",
       "      <td>transactions with commercial real estate</td>\n",
       "      <td>650</td>\n",
       "      <td>0.080000</td>\n",
       "    </tr>\n",
       "    <tr>\n",
       "      <th>24</th>\n",
       "      <td>purchase of the house</td>\n",
       "      <td>646</td>\n",
       "      <td>0.074303</td>\n",
       "    </tr>\n",
       "    <tr>\n",
       "      <th>17</th>\n",
       "      <td>housing</td>\n",
       "      <td>646</td>\n",
       "      <td>0.071207</td>\n",
       "    </tr>\n",
       "    <tr>\n",
       "      <th>25</th>\n",
       "      <td>purchase of the house for my family</td>\n",
       "      <td>638</td>\n",
       "      <td>0.070533</td>\n",
       "    </tr>\n",
       "    <tr>\n",
       "      <th>11</th>\n",
       "      <td>construction of own property</td>\n",
       "      <td>634</td>\n",
       "      <td>0.066246</td>\n",
       "    </tr>\n",
       "    <tr>\n",
       "      <th>21</th>\n",
       "      <td>property</td>\n",
       "      <td>633</td>\n",
       "      <td>0.066351</td>\n",
       "    </tr>\n",
       "    <tr>\n",
       "      <th>35</th>\n",
       "      <td>transactions with my real estate</td>\n",
       "      <td>627</td>\n",
       "      <td>0.079745</td>\n",
       "    </tr>\n",
       "    <tr>\n",
       "      <th>1</th>\n",
       "      <td>building a real estate</td>\n",
       "      <td>624</td>\n",
       "      <td>0.076923</td>\n",
       "    </tr>\n",
       "    <tr>\n",
       "      <th>3</th>\n",
       "      <td>buy real estate</td>\n",
       "      <td>621</td>\n",
       "      <td>0.069243</td>\n",
       "    </tr>\n",
       "    <tr>\n",
       "      <th>23</th>\n",
       "      <td>purchase of my own house</td>\n",
       "      <td>620</td>\n",
       "      <td>0.054839</td>\n",
       "    </tr>\n",
       "    <tr>\n",
       "      <th>0</th>\n",
       "      <td>building a property</td>\n",
       "      <td>618</td>\n",
       "      <td>0.087379</td>\n",
       "    </tr>\n",
       "    <tr>\n",
       "      <th>18</th>\n",
       "      <td>housing renovation</td>\n",
       "      <td>607</td>\n",
       "      <td>0.057661</td>\n",
       "    </tr>\n",
       "    <tr>\n",
       "      <th>4</th>\n",
       "      <td>buy residential real estate</td>\n",
       "      <td>606</td>\n",
       "      <td>0.067657</td>\n",
       "    </tr>\n",
       "  </tbody>\n",
       "</table>\n",
       "</div>"
      ],
      "text/plain": [
       "                                     purpose  count      mean\n",
       "37                          wedding ceremony    791  0.080910\n",
       "16                          having a wedding    768  0.083333\n",
       "32                         to have a wedding    765  0.075817\n",
       "26                  real estate transactions    675  0.081481\n",
       "2                 buy commercial real estate    661  0.071104\n",
       "19                      housing transactions    652  0.073620\n",
       "7            buying property for renting out    651  0.079877\n",
       "34  transactions with commercial real estate    650  0.080000\n",
       "24                     purchase of the house    646  0.074303\n",
       "17                                   housing    646  0.071207\n",
       "25       purchase of the house for my family    638  0.070533\n",
       "11              construction of own property    634  0.066246\n",
       "21                                  property    633  0.066351\n",
       "35          transactions with my real estate    627  0.079745\n",
       "1                     building a real estate    624  0.076923\n",
       "3                            buy real estate    621  0.069243\n",
       "23                  purchase of my own house    620  0.054839\n",
       "0                        building a property    618  0.087379\n",
       "18                        housing renovation    607  0.057661\n",
       "4                buy residential real estate    606  0.067657"
      ]
     },
     "execution_count": 95,
     "metadata": {},
     "output_type": "execute_result"
    }
   ],
   "source": [
    "\n",
    "data.groupby(['purpose'])['debt'].agg(['count','mean']).reset_index().sort_values(by='count',ascending=False).head(20)\n"
   ]
  },
  {
   "cell_type": "code",
   "execution_count": 96,
   "metadata": {},
   "outputs": [
    {
     "data": {
      "text/html": [
       "<div>\n",
       "<style scoped>\n",
       "    .dataframe tbody tr th:only-of-type {\n",
       "        vertical-align: middle;\n",
       "    }\n",
       "\n",
       "    .dataframe tbody tr th {\n",
       "        vertical-align: top;\n",
       "    }\n",
       "\n",
       "    .dataframe thead th {\n",
       "        text-align: right;\n",
       "    }\n",
       "</style>\n",
       "<table border=\"1\" class=\"dataframe\">\n",
       "  <thead>\n",
       "    <tr style=\"text-align: right;\">\n",
       "      <th></th>\n",
       "      <th>cat_purpose</th>\n",
       "      <th>count</th>\n",
       "      <th>mean</th>\n",
       "    </tr>\n",
       "  </thead>\n",
       "  <tbody>\n",
       "    <tr>\n",
       "      <th>1</th>\n",
       "      <td>education</td>\n",
       "      <td>4012</td>\n",
       "      <td>0.092223</td>\n",
       "    </tr>\n",
       "    <tr>\n",
       "      <th>0</th>\n",
       "      <td>auto</td>\n",
       "      <td>1443</td>\n",
       "      <td>0.090090</td>\n",
       "    </tr>\n",
       "    <tr>\n",
       "      <th>3</th>\n",
       "      <td>privet</td>\n",
       "      <td>2324</td>\n",
       "      <td>0.080034</td>\n",
       "    </tr>\n",
       "    <tr>\n",
       "      <th>2</th>\n",
       "      <td>estete</td>\n",
       "      <td>13672</td>\n",
       "      <td>0.077165</td>\n",
       "    </tr>\n",
       "  </tbody>\n",
       "</table>\n",
       "</div>"
      ],
      "text/plain": [
       "  cat_purpose  count      mean\n",
       "1   education   4012  0.092223\n",
       "0        auto   1443  0.090090\n",
       "3      privet   2324  0.080034\n",
       "2      estete  13672  0.077165"
      ]
     },
     "execution_count": 96,
     "metadata": {},
     "output_type": "execute_result"
    }
   ],
   "source": [
    "data.groupby(['cat_purpose'])['debt'].agg(['count','mean']).reset_index().sort_values(by='mean',ascending=False).head()"
   ]
  },
  {
   "cell_type": "markdown",
   "metadata": {},
   "source": [
    "**Conclusion**\n",
    "\n",
    "\n"
   ]
  },
  {
   "cell_type": "markdown",
   "metadata": {},
   "source": [
    "**Bank should be careful then asked for loan in cases of wedding ceremonies ore educetional purpose**"
   ]
  },
  {
   "cell_type": "markdown",
   "metadata": {},
   "source": [
    "# General Conclusion \n",
    "\n"
   ]
  },
  {
   "cell_type": "markdown",
   "metadata": {},
   "source": [
    "**1.Preprocessing**\n",
    "\n",
    "\n",
    "From the first look on the data we descovered thet there are missing values in **'days_employed'** and **'total_income'** columnes. We can cee that where are up to **10% of missing data**. The number of rows in the filtered table match the number of missing values. Thats mean that missin values are resolt of specific client characteristics(in our case it should bee : **'income_type'**) and wee should invistigate them.\n",
    "\n",
    "Data transformation: \n",
    "To **'education column'** we applied **.str.lower()** and we got only **5 categories**:\n",
    "\n",
    "'bachelor's degree, 'secondary education', 'some college',\n",
    "       'primary education', 'graduate degree'\n",
    "\n",
    "\n",
    "In **'children'** we changed suspicious values -1 and 20 to 1 and 2\n",
    "\n",
    "For **'days_employed'** we applied **.abs()** to change negative values to positive, there are more problems in this column but,  we desided not to do nothing more. **we dont use this column 'days_employed'** in ore projects calculations.\n",
    "\n",
    "In **'dob_years'** we changed 0 value vith averege age \n",
    "\n",
    "In **family_status** we changed **'unmarried'** to **'single'**\n",
    "\n",
    "In **'gender'** we changed **'XNA',** to **'Unknown'**\n",
    "\n",
    "In **'income_type'** changed **'entrepreneur'** to **'business'** and **'civil servant'** to **'employee'**\n",
    "\n",
    "\n",
    "Then we drop duplicates with **.drop_duplicates**\n",
    "we decreased missing values from **10%** to **9.7%**\n",
    "\n",
    "\n",
    "  **Working with missing values**\n",
    "\n",
    "  For  **dob_years** we created function that sorted different ages by groups: \n",
    "    'yong_adult', 'adult' and 'senior'\n",
    "   \n",
    " And aaplied **.transform(lambda grp:** to fill the missing values, basde on **'age_group'**  in **'days_employed'** and  **'total_income'**  \n",
    "\n",
    "                        \n",
    "\n",
    "\n",
    "\n",
    "\n",
    "\n",
    "\n",
    "\n",
    "\n",
    "**2.Categorization**\n",
    "\n",
    " \n",
    " \n",
    " \n",
    " \n",
    "To answer the questions and test the hypotheses, we will want to work with categorized data:\n",
    "In our case it is the data in **'purpose'** column\n",
    "We printing the data using **.unique()**\n",
    "Than we using lemmatization to print the list of lemmas,\n",
    "and from list of lemmas we created following categories:\n",
    "       **estete_category, \n",
    "       education_category,\n",
    "       business_category,\n",
    "       private_category,\n",
    "       auto_category**\n",
    "\n",
    "And we created function that sorts the data by thet categories and storing new categories in **cat_purpose** in the new column\n",
    "\n",
    "\n",
    "\n",
    "\n"
   ]
  },
  {
   "cell_type": "markdown",
   "metadata": {},
   "source": [
    "**Checking the Hypotheses:**"
   ]
  },
  {
   "cell_type": "markdown",
   "metadata": {},
   "source": [
    "Formula for finding **default-rate:**\n",
    "\n",
    "\n",
    "default-rate= All \"1\"/ All\n",
    "\n",
    "sum(default)/count(default)\n",
    "\n",
    "**data['debt'].mean()**\n",
    "\n",
    "\n",
    "\n",
    "\n",
    "**1.**Is there a connection between having kids and repaying a loan on time?\n",
    "\n",
    "    \n",
    "\n",
    "   There are **no connection** between having children and paying back on time.\n",
    "\n",
    " \n",
    "**2.**Is there a connection between marital status and repaying a loan on time?\n",
    "\n",
    "\n",
    "\n",
    "   It seems that custumers that **single** ore in **civil partnership** less responseble in  paying back on time then other categories.\n",
    "\n",
    "**3.**Is there a connection between income level and repaying a loan on time?\n",
    "\n",
    "   \n",
    "\n",
    "   It seems that custumers thet **unemployed** ore **paternity / maternity** leave struggling with paying back on time\n",
    "\n",
    "**4.**How do different loan purposes affect on-time loan repayment?\n",
    "\n",
    "\n",
    "**Checking the percentages for default rate for each credit purpose**\n",
    "\n",
    "\n",
    "\n",
    "data.groupby(['cat_purpose'])['debt'].agg(['count','mean']).reset_index().sort_values(by='mean',ascending=False).head()\n",
    "\n",
    "\n",
    "\n",
    "   Bank should be **careful** then asked for loan in cases of **wedding ceremonies** ore **educetional** purpose"
   ]
  }
 ],
 "metadata": {
  "ExecuteTimeLog": [
   {
    "duration": 2741,
    "start_time": "2021-10-21T01:08:49.480Z"
   },
   {
    "duration": 52,
    "start_time": "2021-10-21T01:08:53.315Z"
   },
   {
    "duration": 49,
    "start_time": "2021-10-21T01:08:57.432Z"
   },
   {
    "duration": 70,
    "start_time": "2021-10-21T01:09:07.706Z"
   },
   {
    "duration": 388,
    "start_time": "2022-01-09T12:22:47.204Z"
   },
   {
    "duration": 567,
    "start_time": "2022-01-09T12:23:23.381Z"
   },
   {
    "duration": 13,
    "start_time": "2022-01-09T12:23:34.549Z"
   },
   {
    "duration": 7,
    "start_time": "2022-01-09T12:24:56.159Z"
   },
   {
    "duration": 2319,
    "start_time": "2022-01-09T13:02:43.063Z"
   },
   {
    "duration": 2,
    "start_time": "2022-01-09T13:02:45.384Z"
   },
   {
    "duration": 75,
    "start_time": "2022-01-09T13:02:45.388Z"
   },
   {
    "duration": 9,
    "start_time": "2022-01-09T13:02:45.465Z"
   },
   {
    "duration": 7,
    "start_time": "2022-01-09T13:02:45.475Z"
   },
   {
    "duration": 4,
    "start_time": "2022-01-09T13:02:45.483Z"
   },
   {
    "duration": 4,
    "start_time": "2022-01-09T13:02:45.489Z"
   },
   {
    "duration": 4,
    "start_time": "2022-01-09T13:02:45.495Z"
   },
   {
    "duration": 4,
    "start_time": "2022-01-09T13:02:45.501Z"
   },
   {
    "duration": 5,
    "start_time": "2022-01-09T13:02:45.507Z"
   },
   {
    "duration": 6,
    "start_time": "2022-01-09T13:02:45.514Z"
   },
   {
    "duration": 4,
    "start_time": "2022-01-09T13:02:45.522Z"
   },
   {
    "duration": 6,
    "start_time": "2022-01-09T13:02:45.527Z"
   },
   {
    "duration": 4,
    "start_time": "2022-01-09T13:02:45.534Z"
   },
   {
    "duration": 8,
    "start_time": "2022-01-09T13:02:45.540Z"
   },
   {
    "duration": 6,
    "start_time": "2022-01-09T13:02:45.550Z"
   },
   {
    "duration": 6,
    "start_time": "2022-01-09T13:02:45.558Z"
   },
   {
    "duration": 10,
    "start_time": "2022-01-09T13:02:45.566Z"
   },
   {
    "duration": 13,
    "start_time": "2022-01-09T13:02:45.578Z"
   },
   {
    "duration": 6,
    "start_time": "2022-01-09T13:02:45.592Z"
   },
   {
    "duration": 7,
    "start_time": "2022-01-09T13:02:45.599Z"
   },
   {
    "duration": 6,
    "start_time": "2022-01-09T13:02:45.608Z"
   },
   {
    "duration": 3,
    "start_time": "2022-01-09T13:02:45.618Z"
   },
   {
    "duration": 9,
    "start_time": "2022-01-09T13:02:45.623Z"
   },
   {
    "duration": 6,
    "start_time": "2022-01-09T13:02:45.634Z"
   },
   {
    "duration": 6,
    "start_time": "2022-01-09T13:02:45.642Z"
   },
   {
    "duration": 5,
    "start_time": "2022-01-09T13:02:45.649Z"
   },
   {
    "duration": 5,
    "start_time": "2022-01-09T13:02:45.656Z"
   },
   {
    "duration": 8,
    "start_time": "2022-01-09T13:02:45.662Z"
   },
   {
    "duration": 8,
    "start_time": "2022-01-09T13:02:45.671Z"
   },
   {
    "duration": 7,
    "start_time": "2022-01-09T13:02:45.681Z"
   },
   {
    "duration": 9,
    "start_time": "2022-01-09T13:02:45.689Z"
   },
   {
    "duration": 4,
    "start_time": "2022-01-09T13:02:45.699Z"
   },
   {
    "duration": 5,
    "start_time": "2022-01-09T13:02:45.705Z"
   },
   {
    "duration": 5,
    "start_time": "2022-01-09T13:02:45.712Z"
   },
   {
    "duration": 5,
    "start_time": "2022-01-09T13:02:45.718Z"
   },
   {
    "duration": 5,
    "start_time": "2022-01-09T13:02:45.725Z"
   },
   {
    "duration": 8,
    "start_time": "2022-01-09T13:02:45.732Z"
   },
   {
    "duration": 4,
    "start_time": "2022-01-09T13:02:45.741Z"
   },
   {
    "duration": 6,
    "start_time": "2022-01-09T13:02:45.747Z"
   },
   {
    "duration": 8,
    "start_time": "2022-01-09T13:02:45.754Z"
   },
   {
    "duration": 5,
    "start_time": "2022-01-09T13:02:45.763Z"
   },
   {
    "duration": 5,
    "start_time": "2022-01-09T13:02:45.769Z"
   },
   {
    "duration": 4,
    "start_time": "2022-01-09T13:02:45.775Z"
   },
   {
    "duration": 4,
    "start_time": "2022-01-09T13:02:45.781Z"
   },
   {
    "duration": 4,
    "start_time": "2022-01-09T13:02:45.786Z"
   },
   {
    "duration": 4,
    "start_time": "2022-01-09T13:02:45.792Z"
   },
   {
    "duration": 4,
    "start_time": "2022-01-09T13:02:45.797Z"
   },
   {
    "duration": 4,
    "start_time": "2022-01-09T13:02:45.802Z"
   },
   {
    "duration": 5,
    "start_time": "2022-01-09T13:02:45.808Z"
   },
   {
    "duration": 4,
    "start_time": "2022-01-09T13:02:45.814Z"
   },
   {
    "duration": 2,
    "start_time": "2022-01-09T13:02:45.827Z"
   },
   {
    "duration": 5,
    "start_time": "2022-01-09T13:02:45.830Z"
   },
   {
    "duration": 4,
    "start_time": "2022-01-09T13:02:45.836Z"
   },
   {
    "duration": 5,
    "start_time": "2022-01-09T13:02:45.841Z"
   },
   {
    "duration": 4,
    "start_time": "2022-01-09T13:02:45.847Z"
   },
   {
    "duration": 7,
    "start_time": "2022-01-09T13:02:45.853Z"
   },
   {
    "duration": 5,
    "start_time": "2022-01-09T13:02:45.861Z"
   },
   {
    "duration": 5,
    "start_time": "2022-01-09T13:02:45.867Z"
   },
   {
    "duration": 5,
    "start_time": "2022-01-09T13:02:45.873Z"
   },
   {
    "duration": 4,
    "start_time": "2022-01-09T13:02:45.879Z"
   },
   {
    "duration": 5,
    "start_time": "2022-01-09T13:02:45.884Z"
   },
   {
    "duration": 4,
    "start_time": "2022-01-09T13:02:45.891Z"
   },
   {
    "duration": 6,
    "start_time": "2022-01-09T13:02:45.896Z"
   },
   {
    "duration": 4,
    "start_time": "2022-01-09T13:02:45.904Z"
   },
   {
    "duration": 18,
    "start_time": "2022-01-09T13:02:45.910Z"
   },
   {
    "duration": 5,
    "start_time": "2022-01-09T13:02:45.930Z"
   },
   {
    "duration": 5,
    "start_time": "2022-01-09T13:02:45.939Z"
   },
   {
    "duration": 7,
    "start_time": "2022-01-09T13:02:45.946Z"
   },
   {
    "duration": 4,
    "start_time": "2022-01-09T13:07:47.058Z"
   },
   {
    "duration": 7,
    "start_time": "2022-01-09T13:08:53.932Z"
   },
   {
    "duration": 10,
    "start_time": "2022-01-09T13:11:14.213Z"
   },
   {
    "duration": 700,
    "start_time": "2022-01-14T10:08:35.264Z"
   },
   {
    "duration": 56,
    "start_time": "2022-01-14T10:08:47.500Z"
   },
   {
    "duration": 3,
    "start_time": "2022-01-14T10:10:40.703Z"
   },
   {
    "duration": 14,
    "start_time": "2022-01-14T10:12:27.354Z"
   },
   {
    "duration": 26,
    "start_time": "2022-01-14T10:14:25.470Z"
   },
   {
    "duration": 46,
    "start_time": "2022-01-14T10:17:28.889Z"
   },
   {
    "duration": 340,
    "start_time": "2022-01-14T10:18:44.211Z"
   },
   {
    "duration": 14,
    "start_time": "2022-01-14T10:25:15.542Z"
   },
   {
    "duration": 20,
    "start_time": "2022-01-14T10:28:51.067Z"
   },
   {
    "duration": 278,
    "start_time": "2022-01-14T10:35:25.092Z"
   },
   {
    "duration": 7,
    "start_time": "2022-01-14T10:39:16.802Z"
   },
   {
    "duration": 11,
    "start_time": "2022-01-14T10:39:50.877Z"
   },
   {
    "duration": 6,
    "start_time": "2022-01-14T10:41:20.022Z"
   },
   {
    "duration": 8,
    "start_time": "2022-01-14T10:42:39.101Z"
   },
   {
    "duration": 33,
    "start_time": "2022-01-14T10:47:50.403Z"
   },
   {
    "duration": 33,
    "start_time": "2022-01-14T10:53:27.999Z"
   },
   {
    "duration": 32,
    "start_time": "2022-01-14T10:56:59.963Z"
   },
   {
    "duration": 17,
    "start_time": "2022-01-14T11:05:27.482Z"
   },
   {
    "duration": 11,
    "start_time": "2022-01-14T11:06:38.338Z"
   },
   {
    "duration": 14,
    "start_time": "2022-01-14T11:08:39.465Z"
   },
   {
    "duration": 11,
    "start_time": "2022-01-14T11:09:49.313Z"
   },
   {
    "duration": 15,
    "start_time": "2022-01-14T11:12:36.657Z"
   },
   {
    "duration": 10,
    "start_time": "2022-01-14T11:13:18.757Z"
   },
   {
    "duration": 14,
    "start_time": "2022-01-14T11:14:21.652Z"
   },
   {
    "duration": 11,
    "start_time": "2022-01-14T11:16:29.980Z"
   },
   {
    "duration": 11,
    "start_time": "2022-01-14T11:21:15.377Z"
   },
   {
    "duration": 14,
    "start_time": "2022-01-14T11:21:56.611Z"
   },
   {
    "duration": 12,
    "start_time": "2022-01-14T11:22:49.288Z"
   },
   {
    "duration": 264,
    "start_time": "2022-01-14T11:23:49.918Z"
   },
   {
    "duration": -1020,
    "start_time": "2022-01-14T11:24:51.456Z"
   },
   {
    "duration": 9,
    "start_time": "2022-01-14T11:28:18.543Z"
   },
   {
    "duration": 9,
    "start_time": "2022-01-14T11:30:11.644Z"
   },
   {
    "duration": 10,
    "start_time": "2022-01-14T11:31:13.338Z"
   },
   {
    "duration": 15,
    "start_time": "2022-01-14T11:35:29.263Z"
   },
   {
    "duration": 10,
    "start_time": "2022-01-14T11:37:12.912Z"
   },
   {
    "duration": 12,
    "start_time": "2022-01-14T11:38:01.544Z"
   },
   {
    "duration": 10,
    "start_time": "2022-01-14T11:38:37.897Z"
   },
   {
    "duration": 10,
    "start_time": "2022-01-14T11:39:17.240Z"
   },
   {
    "duration": 11,
    "start_time": "2022-01-14T11:53:51.958Z"
   },
   {
    "duration": 10,
    "start_time": "2022-01-14T11:54:46.466Z"
   },
   {
    "duration": 11,
    "start_time": "2022-01-14T11:55:19.118Z"
   },
   {
    "duration": 7,
    "start_time": "2022-01-14T11:57:01.405Z"
   },
   {
    "duration": 253,
    "start_time": "2022-01-14T11:58:31.817Z"
   },
   {
    "duration": 313,
    "start_time": "2022-01-14T11:59:19.942Z"
   },
   {
    "duration": 18,
    "start_time": "2022-01-14T11:59:44.443Z"
   },
   {
    "duration": 8,
    "start_time": "2022-01-14T12:00:05.299Z"
   },
   {
    "duration": 12,
    "start_time": "2022-01-14T12:00:44.358Z"
   },
   {
    "duration": 15,
    "start_time": "2022-01-14T12:00:49.189Z"
   },
   {
    "duration": 17,
    "start_time": "2022-01-14T12:02:39.620Z"
   },
   {
    "duration": 6,
    "start_time": "2022-01-14T12:02:51.785Z"
   },
   {
    "duration": 6,
    "start_time": "2022-01-14T12:03:40.056Z"
   },
   {
    "duration": 5,
    "start_time": "2022-01-14T12:03:55.557Z"
   },
   {
    "duration": 12,
    "start_time": "2022-01-14T12:05:37.539Z"
   },
   {
    "duration": 17,
    "start_time": "2022-01-14T12:06:26.237Z"
   },
   {
    "duration": 7,
    "start_time": "2022-01-14T12:06:33.788Z"
   },
   {
    "duration": 6,
    "start_time": "2022-01-14T12:06:37.563Z"
   },
   {
    "duration": 13,
    "start_time": "2022-01-14T12:38:47.886Z"
   },
   {
    "duration": 8,
    "start_time": "2022-01-14T12:38:50.492Z"
   },
   {
    "duration": 14,
    "start_time": "2022-01-14T12:39:02.295Z"
   },
   {
    "duration": 5,
    "start_time": "2022-01-14T12:46:29.645Z"
   },
   {
    "duration": 6,
    "start_time": "2022-01-14T12:46:43.767Z"
   },
   {
    "duration": 7,
    "start_time": "2022-01-14T12:47:28.005Z"
   },
   {
    "duration": 7,
    "start_time": "2022-01-14T12:47:42.596Z"
   },
   {
    "duration": 6,
    "start_time": "2022-01-14T12:47:45.331Z"
   },
   {
    "duration": 7,
    "start_time": "2022-01-14T12:48:54.752Z"
   },
   {
    "duration": 7,
    "start_time": "2022-01-14T12:53:37.338Z"
   },
   {
    "duration": 7,
    "start_time": "2022-01-14T12:54:12.189Z"
   },
   {
    "duration": 4,
    "start_time": "2022-01-14T12:54:38.114Z"
   },
   {
    "duration": 7,
    "start_time": "2022-01-14T12:54:41.441Z"
   },
   {
    "duration": 7,
    "start_time": "2022-01-14T13:01:20.919Z"
   },
   {
    "duration": 8,
    "start_time": "2022-01-14T13:09:28.811Z"
   },
   {
    "duration": 6,
    "start_time": "2022-01-14T13:10:22.190Z"
   },
   {
    "duration": 6,
    "start_time": "2022-01-14T13:22:11.484Z"
   },
   {
    "duration": 6,
    "start_time": "2022-01-14T13:22:30.660Z"
   },
   {
    "duration": 7,
    "start_time": "2022-01-14T13:22:39.086Z"
   },
   {
    "duration": 6,
    "start_time": "2022-01-14T13:40:50.039Z"
   },
   {
    "duration": 6,
    "start_time": "2022-01-14T13:42:53.569Z"
   },
   {
    "duration": 5,
    "start_time": "2022-01-14T13:42:56.960Z"
   },
   {
    "duration": 7,
    "start_time": "2022-01-14T13:43:24.918Z"
   },
   {
    "duration": 7,
    "start_time": "2022-01-14T13:44:05.464Z"
   },
   {
    "duration": 25,
    "start_time": "2022-01-14T15:06:53.458Z"
   },
   {
    "duration": 280,
    "start_time": "2022-01-14T15:12:32.693Z"
   },
   {
    "duration": 47,
    "start_time": "2022-01-14T15:12:45.507Z"
   },
   {
    "duration": 274,
    "start_time": "2022-01-14T15:14:16.802Z"
   },
   {
    "duration": 22,
    "start_time": "2022-01-14T15:14:33.958Z"
   },
   {
    "duration": 23,
    "start_time": "2022-01-14T15:14:55.563Z"
   },
   {
    "duration": 14,
    "start_time": "2022-01-14T15:15:25.055Z"
   },
   {
    "duration": 4,
    "start_time": "2022-01-14T16:15:28.972Z"
   },
   {
    "duration": 6366,
    "start_time": "2022-01-14T16:20:23.972Z"
   },
   {
    "duration": 4,
    "start_time": "2022-01-14T16:24:28.939Z"
   },
   {
    "duration": 3,
    "start_time": "2022-01-14T16:24:59.862Z"
   },
   {
    "duration": 1269,
    "start_time": "2022-01-14T16:25:03.153Z"
   },
   {
    "duration": 5,
    "start_time": "2022-01-14T16:25:47.010Z"
   },
   {
    "duration": 244,
    "start_time": "2022-01-14T16:26:15.612Z"
   },
   {
    "duration": 4,
    "start_time": "2022-01-14T16:26:47.124Z"
   },
   {
    "duration": 1342,
    "start_time": "2022-01-14T16:26:50.116Z"
   },
   {
    "duration": 4,
    "start_time": "2022-01-14T16:27:32.249Z"
   },
   {
    "duration": 13,
    "start_time": "2022-01-14T16:27:35.866Z"
   },
   {
    "duration": 20,
    "start_time": "2022-01-14T16:27:55.477Z"
   },
   {
    "duration": 21,
    "start_time": "2022-01-14T16:28:14.198Z"
   },
   {
    "duration": 243,
    "start_time": "2022-01-14T16:50:06.106Z"
   },
   {
    "duration": 21,
    "start_time": "2022-01-14T16:50:22.309Z"
   },
   {
    "duration": 40,
    "start_time": "2022-01-14T16:53:23.781Z"
   },
   {
    "duration": 16,
    "start_time": "2022-01-14T16:53:50.042Z"
   },
   {
    "duration": 41,
    "start_time": "2022-01-14T16:53:58.390Z"
   },
   {
    "duration": 17,
    "start_time": "2022-01-14T16:55:23.879Z"
   },
   {
    "duration": 14,
    "start_time": "2022-01-14T16:55:26.886Z"
   },
   {
    "duration": 22,
    "start_time": "2022-01-14T16:57:32.486Z"
   },
   {
    "duration": 16,
    "start_time": "2022-01-14T16:58:14.467Z"
   },
   {
    "duration": 12,
    "start_time": "2022-01-14T16:58:21.492Z"
   },
   {
    "duration": 22,
    "start_time": "2022-01-14T16:58:26.665Z"
   },
   {
    "duration": 23,
    "start_time": "2022-01-14T16:59:21.846Z"
   },
   {
    "duration": 14,
    "start_time": "2022-01-14T16:59:59.699Z"
   },
   {
    "duration": 12,
    "start_time": "2022-01-14T17:00:31.958Z"
   },
   {
    "duration": 22,
    "start_time": "2022-01-14T17:00:38.952Z"
   },
   {
    "duration": 233,
    "start_time": "2022-01-14T17:03:58.499Z"
   },
   {
    "duration": 31,
    "start_time": "2022-01-14T17:04:24.609Z"
   },
   {
    "duration": 16,
    "start_time": "2022-01-14T17:07:00.436Z"
   },
   {
    "duration": 395,
    "start_time": "2022-01-14T19:46:45.105Z"
   },
   {
    "duration": 619,
    "start_time": "2022-01-14T19:47:12.827Z"
   },
   {
    "duration": 46,
    "start_time": "2022-01-14T19:47:13.448Z"
   },
   {
    "duration": 12,
    "start_time": "2022-01-14T19:47:13.496Z"
   },
   {
    "duration": 18,
    "start_time": "2022-01-14T19:47:13.510Z"
   },
   {
    "duration": 30,
    "start_time": "2022-01-14T19:47:13.542Z"
   },
   {
    "duration": 8,
    "start_time": "2022-01-14T19:47:13.574Z"
   },
   {
    "duration": 15,
    "start_time": "2022-01-14T19:47:13.584Z"
   },
   {
    "duration": 8,
    "start_time": "2022-01-14T19:47:13.601Z"
   },
   {
    "duration": 31,
    "start_time": "2022-01-14T19:47:13.611Z"
   },
   {
    "duration": 5,
    "start_time": "2022-01-14T19:47:13.644Z"
   },
   {
    "duration": 25,
    "start_time": "2022-01-14T19:47:13.650Z"
   },
   {
    "duration": 19,
    "start_time": "2022-01-14T19:47:13.676Z"
   },
   {
    "duration": 50,
    "start_time": "2022-01-14T19:47:13.697Z"
   },
   {
    "duration": 11,
    "start_time": "2022-01-14T19:47:13.750Z"
   },
   {
    "duration": 8,
    "start_time": "2022-01-14T19:47:13.763Z"
   },
   {
    "duration": 7,
    "start_time": "2022-01-14T19:47:13.772Z"
   },
   {
    "duration": 8,
    "start_time": "2022-01-14T19:47:13.781Z"
   },
   {
    "duration": 8,
    "start_time": "2022-01-14T19:47:13.791Z"
   },
   {
    "duration": 40,
    "start_time": "2022-01-14T19:47:13.801Z"
   },
   {
    "duration": 6,
    "start_time": "2022-01-14T19:47:13.843Z"
   },
   {
    "duration": 6,
    "start_time": "2022-01-14T19:47:13.851Z"
   },
   {
    "duration": 10,
    "start_time": "2022-01-14T19:47:13.858Z"
   },
   {
    "duration": 10,
    "start_time": "2022-01-14T19:47:13.872Z"
   },
   {
    "duration": 8,
    "start_time": "2022-01-14T19:47:13.885Z"
   },
   {
    "duration": 13,
    "start_time": "2022-01-14T19:47:13.894Z"
   },
   {
    "duration": 36,
    "start_time": "2022-01-14T19:47:13.909Z"
   },
   {
    "duration": 8,
    "start_time": "2022-01-14T19:47:13.948Z"
   },
   {
    "duration": 9,
    "start_time": "2022-01-14T19:47:13.957Z"
   },
   {
    "duration": 10,
    "start_time": "2022-01-14T19:47:13.967Z"
   },
   {
    "duration": 13,
    "start_time": "2022-01-14T19:47:13.979Z"
   },
   {
    "duration": 14,
    "start_time": "2022-01-14T19:47:13.994Z"
   },
   {
    "duration": 9,
    "start_time": "2022-01-14T19:47:14.010Z"
   },
   {
    "duration": 21,
    "start_time": "2022-01-14T19:47:14.021Z"
   },
   {
    "duration": 10,
    "start_time": "2022-01-14T19:47:14.044Z"
   },
   {
    "duration": 10,
    "start_time": "2022-01-14T19:47:14.056Z"
   },
   {
    "duration": 11,
    "start_time": "2022-01-14T19:47:14.068Z"
   },
   {
    "duration": 10,
    "start_time": "2022-01-14T19:47:14.080Z"
   },
   {
    "duration": 11,
    "start_time": "2022-01-14T19:47:14.091Z"
   },
   {
    "duration": 10,
    "start_time": "2022-01-14T19:47:14.103Z"
   },
   {
    "duration": 8,
    "start_time": "2022-01-14T19:47:14.115Z"
   },
   {
    "duration": 8,
    "start_time": "2022-01-14T19:47:14.125Z"
   },
   {
    "duration": 10,
    "start_time": "2022-01-14T19:47:14.135Z"
   },
   {
    "duration": 9,
    "start_time": "2022-01-14T19:47:14.146Z"
   },
   {
    "duration": 9,
    "start_time": "2022-01-14T19:47:14.157Z"
   },
   {
    "duration": 8,
    "start_time": "2022-01-14T19:47:14.168Z"
   },
   {
    "duration": 11,
    "start_time": "2022-01-14T19:47:14.178Z"
   },
   {
    "duration": 8,
    "start_time": "2022-01-14T19:47:14.192Z"
   },
   {
    "duration": 8,
    "start_time": "2022-01-14T19:47:14.202Z"
   },
   {
    "duration": 38,
    "start_time": "2022-01-14T19:47:14.212Z"
   },
   {
    "duration": 6,
    "start_time": "2022-01-14T19:47:14.252Z"
   },
   {
    "duration": 28,
    "start_time": "2022-01-14T19:47:14.260Z"
   },
   {
    "duration": 58,
    "start_time": "2022-01-14T19:47:14.290Z"
   },
   {
    "duration": 14,
    "start_time": "2022-01-14T19:47:14.350Z"
   },
   {
    "duration": 15,
    "start_time": "2022-01-14T19:47:14.366Z"
   },
   {
    "duration": 10,
    "start_time": "2022-01-14T19:47:14.382Z"
   },
   {
    "duration": 5,
    "start_time": "2022-01-14T19:47:14.393Z"
   },
   {
    "duration": 6,
    "start_time": "2022-01-14T19:47:14.400Z"
   },
   {
    "duration": 7,
    "start_time": "2022-01-14T19:47:14.408Z"
   },
   {
    "duration": 25,
    "start_time": "2022-01-14T19:47:14.417Z"
   },
   {
    "duration": 17,
    "start_time": "2022-01-14T19:47:14.443Z"
   },
   {
    "duration": 6,
    "start_time": "2022-01-14T19:47:14.461Z"
   },
   {
    "duration": 7,
    "start_time": "2022-01-14T19:47:14.469Z"
   },
   {
    "duration": 11,
    "start_time": "2022-01-14T19:47:14.478Z"
   },
   {
    "duration": 24,
    "start_time": "2022-01-14T19:47:14.491Z"
   },
   {
    "duration": 24,
    "start_time": "2022-01-14T19:47:14.517Z"
   },
   {
    "duration": 3,
    "start_time": "2022-01-14T19:47:14.543Z"
   },
   {
    "duration": 7,
    "start_time": "2022-01-14T19:47:14.548Z"
   },
   {
    "duration": 11,
    "start_time": "2022-01-14T19:47:14.562Z"
   },
   {
    "duration": 12,
    "start_time": "2022-01-14T19:47:14.576Z"
   },
   {
    "duration": 8,
    "start_time": "2022-01-14T19:47:14.590Z"
   },
   {
    "duration": 84,
    "start_time": "2022-01-14T19:47:14.600Z"
   },
   {
    "duration": -742,
    "start_time": "2022-01-14T19:47:15.429Z"
   },
   {
    "duration": -744,
    "start_time": "2022-01-14T19:47:15.432Z"
   },
   {
    "duration": -766,
    "start_time": "2022-01-14T19:47:15.456Z"
   },
   {
    "duration": -772,
    "start_time": "2022-01-14T19:47:15.463Z"
   },
   {
    "duration": -773,
    "start_time": "2022-01-14T19:47:15.466Z"
   },
   {
    "duration": -776,
    "start_time": "2022-01-14T19:47:15.470Z"
   },
   {
    "duration": -782,
    "start_time": "2022-01-14T19:47:15.477Z"
   },
   {
    "duration": -784,
    "start_time": "2022-01-14T19:47:15.481Z"
   },
   {
    "duration": -795,
    "start_time": "2022-01-14T19:47:15.493Z"
   },
   {
    "duration": -798,
    "start_time": "2022-01-14T19:47:15.497Z"
   },
   {
    "duration": -801,
    "start_time": "2022-01-14T19:47:15.501Z"
   },
   {
    "duration": -804,
    "start_time": "2022-01-14T19:47:15.505Z"
   },
   {
    "duration": -809,
    "start_time": "2022-01-14T19:47:15.511Z"
   },
   {
    "duration": -812,
    "start_time": "2022-01-14T19:47:15.515Z"
   },
   {
    "duration": -816,
    "start_time": "2022-01-14T19:47:15.520Z"
   },
   {
    "duration": -821,
    "start_time": "2022-01-14T19:47:15.526Z"
   },
   {
    "duration": -823,
    "start_time": "2022-01-14T19:47:15.530Z"
   },
   {
    "duration": -826,
    "start_time": "2022-01-14T19:47:15.534Z"
   },
   {
    "duration": -829,
    "start_time": "2022-01-14T19:47:15.538Z"
   },
   {
    "duration": -844,
    "start_time": "2022-01-14T19:47:15.554Z"
   },
   {
    "duration": -850,
    "start_time": "2022-01-14T19:47:15.561Z"
   },
   {
    "duration": -852,
    "start_time": "2022-01-14T19:47:15.564Z"
   },
   {
    "duration": 6,
    "start_time": "2022-01-14T19:47:20.892Z"
   },
   {
    "duration": 13,
    "start_time": "2022-01-14T19:52:16.644Z"
   },
   {
    "duration": 597,
    "start_time": "2022-01-14T19:52:18.982Z"
   },
   {
    "duration": 1202,
    "start_time": "2022-01-14T19:52:22.560Z"
   },
   {
    "duration": 386,
    "start_time": "2022-01-14T19:54:32.099Z"
   },
   {
    "duration": 9,
    "start_time": "2022-01-14T19:55:41.209Z"
   },
   {
    "duration": 7,
    "start_time": "2022-01-14T19:55:48.822Z"
   },
   {
    "duration": 6,
    "start_time": "2022-01-14T19:55:53.841Z"
   },
   {
    "duration": 6,
    "start_time": "2022-01-14T19:56:43.814Z"
   },
   {
    "duration": 221,
    "start_time": "2022-01-15T09:17:01.432Z"
   },
   {
    "duration": 179,
    "start_time": "2022-01-15T09:17:34.614Z"
   },
   {
    "duration": 543,
    "start_time": "2022-01-15T09:17:53.834Z"
   },
   {
    "duration": 43,
    "start_time": "2022-01-15T09:17:54.380Z"
   },
   {
    "duration": 11,
    "start_time": "2022-01-15T09:17:54.425Z"
   },
   {
    "duration": 25,
    "start_time": "2022-01-15T09:17:54.438Z"
   },
   {
    "duration": 48,
    "start_time": "2022-01-15T09:17:54.465Z"
   },
   {
    "duration": 49,
    "start_time": "2022-01-15T09:17:54.515Z"
   },
   {
    "duration": 25,
    "start_time": "2022-01-15T09:17:54.566Z"
   },
   {
    "duration": 11,
    "start_time": "2022-01-15T09:17:54.593Z"
   },
   {
    "duration": 21,
    "start_time": "2022-01-15T09:17:54.607Z"
   },
   {
    "duration": 20,
    "start_time": "2022-01-15T09:17:54.630Z"
   },
   {
    "duration": 10,
    "start_time": "2022-01-15T09:17:54.652Z"
   },
   {
    "duration": 41,
    "start_time": "2022-01-15T09:17:54.664Z"
   },
   {
    "duration": 19,
    "start_time": "2022-01-15T09:17:54.707Z"
   },
   {
    "duration": 18,
    "start_time": "2022-01-15T09:17:54.728Z"
   },
   {
    "duration": 9,
    "start_time": "2022-01-15T09:17:54.748Z"
   },
   {
    "duration": 34,
    "start_time": "2022-01-15T09:17:54.758Z"
   },
   {
    "duration": 7,
    "start_time": "2022-01-15T09:17:54.794Z"
   },
   {
    "duration": 6,
    "start_time": "2022-01-15T09:17:54.802Z"
   },
   {
    "duration": 31,
    "start_time": "2022-01-15T09:17:54.810Z"
   },
   {
    "duration": 6,
    "start_time": "2022-01-15T09:17:54.843Z"
   },
   {
    "duration": 20,
    "start_time": "2022-01-15T09:17:54.850Z"
   },
   {
    "duration": 15,
    "start_time": "2022-01-15T09:17:54.871Z"
   },
   {
    "duration": 17,
    "start_time": "2022-01-15T09:17:54.889Z"
   },
   {
    "duration": 27,
    "start_time": "2022-01-15T09:17:54.909Z"
   },
   {
    "duration": 20,
    "start_time": "2022-01-15T09:17:54.937Z"
   },
   {
    "duration": 30,
    "start_time": "2022-01-15T09:17:54.959Z"
   },
   {
    "duration": 10,
    "start_time": "2022-01-15T09:17:54.991Z"
   },
   {
    "duration": 18,
    "start_time": "2022-01-15T09:17:55.002Z"
   },
   {
    "duration": 5,
    "start_time": "2022-01-15T09:17:55.022Z"
   },
   {
    "duration": 25,
    "start_time": "2022-01-15T09:17:55.028Z"
   },
   {
    "duration": 16,
    "start_time": "2022-01-15T09:17:55.054Z"
   },
   {
    "duration": 22,
    "start_time": "2022-01-15T09:17:55.072Z"
   },
   {
    "duration": 15,
    "start_time": "2022-01-15T09:17:55.096Z"
   },
   {
    "duration": 6,
    "start_time": "2022-01-15T09:17:55.113Z"
   },
   {
    "duration": 18,
    "start_time": "2022-01-15T09:17:55.121Z"
   },
   {
    "duration": 13,
    "start_time": "2022-01-15T09:17:55.140Z"
   },
   {
    "duration": 15,
    "start_time": "2022-01-15T09:17:55.155Z"
   },
   {
    "duration": 17,
    "start_time": "2022-01-15T09:17:55.171Z"
   },
   {
    "duration": 9,
    "start_time": "2022-01-15T09:17:55.189Z"
   },
   {
    "duration": 16,
    "start_time": "2022-01-15T09:17:55.200Z"
   },
   {
    "duration": 23,
    "start_time": "2022-01-15T09:17:55.217Z"
   },
   {
    "duration": 12,
    "start_time": "2022-01-15T09:17:55.241Z"
   },
   {
    "duration": 16,
    "start_time": "2022-01-15T09:17:55.255Z"
   },
   {
    "duration": 6,
    "start_time": "2022-01-15T09:17:55.272Z"
   },
   {
    "duration": 23,
    "start_time": "2022-01-15T09:17:55.279Z"
   },
   {
    "duration": 11,
    "start_time": "2022-01-15T09:17:55.304Z"
   },
   {
    "duration": 23,
    "start_time": "2022-01-15T09:17:55.316Z"
   },
   {
    "duration": 15,
    "start_time": "2022-01-15T09:17:55.341Z"
   },
   {
    "duration": 9,
    "start_time": "2022-01-15T09:17:55.358Z"
   },
   {
    "duration": 34,
    "start_time": "2022-01-15T09:17:55.369Z"
   },
   {
    "duration": 28,
    "start_time": "2022-01-15T09:17:55.404Z"
   },
   {
    "duration": 27,
    "start_time": "2022-01-15T09:17:55.433Z"
   },
   {
    "duration": 33,
    "start_time": "2022-01-15T09:17:55.461Z"
   },
   {
    "duration": 15,
    "start_time": "2022-01-15T09:17:55.495Z"
   },
   {
    "duration": 17,
    "start_time": "2022-01-15T09:17:55.511Z"
   },
   {
    "duration": 13,
    "start_time": "2022-01-15T09:17:55.529Z"
   },
   {
    "duration": 2,
    "start_time": "2022-01-15T09:17:55.544Z"
   },
   {
    "duration": 12,
    "start_time": "2022-01-15T09:17:55.548Z"
   },
   {
    "duration": 15,
    "start_time": "2022-01-15T09:17:55.561Z"
   },
   {
    "duration": 13,
    "start_time": "2022-01-15T09:17:55.578Z"
   },
   {
    "duration": 39,
    "start_time": "2022-01-15T09:17:55.593Z"
   },
   {
    "duration": 13,
    "start_time": "2022-01-15T09:17:55.634Z"
   },
   {
    "duration": 21,
    "start_time": "2022-01-15T09:17:55.649Z"
   },
   {
    "duration": 21,
    "start_time": "2022-01-15T09:17:55.671Z"
   },
   {
    "duration": 19,
    "start_time": "2022-01-15T09:17:55.693Z"
   },
   {
    "duration": 9,
    "start_time": "2022-01-15T09:17:55.714Z"
   },
   {
    "duration": 9,
    "start_time": "2022-01-15T09:17:55.724Z"
   },
   {
    "duration": 9,
    "start_time": "2022-01-15T09:17:55.738Z"
   },
   {
    "duration": 13,
    "start_time": "2022-01-15T09:17:55.749Z"
   },
   {
    "duration": 11,
    "start_time": "2022-01-15T09:17:55.764Z"
   },
   {
    "duration": 16,
    "start_time": "2022-01-15T09:17:55.776Z"
   },
   {
    "duration": 66,
    "start_time": "2022-01-15T09:17:55.794Z"
   },
   {
    "duration": 809,
    "start_time": "2022-01-15T09:17:55.053Z"
   },
   {
    "duration": 805,
    "start_time": "2022-01-15T09:17:55.057Z"
   },
   {
    "duration": 801,
    "start_time": "2022-01-15T09:17:55.062Z"
   },
   {
    "duration": 786,
    "start_time": "2022-01-15T09:17:55.078Z"
   },
   {
    "duration": 779,
    "start_time": "2022-01-15T09:17:55.086Z"
   },
   {
    "duration": 776,
    "start_time": "2022-01-15T09:17:55.089Z"
   },
   {
    "duration": 772,
    "start_time": "2022-01-15T09:17:55.094Z"
   },
   {
    "duration": 767,
    "start_time": "2022-01-15T09:17:55.100Z"
   },
   {
    "duration": 763,
    "start_time": "2022-01-15T09:17:55.105Z"
   },
   {
    "duration": 761,
    "start_time": "2022-01-15T09:17:55.108Z"
   },
   {
    "duration": 753,
    "start_time": "2022-01-15T09:17:55.116Z"
   },
   {
    "duration": 751,
    "start_time": "2022-01-15T09:17:55.119Z"
   },
   {
    "duration": 747,
    "start_time": "2022-01-15T09:17:55.124Z"
   },
   {
    "duration": 745,
    "start_time": "2022-01-15T09:17:55.127Z"
   },
   {
    "duration": 739,
    "start_time": "2022-01-15T09:17:55.134Z"
   },
   {
    "duration": 736,
    "start_time": "2022-01-15T09:17:55.138Z"
   },
   {
    "duration": 732,
    "start_time": "2022-01-15T09:17:55.142Z"
   },
   {
    "duration": 726,
    "start_time": "2022-01-15T09:17:55.149Z"
   },
   {
    "duration": 723,
    "start_time": "2022-01-15T09:17:55.153Z"
   },
   {
    "duration": 719,
    "start_time": "2022-01-15T09:17:55.157Z"
   },
   {
    "duration": 717,
    "start_time": "2022-01-15T09:17:55.160Z"
   },
   {
    "duration": 711,
    "start_time": "2022-01-15T09:17:55.167Z"
   },
   {
    "duration": 708,
    "start_time": "2022-01-15T09:17:55.171Z"
   },
   {
    "duration": 703,
    "start_time": "2022-01-15T09:17:55.176Z"
   },
   {
    "duration": 697,
    "start_time": "2022-01-15T09:17:55.183Z"
   },
   {
    "duration": 694,
    "start_time": "2022-01-15T09:17:55.187Z"
   },
   {
    "duration": 21,
    "start_time": "2022-01-15T09:19:49.647Z"
   },
   {
    "duration": 12,
    "start_time": "2022-01-15T09:19:54.265Z"
   },
   {
    "duration": 55,
    "start_time": "2022-01-15T09:28:05.300Z"
   },
   {
    "duration": 53,
    "start_time": "2022-01-15T09:28:59.953Z"
   },
   {
    "duration": 2,
    "start_time": "2022-01-15T09:30:20.212Z"
   },
   {
    "duration": 55,
    "start_time": "2022-01-15T09:30:37.358Z"
   },
   {
    "duration": 4,
    "start_time": "2022-01-15T09:33:55.960Z"
   },
   {
    "duration": 4,
    "start_time": "2022-01-15T09:33:59.814Z"
   },
   {
    "duration": 581,
    "start_time": "2022-01-15T09:34:14.280Z"
   },
   {
    "duration": 42,
    "start_time": "2022-01-15T09:34:14.863Z"
   },
   {
    "duration": 11,
    "start_time": "2022-01-15T09:34:14.907Z"
   },
   {
    "duration": 16,
    "start_time": "2022-01-15T09:34:14.920Z"
   },
   {
    "duration": 32,
    "start_time": "2022-01-15T09:34:14.937Z"
   },
   {
    "duration": 68,
    "start_time": "2022-01-15T09:34:14.970Z"
   },
   {
    "duration": 8,
    "start_time": "2022-01-15T09:34:15.039Z"
   },
   {
    "duration": 10,
    "start_time": "2022-01-15T09:34:15.050Z"
   },
   {
    "duration": 33,
    "start_time": "2022-01-15T09:34:15.062Z"
   },
   {
    "duration": 6,
    "start_time": "2022-01-15T09:34:15.097Z"
   },
   {
    "duration": 6,
    "start_time": "2022-01-15T09:34:15.105Z"
   },
   {
    "duration": 20,
    "start_time": "2022-01-15T09:34:15.113Z"
   },
   {
    "duration": 18,
    "start_time": "2022-01-15T09:34:15.135Z"
   },
   {
    "duration": 55,
    "start_time": "2022-01-15T09:34:15.155Z"
   },
   {
    "duration": 8,
    "start_time": "2022-01-15T09:34:15.212Z"
   },
   {
    "duration": 6,
    "start_time": "2022-01-15T09:34:15.222Z"
   },
   {
    "duration": 6,
    "start_time": "2022-01-15T09:34:15.229Z"
   },
   {
    "duration": 6,
    "start_time": "2022-01-15T09:34:15.236Z"
   },
   {
    "duration": 5,
    "start_time": "2022-01-15T09:34:15.244Z"
   },
   {
    "duration": 45,
    "start_time": "2022-01-15T09:34:15.251Z"
   },
   {
    "duration": 6,
    "start_time": "2022-01-15T09:34:15.298Z"
   },
   {
    "duration": 8,
    "start_time": "2022-01-15T09:34:15.306Z"
   },
   {
    "duration": 7,
    "start_time": "2022-01-15T09:34:15.317Z"
   },
   {
    "duration": 6,
    "start_time": "2022-01-15T09:34:15.327Z"
   },
   {
    "duration": 8,
    "start_time": "2022-01-15T09:34:15.334Z"
   },
   {
    "duration": 8,
    "start_time": "2022-01-15T09:34:15.343Z"
   },
   {
    "duration": 42,
    "start_time": "2022-01-15T09:34:15.352Z"
   },
   {
    "duration": 2,
    "start_time": "2022-01-15T09:34:15.396Z"
   },
   {
    "duration": 5,
    "start_time": "2022-01-15T09:34:15.399Z"
   },
   {
    "duration": 8,
    "start_time": "2022-01-15T09:34:15.406Z"
   },
   {
    "duration": 12,
    "start_time": "2022-01-15T09:34:15.415Z"
   },
   {
    "duration": 10,
    "start_time": "2022-01-15T09:34:15.429Z"
   },
   {
    "duration": 7,
    "start_time": "2022-01-15T09:34:15.441Z"
   },
   {
    "duration": 5,
    "start_time": "2022-01-15T09:34:15.450Z"
   },
   {
    "duration": 39,
    "start_time": "2022-01-15T09:34:15.456Z"
   },
   {
    "duration": 6,
    "start_time": "2022-01-15T09:34:15.496Z"
   },
   {
    "duration": 7,
    "start_time": "2022-01-15T09:34:15.504Z"
   },
   {
    "duration": 3,
    "start_time": "2022-01-15T09:34:15.513Z"
   },
   {
    "duration": 7,
    "start_time": "2022-01-15T09:34:15.518Z"
   },
   {
    "duration": 5,
    "start_time": "2022-01-15T09:34:15.527Z"
   },
   {
    "duration": 5,
    "start_time": "2022-01-15T09:34:15.533Z"
   },
   {
    "duration": 6,
    "start_time": "2022-01-15T09:34:15.540Z"
   },
   {
    "duration": 7,
    "start_time": "2022-01-15T09:34:15.591Z"
   },
   {
    "duration": 10,
    "start_time": "2022-01-15T09:34:15.600Z"
   },
   {
    "duration": 9,
    "start_time": "2022-01-15T09:34:15.612Z"
   },
   {
    "duration": 6,
    "start_time": "2022-01-15T09:34:15.623Z"
   },
   {
    "duration": 8,
    "start_time": "2022-01-15T09:34:15.630Z"
   },
   {
    "duration": 6,
    "start_time": "2022-01-15T09:34:15.640Z"
   },
   {
    "duration": 6,
    "start_time": "2022-01-15T09:34:15.647Z"
   },
   {
    "duration": 45,
    "start_time": "2022-01-15T09:34:15.655Z"
   },
   {
    "duration": 6,
    "start_time": "2022-01-15T09:34:15.702Z"
   },
   {
    "duration": 14,
    "start_time": "2022-01-15T09:34:15.710Z"
   },
   {
    "duration": 28,
    "start_time": "2022-01-15T09:34:15.726Z"
   },
   {
    "duration": 47,
    "start_time": "2022-01-15T09:34:15.756Z"
   },
   {
    "duration": 17,
    "start_time": "2022-01-15T09:34:15.805Z"
   },
   {
    "duration": 11,
    "start_time": "2022-01-15T09:34:15.824Z"
   },
   {
    "duration": 2,
    "start_time": "2022-01-15T09:34:15.838Z"
   },
   {
    "duration": 6,
    "start_time": "2022-01-15T09:34:15.842Z"
   },
   {
    "duration": 6,
    "start_time": "2022-01-15T09:34:15.849Z"
   },
   {
    "duration": 42,
    "start_time": "2022-01-15T09:34:15.856Z"
   },
   {
    "duration": 14,
    "start_time": "2022-01-15T09:34:15.900Z"
   },
   {
    "duration": 3,
    "start_time": "2022-01-15T09:34:15.916Z"
   },
   {
    "duration": 5,
    "start_time": "2022-01-15T09:34:15.920Z"
   },
   {
    "duration": 5,
    "start_time": "2022-01-15T09:34:15.926Z"
   },
   {
    "duration": 16,
    "start_time": "2022-01-15T09:34:15.933Z"
   },
   {
    "duration": 43,
    "start_time": "2022-01-15T09:34:15.950Z"
   },
   {
    "duration": 3,
    "start_time": "2022-01-15T09:34:15.995Z"
   },
   {
    "duration": 2,
    "start_time": "2022-01-15T09:34:16.004Z"
   },
   {
    "duration": 9,
    "start_time": "2022-01-15T09:34:16.009Z"
   },
   {
    "duration": 8,
    "start_time": "2022-01-15T09:34:16.021Z"
   },
   {
    "duration": 5,
    "start_time": "2022-01-15T09:34:16.031Z"
   },
   {
    "duration": 64,
    "start_time": "2022-01-15T09:34:16.038Z"
   },
   {
    "duration": 824,
    "start_time": "2022-01-15T09:34:15.280Z"
   },
   {
    "duration": 817,
    "start_time": "2022-01-15T09:34:15.289Z"
   },
   {
    "duration": 815,
    "start_time": "2022-01-15T09:34:15.292Z"
   },
   {
    "duration": 812,
    "start_time": "2022-01-15T09:34:15.296Z"
   },
   {
    "duration": 808,
    "start_time": "2022-01-15T09:34:15.302Z"
   },
   {
    "duration": 805,
    "start_time": "2022-01-15T09:34:15.306Z"
   },
   {
    "duration": 802,
    "start_time": "2022-01-15T09:34:15.310Z"
   },
   {
    "duration": 801,
    "start_time": "2022-01-15T09:34:15.313Z"
   },
   {
    "duration": 796,
    "start_time": "2022-01-15T09:34:15.319Z"
   },
   {
    "duration": 786,
    "start_time": "2022-01-15T09:34:15.331Z"
   },
   {
    "duration": 780,
    "start_time": "2022-01-15T09:34:15.338Z"
   },
   {
    "duration": 778,
    "start_time": "2022-01-15T09:34:15.342Z"
   },
   {
    "duration": 775,
    "start_time": "2022-01-15T09:34:15.346Z"
   },
   {
    "duration": 770,
    "start_time": "2022-01-15T09:34:15.352Z"
   },
   {
    "duration": 768,
    "start_time": "2022-01-15T09:34:15.356Z"
   },
   {
    "duration": 757,
    "start_time": "2022-01-15T09:34:15.368Z"
   },
   {
    "duration": 754,
    "start_time": "2022-01-15T09:34:15.372Z"
   },
   {
    "duration": 752,
    "start_time": "2022-01-15T09:34:15.376Z"
   },
   {
    "duration": 750,
    "start_time": "2022-01-15T09:34:15.379Z"
   },
   {
    "duration": 745,
    "start_time": "2022-01-15T09:34:15.386Z"
   },
   {
    "duration": 742,
    "start_time": "2022-01-15T09:34:15.390Z"
   },
   {
    "duration": 740,
    "start_time": "2022-01-15T09:34:15.393Z"
   },
   {
    "duration": 738,
    "start_time": "2022-01-15T09:34:15.397Z"
   },
   {
    "duration": 733,
    "start_time": "2022-01-15T09:34:15.403Z"
   },
   {
    "duration": 730,
    "start_time": "2022-01-15T09:34:15.407Z"
   },
   {
    "duration": 728,
    "start_time": "2022-01-15T09:34:15.410Z"
   },
   {
    "duration": 725,
    "start_time": "2022-01-15T09:34:15.414Z"
   },
   {
    "duration": 14,
    "start_time": "2022-01-15T09:34:42.475Z"
   },
   {
    "duration": 4,
    "start_time": "2022-01-15T09:35:47.728Z"
   },
   {
    "duration": 5,
    "start_time": "2022-01-15T09:35:51.337Z"
   },
   {
    "duration": 5,
    "start_time": "2022-01-15T09:36:06.927Z"
   },
   {
    "duration": 5,
    "start_time": "2022-01-15T09:36:13.374Z"
   },
   {
    "duration": 13,
    "start_time": "2022-01-15T09:43:06.270Z"
   },
   {
    "duration": 10,
    "start_time": "2022-01-15T09:43:08.470Z"
   },
   {
    "duration": 20,
    "start_time": "2022-01-15T09:43:34.376Z"
   },
   {
    "duration": 52,
    "start_time": "2022-01-15T09:43:37.908Z"
   },
   {
    "duration": 11,
    "start_time": "2022-01-15T09:43:41.487Z"
   },
   {
    "duration": 4,
    "start_time": "2022-01-15T09:44:53.873Z"
   },
   {
    "duration": 314,
    "start_time": "2022-01-15T09:46:04.376Z"
   },
   {
    "duration": 5,
    "start_time": "2022-01-15T09:46:11.546Z"
   },
   {
    "duration": 623,
    "start_time": "2022-01-15T09:46:13.105Z"
   },
   {
    "duration": 213,
    "start_time": "2022-01-15T09:46:14.534Z"
   },
   {
    "duration": 203,
    "start_time": "2022-01-15T09:46:42.289Z"
   },
   {
    "duration": 2,
    "start_time": "2022-01-15T09:47:23.595Z"
   },
   {
    "duration": 213,
    "start_time": "2022-01-15T09:47:25.567Z"
   },
   {
    "duration": 1271,
    "start_time": "2022-01-15T09:48:54.447Z"
   },
   {
    "duration": 9,
    "start_time": "2022-01-15T09:49:30.016Z"
   },
   {
    "duration": 5,
    "start_time": "2022-01-15T09:49:31.991Z"
   },
   {
    "duration": 5,
    "start_time": "2022-01-15T09:49:39.219Z"
   },
   {
    "duration": 3,
    "start_time": "2022-01-15T10:04:29.717Z"
   },
   {
    "duration": 5,
    "start_time": "2022-01-15T10:06:40.261Z"
   },
   {
    "duration": 4,
    "start_time": "2022-01-15T10:08:46.243Z"
   },
   {
    "duration": 171,
    "start_time": "2022-01-15T10:10:05.775Z"
   },
   {
    "duration": 5,
    "start_time": "2022-01-15T10:10:40.604Z"
   },
   {
    "duration": 173,
    "start_time": "2022-01-15T10:17:12.384Z"
   },
   {
    "duration": 5,
    "start_time": "2022-01-15T10:18:07.444Z"
   },
   {
    "duration": 4,
    "start_time": "2022-01-15T10:18:09.522Z"
   },
   {
    "duration": 5,
    "start_time": "2022-01-15T10:18:11.669Z"
   },
   {
    "duration": 4,
    "start_time": "2022-01-15T10:18:14.714Z"
   },
   {
    "duration": 5,
    "start_time": "2022-01-15T10:18:16.223Z"
   },
   {
    "duration": 5,
    "start_time": "2022-01-15T10:19:00.784Z"
   },
   {
    "duration": 5,
    "start_time": "2022-01-15T10:19:09.815Z"
   },
   {
    "duration": 4,
    "start_time": "2022-01-15T10:24:58.033Z"
   },
   {
    "duration": 5,
    "start_time": "2022-01-15T10:25:06.842Z"
   },
   {
    "duration": 4,
    "start_time": "2022-01-15T10:25:10.216Z"
   },
   {
    "duration": 1751,
    "start_time": "2022-01-15T10:26:38.672Z"
   },
   {
    "duration": 7,
    "start_time": "2022-01-15T10:27:11.165Z"
   },
   {
    "duration": 3,
    "start_time": "2022-01-15T10:28:27.263Z"
   },
   {
    "duration": 3,
    "start_time": "2022-01-15T10:28:29.137Z"
   },
   {
    "duration": 7,
    "start_time": "2022-01-15T10:28:34.019Z"
   },
   {
    "duration": 4,
    "start_time": "2022-01-15T10:28:36.786Z"
   },
   {
    "duration": 5,
    "start_time": "2022-01-15T10:28:38.657Z"
   },
   {
    "duration": 4,
    "start_time": "2022-01-15T10:28:40.487Z"
   },
   {
    "duration": 5,
    "start_time": "2022-01-15T10:28:52.392Z"
   },
   {
    "duration": 4,
    "start_time": "2022-01-15T10:28:55.612Z"
   },
   {
    "duration": 1749,
    "start_time": "2022-01-15T10:28:58.467Z"
   },
   {
    "duration": 8,
    "start_time": "2022-01-15T10:29:02.789Z"
   },
   {
    "duration": 14,
    "start_time": "2022-01-15T10:40:09.746Z"
   },
   {
    "duration": 191,
    "start_time": "2022-01-15T10:42:37.942Z"
   },
   {
    "duration": 7,
    "start_time": "2022-01-15T10:42:49.775Z"
   },
   {
    "duration": 4,
    "start_time": "2022-01-15T10:47:19.378Z"
   },
   {
    "duration": 11,
    "start_time": "2022-01-15T10:58:43.022Z"
   },
   {
    "duration": 11,
    "start_time": "2022-01-15T11:02:07.316Z"
   },
   {
    "duration": 18,
    "start_time": "2022-01-15T11:07:42.110Z"
   },
   {
    "duration": 12,
    "start_time": "2022-01-15T11:08:53.205Z"
   },
   {
    "duration": 180,
    "start_time": "2022-01-15T11:18:45.900Z"
   },
   {
    "duration": 17,
    "start_time": "2022-01-15T11:19:00.008Z"
   },
   {
    "duration": 15,
    "start_time": "2022-01-15T11:22:44.509Z"
   },
   {
    "duration": 13,
    "start_time": "2022-01-15T11:23:12.273Z"
   },
   {
    "duration": 13,
    "start_time": "2022-01-15T11:23:53.582Z"
   },
   {
    "duration": 13,
    "start_time": "2022-01-15T11:48:19.196Z"
   },
   {
    "duration": 213,
    "start_time": "2022-01-15T11:50:33.027Z"
   },
   {
    "duration": 506,
    "start_time": "2022-01-15T11:50:39.339Z"
   },
   {
    "duration": 43,
    "start_time": "2022-01-15T11:50:41.188Z"
   },
   {
    "duration": 12,
    "start_time": "2022-01-15T11:50:44.973Z"
   },
   {
    "duration": 26,
    "start_time": "2022-01-15T11:57:55.567Z"
   },
   {
    "duration": 32,
    "start_time": "2022-01-15T11:58:10.369Z"
   },
   {
    "duration": 51,
    "start_time": "2022-01-15T11:58:14.643Z"
   },
   {
    "duration": 10,
    "start_time": "2022-01-15T11:58:36.178Z"
   },
   {
    "duration": 12,
    "start_time": "2022-01-15T11:58:55.397Z"
   },
   {
    "duration": 10,
    "start_time": "2022-01-15T11:59:32.916Z"
   },
   {
    "duration": 5,
    "start_time": "2022-01-15T11:59:44.209Z"
   },
   {
    "duration": 22,
    "start_time": "2022-01-15T12:00:12.167Z"
   },
   {
    "duration": 20,
    "start_time": "2022-01-15T12:00:27.087Z"
   },
   {
    "duration": 20,
    "start_time": "2022-01-15T12:00:48.017Z"
   },
   {
    "duration": 11,
    "start_time": "2022-01-15T12:02:33.380Z"
   },
   {
    "duration": 7,
    "start_time": "2022-01-15T12:02:40.801Z"
   },
   {
    "duration": 8,
    "start_time": "2022-01-15T12:23:07.997Z"
   },
   {
    "duration": 9,
    "start_time": "2022-01-15T12:23:20.541Z"
   },
   {
    "duration": 8,
    "start_time": "2022-01-15T12:23:24.942Z"
   },
   {
    "duration": 8,
    "start_time": "2022-01-15T12:23:30.298Z"
   },
   {
    "duration": 7,
    "start_time": "2022-01-15T12:23:36.642Z"
   },
   {
    "duration": 7,
    "start_time": "2022-01-15T12:23:47.281Z"
   },
   {
    "duration": 8,
    "start_time": "2022-01-15T12:24:34.216Z"
   },
   {
    "duration": 9,
    "start_time": "2022-01-15T12:24:51.937Z"
   },
   {
    "duration": 7,
    "start_time": "2022-01-15T12:25:02.419Z"
   },
   {
    "duration": 7,
    "start_time": "2022-01-15T12:25:06.776Z"
   },
   {
    "duration": 7,
    "start_time": "2022-01-15T12:25:15.322Z"
   },
   {
    "duration": 8,
    "start_time": "2022-01-15T12:25:19.308Z"
   },
   {
    "duration": 6,
    "start_time": "2022-01-15T12:38:08.052Z"
   },
   {
    "duration": 11,
    "start_time": "2022-01-15T12:38:54.079Z"
   },
   {
    "duration": 10,
    "start_time": "2022-01-15T12:39:14.441Z"
   },
   {
    "duration": 5,
    "start_time": "2022-01-15T12:39:29.251Z"
   },
   {
    "duration": 5,
    "start_time": "2022-01-15T12:40:01.364Z"
   },
   {
    "duration": 4,
    "start_time": "2022-01-15T12:41:30.524Z"
   },
   {
    "duration": 5,
    "start_time": "2022-01-15T12:41:55.764Z"
   },
   {
    "duration": 6,
    "start_time": "2022-01-15T12:42:41.170Z"
   },
   {
    "duration": 3,
    "start_time": "2022-01-15T12:44:05.586Z"
   },
   {
    "duration": 5,
    "start_time": "2022-01-15T12:44:32.446Z"
   },
   {
    "duration": 4,
    "start_time": "2022-01-15T12:49:13.449Z"
   },
   {
    "duration": 55,
    "start_time": "2022-01-15T12:51:19.248Z"
   },
   {
    "duration": 5,
    "start_time": "2022-01-15T12:51:33.563Z"
   },
   {
    "duration": 6,
    "start_time": "2022-01-15T12:51:40.584Z"
   },
   {
    "duration": 5,
    "start_time": "2022-01-15T12:52:53.546Z"
   },
   {
    "duration": 5,
    "start_time": "2022-01-15T12:53:10.476Z"
   },
   {
    "duration": 4,
    "start_time": "2022-01-15T12:53:16.291Z"
   },
   {
    "duration": 6,
    "start_time": "2022-01-15T12:54:01.452Z"
   },
   {
    "duration": 7,
    "start_time": "2022-01-15T12:54:07.088Z"
   },
   {
    "duration": 6,
    "start_time": "2022-01-15T12:54:11.992Z"
   },
   {
    "duration": 5,
    "start_time": "2022-01-15T13:22:17.033Z"
   },
   {
    "duration": 9,
    "start_time": "2022-01-15T13:22:46.934Z"
   },
   {
    "duration": 5,
    "start_time": "2022-01-15T13:23:11.733Z"
   },
   {
    "duration": 19,
    "start_time": "2022-01-15T13:24:00.211Z"
   },
   {
    "duration": 30,
    "start_time": "2022-01-15T13:24:06.243Z"
   },
   {
    "duration": 16,
    "start_time": "2022-01-15T13:24:58.578Z"
   },
   {
    "duration": 16,
    "start_time": "2022-01-15T13:25:35.848Z"
   },
   {
    "duration": 11,
    "start_time": "2022-01-15T13:26:33.943Z"
   },
   {
    "duration": 43,
    "start_time": "2022-01-15T13:29:22.437Z"
   },
   {
    "duration": 10,
    "start_time": "2022-01-15T13:32:00.525Z"
   },
   {
    "duration": 11,
    "start_time": "2022-01-15T13:32:06.566Z"
   },
   {
    "duration": 4,
    "start_time": "2022-01-15T13:37:11.941Z"
   },
   {
    "duration": 3,
    "start_time": "2022-01-15T13:43:03.763Z"
   },
   {
    "duration": 9,
    "start_time": "2022-01-15T13:43:46.636Z"
   },
   {
    "duration": 15,
    "start_time": "2022-01-15T13:43:48.807Z"
   },
   {
    "duration": 14,
    "start_time": "2022-01-15T13:47:25.237Z"
   },
   {
    "duration": 13,
    "start_time": "2022-01-15T13:47:35.020Z"
   },
   {
    "duration": 9,
    "start_time": "2022-01-15T13:48:13.994Z"
   },
   {
    "duration": 10,
    "start_time": "2022-01-15T13:48:17.410Z"
   },
   {
    "duration": 14,
    "start_time": "2022-01-15T13:48:58.747Z"
   },
   {
    "duration": 19,
    "start_time": "2022-01-15T13:50:40.464Z"
   },
   {
    "duration": 53,
    "start_time": "2022-01-15T13:50:46.245Z"
   },
   {
    "duration": 11,
    "start_time": "2022-01-15T13:50:49.988Z"
   },
   {
    "duration": 5,
    "start_time": "2022-01-15T13:51:27.532Z"
   },
   {
    "duration": 532,
    "start_time": "2022-01-15T13:53:37.291Z"
   },
   {
    "duration": 3,
    "start_time": "2022-01-15T13:53:39.490Z"
   },
   {
    "duration": 167,
    "start_time": "2022-01-15T13:54:18.650Z"
   },
   {
    "duration": 3,
    "start_time": "2022-01-15T13:54:27.067Z"
   },
   {
    "duration": 6,
    "start_time": "2022-01-15T13:54:30.422Z"
   },
   {
    "duration": 353,
    "start_time": "2022-01-15T13:54:32.125Z"
   },
   {
    "duration": 5,
    "start_time": "2022-01-15T13:54:51.655Z"
   },
   {
    "duration": 345,
    "start_time": "2022-01-15T13:54:57.653Z"
   },
   {
    "duration": 3,
    "start_time": "2022-01-15T13:55:00.428Z"
   },
   {
    "duration": 5,
    "start_time": "2022-01-15T13:55:02.144Z"
   },
   {
    "duration": 349,
    "start_time": "2022-01-15T13:55:03.493Z"
   },
   {
    "duration": 568,
    "start_time": "2022-01-15T13:55:26.512Z"
   },
   {
    "duration": 43,
    "start_time": "2022-01-15T13:55:27.082Z"
   },
   {
    "duration": 11,
    "start_time": "2022-01-15T13:55:27.127Z"
   },
   {
    "duration": 16,
    "start_time": "2022-01-15T13:55:27.140Z"
   },
   {
    "duration": 50,
    "start_time": "2022-01-15T13:55:27.158Z"
   },
   {
    "duration": 48,
    "start_time": "2022-01-15T13:55:27.209Z"
   },
   {
    "duration": 9,
    "start_time": "2022-01-15T13:55:27.259Z"
   },
   {
    "duration": 31,
    "start_time": "2022-01-15T13:55:27.270Z"
   },
   {
    "duration": 8,
    "start_time": "2022-01-15T13:55:27.303Z"
   },
   {
    "duration": 19,
    "start_time": "2022-01-15T13:55:27.312Z"
   },
   {
    "duration": 18,
    "start_time": "2022-01-15T13:55:27.333Z"
   },
   {
    "duration": 51,
    "start_time": "2022-01-15T13:55:27.353Z"
   },
   {
    "duration": 10,
    "start_time": "2022-01-15T13:55:27.406Z"
   },
   {
    "duration": 7,
    "start_time": "2022-01-15T13:55:27.418Z"
   },
   {
    "duration": 8,
    "start_time": "2022-01-15T13:55:27.427Z"
   },
   {
    "duration": 8,
    "start_time": "2022-01-15T13:55:27.437Z"
   },
   {
    "duration": 51,
    "start_time": "2022-01-15T13:55:27.447Z"
   },
   {
    "duration": 8,
    "start_time": "2022-01-15T13:55:27.501Z"
   },
   {
    "duration": 8,
    "start_time": "2022-01-15T13:55:27.511Z"
   },
   {
    "duration": 9,
    "start_time": "2022-01-15T13:55:27.521Z"
   },
   {
    "duration": 8,
    "start_time": "2022-01-15T13:55:27.532Z"
   },
   {
    "duration": 53,
    "start_time": "2022-01-15T13:55:27.542Z"
   },
   {
    "duration": 7,
    "start_time": "2022-01-15T13:55:27.600Z"
   },
   {
    "duration": 9,
    "start_time": "2022-01-15T13:55:27.610Z"
   },
   {
    "duration": 8,
    "start_time": "2022-01-15T13:55:27.621Z"
   },
   {
    "duration": 8,
    "start_time": "2022-01-15T13:55:27.631Z"
   },
   {
    "duration": 6,
    "start_time": "2022-01-15T13:55:27.641Z"
   },
   {
    "duration": 55,
    "start_time": "2022-01-15T13:55:27.649Z"
   },
   {
    "duration": 14,
    "start_time": "2022-01-15T13:55:27.706Z"
   },
   {
    "duration": 7,
    "start_time": "2022-01-15T13:55:27.722Z"
   },
   {
    "duration": 5,
    "start_time": "2022-01-15T13:55:27.731Z"
   },
   {
    "duration": 5,
    "start_time": "2022-01-15T13:55:27.738Z"
   },
   {
    "duration": 8,
    "start_time": "2022-01-15T13:55:27.744Z"
   },
   {
    "duration": 41,
    "start_time": "2022-01-15T13:55:27.753Z"
   },
   {
    "duration": 4,
    "start_time": "2022-01-15T13:55:27.796Z"
   },
   {
    "duration": 7,
    "start_time": "2022-01-15T13:55:27.802Z"
   },
   {
    "duration": 5,
    "start_time": "2022-01-15T13:55:27.810Z"
   },
   {
    "duration": 5,
    "start_time": "2022-01-15T13:55:27.817Z"
   },
   {
    "duration": 5,
    "start_time": "2022-01-15T13:55:27.824Z"
   },
   {
    "duration": 4,
    "start_time": "2022-01-15T13:55:27.831Z"
   },
   {
    "duration": 56,
    "start_time": "2022-01-15T13:55:27.837Z"
   },
   {
    "duration": 6,
    "start_time": "2022-01-15T13:55:27.894Z"
   },
   {
    "duration": 5,
    "start_time": "2022-01-15T13:55:27.902Z"
   },
   {
    "duration": 8,
    "start_time": "2022-01-15T13:55:27.909Z"
   },
   {
    "duration": 6,
    "start_time": "2022-01-15T13:55:27.919Z"
   },
   {
    "duration": 6,
    "start_time": "2022-01-15T13:55:27.926Z"
   },
   {
    "duration": 9,
    "start_time": "2022-01-15T13:55:27.934Z"
   },
   {
    "duration": 74,
    "start_time": "2022-01-15T13:55:27.945Z"
   },
   {
    "duration": -16,
    "start_time": "2022-01-15T13:55:28.038Z"
   },
   {
    "duration": -31,
    "start_time": "2022-01-15T13:55:28.054Z"
   },
   {
    "duration": -40,
    "start_time": "2022-01-15T13:55:28.064Z"
   },
   {
    "duration": -46,
    "start_time": "2022-01-15T13:55:28.071Z"
   },
   {
    "duration": -55,
    "start_time": "2022-01-15T13:55:28.081Z"
   },
   {
    "duration": -60,
    "start_time": "2022-01-15T13:55:28.087Z"
   },
   {
    "duration": -66,
    "start_time": "2022-01-15T13:55:28.094Z"
   },
   {
    "duration": -75,
    "start_time": "2022-01-15T13:55:28.103Z"
   },
   {
    "duration": -81,
    "start_time": "2022-01-15T13:55:28.110Z"
   },
   {
    "duration": -89,
    "start_time": "2022-01-15T13:55:28.119Z"
   },
   {
    "duration": -96,
    "start_time": "2022-01-15T13:55:28.127Z"
   },
   {
    "duration": -103,
    "start_time": "2022-01-15T13:55:28.136Z"
   },
   {
    "duration": -108,
    "start_time": "2022-01-15T13:55:28.142Z"
   },
   {
    "duration": -117,
    "start_time": "2022-01-15T13:55:28.151Z"
   },
   {
    "duration": -123,
    "start_time": "2022-01-15T13:55:28.158Z"
   },
   {
    "duration": -131,
    "start_time": "2022-01-15T13:55:28.167Z"
   },
   {
    "duration": -137,
    "start_time": "2022-01-15T13:55:28.174Z"
   },
   {
    "duration": -146,
    "start_time": "2022-01-15T13:55:28.184Z"
   },
   {
    "duration": -151,
    "start_time": "2022-01-15T13:55:28.190Z"
   },
   {
    "duration": -159,
    "start_time": "2022-01-15T13:55:28.199Z"
   },
   {
    "duration": -165,
    "start_time": "2022-01-15T13:55:28.205Z"
   },
   {
    "duration": -173,
    "start_time": "2022-01-15T13:55:28.214Z"
   },
   {
    "duration": -178,
    "start_time": "2022-01-15T13:55:28.222Z"
   },
   {
    "duration": 25,
    "start_time": "2022-01-15T13:55:28.077Z"
   },
   {
    "duration": 18,
    "start_time": "2022-01-15T13:55:28.126Z"
   },
   {
    "duration": 55,
    "start_time": "2022-01-15T13:55:28.146Z"
   },
   {
    "duration": 11,
    "start_time": "2022-01-15T13:55:28.204Z"
   },
   {
    "duration": 6,
    "start_time": "2022-01-15T13:55:28.217Z"
   },
   {
    "duration": 54,
    "start_time": "2022-01-15T13:55:28.224Z"
   },
   {
    "duration": -94,
    "start_time": "2022-01-15T13:55:28.374Z"
   },
   {
    "duration": -104,
    "start_time": "2022-01-15T13:55:28.385Z"
   },
   {
    "duration": -110,
    "start_time": "2022-01-15T13:55:28.392Z"
   },
   {
    "duration": -119,
    "start_time": "2022-01-15T13:55:28.402Z"
   },
   {
    "duration": -125,
    "start_time": "2022-01-15T13:55:28.409Z"
   },
   {
    "duration": -133,
    "start_time": "2022-01-15T13:55:28.418Z"
   },
   {
    "duration": -138,
    "start_time": "2022-01-15T13:55:28.424Z"
   },
   {
    "duration": -146,
    "start_time": "2022-01-15T13:55:28.433Z"
   },
   {
    "duration": -150,
    "start_time": "2022-01-15T13:55:28.439Z"
   },
   {
    "duration": 5,
    "start_time": "2022-01-15T13:55:28.290Z"
   },
   {
    "duration": 226,
    "start_time": "2022-01-15T13:55:28.296Z"
   },
   {
    "duration": 14,
    "start_time": "2022-01-15T13:55:28.510Z"
   },
   {
    "duration": 5,
    "start_time": "2022-01-15T13:55:28.520Z"
   },
   {
    "duration": 0,
    "start_time": "2022-01-15T13:55:28.526Z"
   },
   {
    "duration": -9,
    "start_time": "2022-01-15T13:55:28.536Z"
   },
   {
    "duration": -15,
    "start_time": "2022-01-15T13:55:28.543Z"
   },
   {
    "duration": -24,
    "start_time": "2022-01-15T13:55:28.553Z"
   },
   {
    "duration": -30,
    "start_time": "2022-01-15T13:55:28.560Z"
   },
   {
    "duration": -38,
    "start_time": "2022-01-15T13:55:28.569Z"
   },
   {
    "duration": -44,
    "start_time": "2022-01-15T13:55:28.576Z"
   },
   {
    "duration": -54,
    "start_time": "2022-01-15T13:55:28.587Z"
   },
   {
    "duration": -59,
    "start_time": "2022-01-15T13:55:28.593Z"
   },
   {
    "duration": -67,
    "start_time": "2022-01-15T13:55:28.602Z"
   },
   {
    "duration": -73,
    "start_time": "2022-01-15T13:55:28.609Z"
   },
   {
    "duration": -82,
    "start_time": "2022-01-15T13:55:28.619Z"
   },
   {
    "duration": -87,
    "start_time": "2022-01-15T13:55:28.625Z"
   },
   {
    "duration": -96,
    "start_time": "2022-01-15T13:55:28.635Z"
   },
   {
    "duration": -102,
    "start_time": "2022-01-15T13:55:28.642Z"
   },
   {
    "duration": -110,
    "start_time": "2022-01-15T13:55:28.651Z"
   },
   {
    "duration": -115,
    "start_time": "2022-01-15T13:55:28.657Z"
   },
   {
    "duration": -125,
    "start_time": "2022-01-15T13:55:28.667Z"
   },
   {
    "duration": 175,
    "start_time": "2022-01-15T13:56:14.808Z"
   },
   {
    "duration": 5,
    "start_time": "2022-01-15T13:56:23.059Z"
   },
   {
    "duration": 4,
    "start_time": "2022-01-15T13:56:25.296Z"
   },
   {
    "duration": 351,
    "start_time": "2022-01-15T13:56:28.118Z"
   },
   {
    "duration": 4,
    "start_time": "2022-01-15T13:56:51.002Z"
   },
   {
    "duration": 579,
    "start_time": "2022-01-15T13:56:51.663Z"
   },
   {
    "duration": 1263,
    "start_time": "2022-01-15T13:56:52.333Z"
   },
   {
    "duration": 10,
    "start_time": "2022-01-15T13:56:55.765Z"
   },
   {
    "duration": 5,
    "start_time": "2022-01-15T13:56:56.648Z"
   },
   {
    "duration": 5,
    "start_time": "2022-01-15T13:57:02.728Z"
   },
   {
    "duration": 5,
    "start_time": "2022-01-15T13:57:06.223Z"
   },
   {
    "duration": 3,
    "start_time": "2022-01-15T13:57:11.647Z"
   },
   {
    "duration": 5,
    "start_time": "2022-01-15T13:57:13.157Z"
   },
   {
    "duration": 4,
    "start_time": "2022-01-15T13:57:14.129Z"
   },
   {
    "duration": 62,
    "start_time": "2022-01-15T13:57:54.976Z"
   },
   {
    "duration": 5,
    "start_time": "2022-01-15T13:58:02.738Z"
   },
   {
    "duration": 5,
    "start_time": "2022-01-15T13:58:03.640Z"
   },
   {
    "duration": 5,
    "start_time": "2022-01-15T13:58:05.732Z"
   },
   {
    "duration": 4,
    "start_time": "2022-01-15T13:58:13.338Z"
   },
   {
    "duration": 1743,
    "start_time": "2022-01-15T13:58:14.949Z"
   },
   {
    "duration": 7,
    "start_time": "2022-01-15T13:58:16.693Z"
   },
   {
    "duration": 12,
    "start_time": "2022-01-15T14:01:46.213Z"
   },
   {
    "duration": 5,
    "start_time": "2022-01-15T14:01:49.346Z"
   },
   {
    "duration": 5,
    "start_time": "2022-01-15T14:01:52.622Z"
   },
   {
    "duration": 12,
    "start_time": "2022-01-15T14:02:05.150Z"
   },
   {
    "duration": 14,
    "start_time": "2022-01-15T14:04:01.922Z"
   },
   {
    "duration": 17,
    "start_time": "2022-01-15T14:09:05.222Z"
   },
   {
    "duration": 11,
    "start_time": "2022-01-15T14:09:09.837Z"
   },
   {
    "duration": 22,
    "start_time": "2022-01-15T14:13:18.395Z"
   },
   {
    "duration": 13,
    "start_time": "2022-01-15T14:13:40.933Z"
   },
   {
    "duration": 717,
    "start_time": "2022-01-15T16:40:03.565Z"
   },
   {
    "duration": 62,
    "start_time": "2022-01-15T16:40:04.284Z"
   },
   {
    "duration": 21,
    "start_time": "2022-01-15T16:40:04.349Z"
   },
   {
    "duration": 25,
    "start_time": "2022-01-15T16:40:04.372Z"
   },
   {
    "duration": 38,
    "start_time": "2022-01-15T16:40:04.400Z"
   },
   {
    "duration": 70,
    "start_time": "2022-01-15T16:40:04.440Z"
   },
   {
    "duration": 10,
    "start_time": "2022-01-15T16:40:04.512Z"
   },
   {
    "duration": 10,
    "start_time": "2022-01-15T16:40:04.525Z"
   },
   {
    "duration": 33,
    "start_time": "2022-01-15T16:40:04.537Z"
   },
   {
    "duration": 28,
    "start_time": "2022-01-15T16:40:04.573Z"
   },
   {
    "duration": 23,
    "start_time": "2022-01-15T16:40:04.602Z"
   },
   {
    "duration": 52,
    "start_time": "2022-01-15T16:40:04.627Z"
   },
   {
    "duration": 12,
    "start_time": "2022-01-15T16:40:04.681Z"
   },
   {
    "duration": 7,
    "start_time": "2022-01-15T16:40:04.695Z"
   },
   {
    "duration": 7,
    "start_time": "2022-01-15T16:40:04.704Z"
   },
   {
    "duration": 6,
    "start_time": "2022-01-15T16:40:04.713Z"
   },
   {
    "duration": 45,
    "start_time": "2022-01-15T16:40:04.721Z"
   },
   {
    "duration": 7,
    "start_time": "2022-01-15T16:40:04.768Z"
   },
   {
    "duration": 22,
    "start_time": "2022-01-15T16:40:04.777Z"
   },
   {
    "duration": 19,
    "start_time": "2022-01-15T16:40:04.801Z"
   },
   {
    "duration": 10,
    "start_time": "2022-01-15T16:40:04.822Z"
   },
   {
    "duration": 14,
    "start_time": "2022-01-15T16:40:04.834Z"
   },
   {
    "duration": 15,
    "start_time": "2022-01-15T16:40:04.852Z"
   },
   {
    "duration": 22,
    "start_time": "2022-01-15T16:40:04.869Z"
   },
   {
    "duration": 13,
    "start_time": "2022-01-15T16:40:04.893Z"
   },
   {
    "duration": 14,
    "start_time": "2022-01-15T16:40:04.908Z"
   },
   {
    "duration": 27,
    "start_time": "2022-01-15T16:40:04.924Z"
   },
   {
    "duration": 13,
    "start_time": "2022-01-15T16:40:04.952Z"
   },
   {
    "duration": 11,
    "start_time": "2022-01-15T16:40:04.967Z"
   },
   {
    "duration": 9,
    "start_time": "2022-01-15T16:40:04.980Z"
   },
   {
    "duration": 6,
    "start_time": "2022-01-15T16:40:04.990Z"
   },
   {
    "duration": 6,
    "start_time": "2022-01-15T16:40:04.997Z"
   },
   {
    "duration": 13,
    "start_time": "2022-01-15T16:40:05.004Z"
   },
   {
    "duration": 10,
    "start_time": "2022-01-15T16:40:05.018Z"
   },
   {
    "duration": 5,
    "start_time": "2022-01-15T16:40:05.030Z"
   },
   {
    "duration": 26,
    "start_time": "2022-01-15T16:40:05.037Z"
   },
   {
    "duration": 7,
    "start_time": "2022-01-15T16:40:05.065Z"
   },
   {
    "duration": 12,
    "start_time": "2022-01-15T16:40:05.073Z"
   },
   {
    "duration": 12,
    "start_time": "2022-01-15T16:40:05.087Z"
   },
   {
    "duration": 7,
    "start_time": "2022-01-15T16:40:05.101Z"
   },
   {
    "duration": 7,
    "start_time": "2022-01-15T16:40:05.109Z"
   },
   {
    "duration": 9,
    "start_time": "2022-01-15T16:40:05.117Z"
   },
   {
    "duration": 7,
    "start_time": "2022-01-15T16:40:05.128Z"
   },
   {
    "duration": 30,
    "start_time": "2022-01-15T16:40:05.136Z"
   },
   {
    "duration": 12,
    "start_time": "2022-01-15T16:40:05.168Z"
   },
   {
    "duration": 8,
    "start_time": "2022-01-15T16:40:05.182Z"
   },
   {
    "duration": 18,
    "start_time": "2022-01-15T16:40:05.192Z"
   },
   {
    "duration": 91,
    "start_time": "2022-01-15T16:40:05.213Z"
   },
   {
    "duration": -1876,
    "start_time": "2022-01-15T16:40:07.183Z"
   },
   {
    "duration": -1881,
    "start_time": "2022-01-15T16:40:07.189Z"
   },
   {
    "duration": -1885,
    "start_time": "2022-01-15T16:40:07.195Z"
   },
   {
    "duration": -1923,
    "start_time": "2022-01-15T16:40:07.234Z"
   },
   {
    "duration": -1929,
    "start_time": "2022-01-15T16:40:07.241Z"
   },
   {
    "duration": -1936,
    "start_time": "2022-01-15T16:40:07.250Z"
   },
   {
    "duration": -1943,
    "start_time": "2022-01-15T16:40:07.258Z"
   },
   {
    "duration": -1951,
    "start_time": "2022-01-15T16:40:07.267Z"
   },
   {
    "duration": -1957,
    "start_time": "2022-01-15T16:40:07.274Z"
   },
   {
    "duration": -1963,
    "start_time": "2022-01-15T16:40:07.281Z"
   },
   {
    "duration": -1969,
    "start_time": "2022-01-15T16:40:07.288Z"
   },
   {
    "duration": -1975,
    "start_time": "2022-01-15T16:40:07.295Z"
   },
   {
    "duration": -1981,
    "start_time": "2022-01-15T16:40:07.302Z"
   },
   {
    "duration": -1987,
    "start_time": "2022-01-15T16:40:07.309Z"
   },
   {
    "duration": -1995,
    "start_time": "2022-01-15T16:40:07.318Z"
   },
   {
    "duration": -2001,
    "start_time": "2022-01-15T16:40:07.326Z"
   },
   {
    "duration": -2021,
    "start_time": "2022-01-15T16:40:07.347Z"
   },
   {
    "duration": -2027,
    "start_time": "2022-01-15T16:40:07.354Z"
   },
   {
    "duration": -2031,
    "start_time": "2022-01-15T16:40:07.359Z"
   },
   {
    "duration": -2037,
    "start_time": "2022-01-15T16:40:07.366Z"
   },
   {
    "duration": -2042,
    "start_time": "2022-01-15T16:40:07.372Z"
   },
   {
    "duration": -2047,
    "start_time": "2022-01-15T16:40:07.378Z"
   },
   {
    "duration": -2052,
    "start_time": "2022-01-15T16:40:07.384Z"
   },
   {
    "duration": -2057,
    "start_time": "2022-01-15T16:40:07.390Z"
   },
   {
    "duration": -2061,
    "start_time": "2022-01-15T16:40:07.395Z"
   },
   {
    "duration": -2066,
    "start_time": "2022-01-15T16:40:07.401Z"
   },
   {
    "duration": -2071,
    "start_time": "2022-01-15T16:40:07.407Z"
   },
   {
    "duration": -2076,
    "start_time": "2022-01-15T16:40:07.413Z"
   },
   {
    "duration": -2081,
    "start_time": "2022-01-15T16:40:07.419Z"
   },
   {
    "duration": -2086,
    "start_time": "2022-01-15T16:40:07.425Z"
   },
   {
    "duration": -2090,
    "start_time": "2022-01-15T16:40:07.430Z"
   },
   {
    "duration": -2095,
    "start_time": "2022-01-15T16:40:07.436Z"
   },
   {
    "duration": -2098,
    "start_time": "2022-01-15T16:40:07.440Z"
   },
   {
    "duration": -2116,
    "start_time": "2022-01-15T16:40:07.459Z"
   },
   {
    "duration": -2104,
    "start_time": "2022-01-15T16:40:07.464Z"
   },
   {
    "duration": -2110,
    "start_time": "2022-01-15T16:40:07.471Z"
   },
   {
    "duration": -2113,
    "start_time": "2022-01-15T16:40:07.476Z"
   },
   {
    "duration": -2117,
    "start_time": "2022-01-15T16:40:07.481Z"
   },
   {
    "duration": -2121,
    "start_time": "2022-01-15T16:40:07.486Z"
   },
   {
    "duration": -2125,
    "start_time": "2022-01-15T16:40:07.491Z"
   },
   {
    "duration": -2134,
    "start_time": "2022-01-15T16:40:07.501Z"
   },
   {
    "duration": -2137,
    "start_time": "2022-01-15T16:40:07.506Z"
   },
   {
    "duration": -2142,
    "start_time": "2022-01-15T16:40:07.512Z"
   },
   {
    "duration": -2147,
    "start_time": "2022-01-15T16:40:07.518Z"
   },
   {
    "duration": -2151,
    "start_time": "2022-01-15T16:40:07.523Z"
   },
   {
    "duration": -2156,
    "start_time": "2022-01-15T16:40:07.529Z"
   },
   {
    "duration": -2160,
    "start_time": "2022-01-15T16:40:07.534Z"
   },
   {
    "duration": -2164,
    "start_time": "2022-01-15T16:40:07.539Z"
   },
   {
    "duration": -2168,
    "start_time": "2022-01-15T16:40:07.544Z"
   },
   {
    "duration": -2173,
    "start_time": "2022-01-15T16:40:07.550Z"
   },
   {
    "duration": -2177,
    "start_time": "2022-01-15T16:40:07.555Z"
   },
   {
    "duration": -2195,
    "start_time": "2022-01-15T16:40:07.574Z"
   },
   {
    "duration": -2200,
    "start_time": "2022-01-15T16:40:07.580Z"
   },
   {
    "duration": -2205,
    "start_time": "2022-01-15T16:40:07.586Z"
   },
   {
    "duration": -2210,
    "start_time": "2022-01-15T16:40:07.592Z"
   },
   {
    "duration": -2215,
    "start_time": "2022-01-15T16:40:07.598Z"
   },
   {
    "duration": -2220,
    "start_time": "2022-01-15T16:40:07.604Z"
   },
   {
    "duration": -2226,
    "start_time": "2022-01-15T16:40:07.611Z"
   },
   {
    "duration": 582,
    "start_time": "2022-01-15T16:42:46.690Z"
   },
   {
    "duration": 53,
    "start_time": "2022-01-15T16:42:47.274Z"
   },
   {
    "duration": 16,
    "start_time": "2022-01-15T16:42:47.330Z"
   },
   {
    "duration": 35,
    "start_time": "2022-01-15T16:42:47.348Z"
   },
   {
    "duration": 42,
    "start_time": "2022-01-15T16:42:47.385Z"
   },
   {
    "duration": 72,
    "start_time": "2022-01-15T16:42:47.429Z"
   },
   {
    "duration": 9,
    "start_time": "2022-01-15T16:42:47.503Z"
   },
   {
    "duration": 11,
    "start_time": "2022-01-15T16:42:47.515Z"
   },
   {
    "duration": 38,
    "start_time": "2022-01-15T16:42:47.528Z"
   },
   {
    "duration": 21,
    "start_time": "2022-01-15T16:42:47.567Z"
   },
   {
    "duration": 22,
    "start_time": "2022-01-15T16:42:47.590Z"
   },
   {
    "duration": 22,
    "start_time": "2022-01-15T16:42:47.614Z"
   },
   {
    "duration": 11,
    "start_time": "2022-01-15T16:42:47.661Z"
   },
   {
    "duration": 8,
    "start_time": "2022-01-15T16:42:47.673Z"
   },
   {
    "duration": 7,
    "start_time": "2022-01-15T16:42:47.682Z"
   },
   {
    "duration": 8,
    "start_time": "2022-01-15T16:42:47.691Z"
   },
   {
    "duration": 7,
    "start_time": "2022-01-15T16:42:47.701Z"
   },
   {
    "duration": 6,
    "start_time": "2022-01-15T16:42:47.710Z"
   },
   {
    "duration": 44,
    "start_time": "2022-01-15T16:42:47.718Z"
   },
   {
    "duration": 8,
    "start_time": "2022-01-15T16:42:47.763Z"
   },
   {
    "duration": 7,
    "start_time": "2022-01-15T16:42:47.773Z"
   },
   {
    "duration": 7,
    "start_time": "2022-01-15T16:42:47.782Z"
   },
   {
    "duration": 7,
    "start_time": "2022-01-15T16:42:47.793Z"
   },
   {
    "duration": 7,
    "start_time": "2022-01-15T16:42:47.803Z"
   },
   {
    "duration": 49,
    "start_time": "2022-01-15T16:42:47.812Z"
   },
   {
    "duration": 8,
    "start_time": "2022-01-15T16:42:47.863Z"
   },
   {
    "duration": 9,
    "start_time": "2022-01-15T16:42:47.872Z"
   },
   {
    "duration": 12,
    "start_time": "2022-01-15T16:42:47.883Z"
   },
   {
    "duration": 9,
    "start_time": "2022-01-15T16:42:47.897Z"
   },
   {
    "duration": 7,
    "start_time": "2022-01-15T16:42:47.908Z"
   },
   {
    "duration": 3,
    "start_time": "2022-01-15T16:42:47.917Z"
   },
   {
    "duration": 38,
    "start_time": "2022-01-15T16:42:47.922Z"
   },
   {
    "duration": 5,
    "start_time": "2022-01-15T16:42:47.962Z"
   },
   {
    "duration": 7,
    "start_time": "2022-01-15T16:42:47.968Z"
   },
   {
    "duration": 3,
    "start_time": "2022-01-15T16:42:47.977Z"
   },
   {
    "duration": 6,
    "start_time": "2022-01-15T16:42:47.982Z"
   },
   {
    "duration": 4,
    "start_time": "2022-01-15T16:42:47.989Z"
   },
   {
    "duration": 5,
    "start_time": "2022-01-15T16:42:47.995Z"
   },
   {
    "duration": 6,
    "start_time": "2022-01-15T16:42:48.001Z"
   },
   {
    "duration": 6,
    "start_time": "2022-01-15T16:42:48.008Z"
   },
   {
    "duration": 5,
    "start_time": "2022-01-15T16:42:48.015Z"
   },
   {
    "duration": 43,
    "start_time": "2022-01-15T16:42:48.021Z"
   },
   {
    "duration": 5,
    "start_time": "2022-01-15T16:42:48.066Z"
   },
   {
    "duration": 6,
    "start_time": "2022-01-15T16:42:48.073Z"
   },
   {
    "duration": 9,
    "start_time": "2022-01-15T16:42:48.081Z"
   },
   {
    "duration": 6,
    "start_time": "2022-01-15T16:42:48.091Z"
   },
   {
    "duration": 11,
    "start_time": "2022-01-15T16:42:48.098Z"
   },
   {
    "duration": 7,
    "start_time": "2022-01-15T16:42:48.110Z"
   },
   {
    "duration": 92,
    "start_time": "2022-01-15T16:42:48.118Z"
   },
   {
    "duration": -765,
    "start_time": "2022-01-15T16:42:48.978Z"
   },
   {
    "duration": -771,
    "start_time": "2022-01-15T16:42:48.984Z"
   },
   {
    "duration": -776,
    "start_time": "2022-01-15T16:42:48.990Z"
   },
   {
    "duration": -781,
    "start_time": "2022-01-15T16:42:48.996Z"
   },
   {
    "duration": -785,
    "start_time": "2022-01-15T16:42:49.001Z"
   },
   {
    "duration": -790,
    "start_time": "2022-01-15T16:42:49.007Z"
   },
   {
    "duration": -793,
    "start_time": "2022-01-15T16:42:49.011Z"
   },
   {
    "duration": -798,
    "start_time": "2022-01-15T16:42:49.017Z"
   },
   {
    "duration": -802,
    "start_time": "2022-01-15T16:42:49.022Z"
   },
   {
    "duration": -807,
    "start_time": "2022-01-15T16:42:49.028Z"
   },
   {
    "duration": -811,
    "start_time": "2022-01-15T16:42:49.033Z"
   },
   {
    "duration": -816,
    "start_time": "2022-01-15T16:42:49.039Z"
   },
   {
    "duration": -821,
    "start_time": "2022-01-15T16:42:49.045Z"
   },
   {
    "duration": -826,
    "start_time": "2022-01-15T16:42:49.051Z"
   },
   {
    "duration": -830,
    "start_time": "2022-01-15T16:42:49.056Z"
   },
   {
    "duration": -835,
    "start_time": "2022-01-15T16:42:49.062Z"
   },
   {
    "duration": -840,
    "start_time": "2022-01-15T16:42:49.068Z"
   },
   {
    "duration": -856,
    "start_time": "2022-01-15T16:42:49.085Z"
   },
   {
    "duration": -861,
    "start_time": "2022-01-15T16:42:49.091Z"
   },
   {
    "duration": -866,
    "start_time": "2022-01-15T16:42:49.097Z"
   },
   {
    "duration": -871,
    "start_time": "2022-01-15T16:42:49.103Z"
   },
   {
    "duration": -875,
    "start_time": "2022-01-15T16:42:49.108Z"
   },
   {
    "duration": -880,
    "start_time": "2022-01-15T16:42:49.114Z"
   },
   {
    "duration": -885,
    "start_time": "2022-01-15T16:42:49.120Z"
   },
   {
    "duration": -889,
    "start_time": "2022-01-15T16:42:49.125Z"
   },
   {
    "duration": -893,
    "start_time": "2022-01-15T16:42:49.130Z"
   },
   {
    "duration": -898,
    "start_time": "2022-01-15T16:42:49.136Z"
   },
   {
    "duration": -903,
    "start_time": "2022-01-15T16:42:49.142Z"
   },
   {
    "duration": -907,
    "start_time": "2022-01-15T16:42:49.146Z"
   },
   {
    "duration": -911,
    "start_time": "2022-01-15T16:42:49.152Z"
   },
   {
    "duration": -915,
    "start_time": "2022-01-15T16:42:49.157Z"
   },
   {
    "duration": -920,
    "start_time": "2022-01-15T16:42:49.163Z"
   },
   {
    "duration": -925,
    "start_time": "2022-01-15T16:42:49.169Z"
   },
   {
    "duration": -929,
    "start_time": "2022-01-15T16:42:49.174Z"
   },
   {
    "duration": -935,
    "start_time": "2022-01-15T16:42:49.180Z"
   },
   {
    "duration": -952,
    "start_time": "2022-01-15T16:42:49.199Z"
   },
   {
    "duration": -956,
    "start_time": "2022-01-15T16:42:49.204Z"
   },
   {
    "duration": -961,
    "start_time": "2022-01-15T16:42:49.210Z"
   },
   {
    "duration": -965,
    "start_time": "2022-01-15T16:42:49.215Z"
   },
   {
    "duration": -961,
    "start_time": "2022-01-15T16:42:49.220Z"
   },
   {
    "duration": -964,
    "start_time": "2022-01-15T16:42:49.225Z"
   },
   {
    "duration": -974,
    "start_time": "2022-01-15T16:42:49.236Z"
   },
   {
    "duration": -983,
    "start_time": "2022-01-15T16:42:49.246Z"
   },
   {
    "duration": -993,
    "start_time": "2022-01-15T16:42:49.257Z"
   },
   {
    "duration": -1001,
    "start_time": "2022-01-15T16:42:49.266Z"
   },
   {
    "duration": -1010,
    "start_time": "2022-01-15T16:42:49.276Z"
   },
   {
    "duration": -1043,
    "start_time": "2022-01-15T16:42:49.310Z"
   },
   {
    "duration": -1048,
    "start_time": "2022-01-15T16:42:49.316Z"
   },
   {
    "duration": -1052,
    "start_time": "2022-01-15T16:42:49.321Z"
   },
   {
    "duration": -1057,
    "start_time": "2022-01-15T16:42:49.328Z"
   },
   {
    "duration": -1061,
    "start_time": "2022-01-15T16:42:49.333Z"
   },
   {
    "duration": -1065,
    "start_time": "2022-01-15T16:42:49.338Z"
   },
   {
    "duration": -1070,
    "start_time": "2022-01-15T16:42:49.344Z"
   },
   {
    "duration": -1075,
    "start_time": "2022-01-15T16:42:49.350Z"
   },
   {
    "duration": -1079,
    "start_time": "2022-01-15T16:42:49.355Z"
   },
   {
    "duration": -1083,
    "start_time": "2022-01-15T16:42:49.360Z"
   },
   {
    "duration": 18,
    "start_time": "2022-01-15T16:44:41.327Z"
   },
   {
    "duration": 29,
    "start_time": "2022-01-15T16:44:41.933Z"
   },
   {
    "duration": 134,
    "start_time": "2022-01-15T16:44:42.288Z"
   },
   {
    "duration": 15,
    "start_time": "2022-01-15T16:44:42.515Z"
   },
   {
    "duration": 82,
    "start_time": "2022-01-15T16:44:42.686Z"
   },
   {
    "duration": 16,
    "start_time": "2022-01-15T16:44:42.916Z"
   },
   {
    "duration": 12,
    "start_time": "2022-01-15T16:44:43.850Z"
   },
   {
    "duration": 34,
    "start_time": "2022-01-15T16:44:44.039Z"
   },
   {
    "duration": 12,
    "start_time": "2022-01-15T16:44:44.724Z"
   },
   {
    "duration": 12,
    "start_time": "2022-01-15T16:44:44.888Z"
   },
   {
    "duration": 3,
    "start_time": "2022-01-15T16:44:45.401Z"
   },
   {
    "duration": 84,
    "start_time": "2022-01-15T16:44:46.092Z"
   },
   {
    "duration": 3,
    "start_time": "2022-01-15T16:44:46.633Z"
   },
   {
    "duration": 10,
    "start_time": "2022-01-15T16:44:46.970Z"
   },
   {
    "duration": 15,
    "start_time": "2022-01-15T16:44:47.323Z"
   },
   {
    "duration": 79,
    "start_time": "2022-01-15T16:44:47.682Z"
   },
   {
    "duration": 17,
    "start_time": "2022-01-15T16:44:47.861Z"
   },
   {
    "duration": 702,
    "start_time": "2022-01-15T16:44:48.048Z"
   },
   {
    "duration": -131,
    "start_time": "2022-01-15T16:44:48.883Z"
   },
   {
    "duration": -147,
    "start_time": "2022-01-15T16:44:48.900Z"
   },
   {
    "duration": 22,
    "start_time": "2022-01-15T16:44:48.789Z"
   },
   {
    "duration": 15,
    "start_time": "2022-01-15T16:44:49.502Z"
   },
   {
    "duration": 21,
    "start_time": "2022-01-15T16:44:49.879Z"
   },
   {
    "duration": 58,
    "start_time": "2022-01-15T16:44:50.050Z"
   },
   {
    "duration": 11,
    "start_time": "2022-01-15T16:44:50.231Z"
   },
   {
    "duration": 6,
    "start_time": "2022-01-15T16:44:50.821Z"
   },
   {
    "duration": 8,
    "start_time": "2022-01-15T16:44:51.543Z"
   },
   {
    "duration": 578,
    "start_time": "2022-01-15T16:44:51.858Z"
   },
   {
    "duration": 1329,
    "start_time": "2022-01-15T16:44:52.438Z"
   },
   {
    "duration": 8,
    "start_time": "2022-01-15T16:44:53.769Z"
   },
   {
    "duration": 4,
    "start_time": "2022-01-15T16:44:53.779Z"
   },
   {
    "duration": 7,
    "start_time": "2022-01-15T16:44:53.785Z"
   },
   {
    "duration": 6,
    "start_time": "2022-01-15T16:44:53.794Z"
   },
   {
    "duration": 5,
    "start_time": "2022-01-15T16:44:53.802Z"
   },
   {
    "duration": 6,
    "start_time": "2022-01-15T16:44:53.828Z"
   },
   {
    "duration": 3,
    "start_time": "2022-01-15T16:44:54.012Z"
   },
   {
    "duration": 4,
    "start_time": "2022-01-15T16:44:54.387Z"
   },
   {
    "duration": 5,
    "start_time": "2022-01-15T16:44:54.586Z"
   },
   {
    "duration": 5,
    "start_time": "2022-01-15T16:44:54.766Z"
   },
   {
    "duration": 3,
    "start_time": "2022-01-15T16:44:54.980Z"
   },
   {
    "duration": 1874,
    "start_time": "2022-01-15T16:44:55.166Z"
   },
   {
    "duration": 7,
    "start_time": "2022-01-15T16:44:57.042Z"
   },
   {
    "duration": 107,
    "start_time": "2022-01-15T16:44:57.051Z"
   },
   {
    "duration": -1038,
    "start_time": "2022-01-15T16:44:58.198Z"
   },
   {
    "duration": -1043,
    "start_time": "2022-01-15T16:44:58.204Z"
   },
   {
    "duration": -1062,
    "start_time": "2022-01-15T16:44:58.224Z"
   },
   {
    "duration": 5,
    "start_time": "2022-01-15T16:44:58.031Z"
   },
   {
    "duration": 17,
    "start_time": "2022-01-15T16:44:58.038Z"
   },
   {
    "duration": 97,
    "start_time": "2022-01-15T16:44:58.317Z"
   },
   {
    "duration": 11,
    "start_time": "2022-01-15T16:44:58.511Z"
   },
   {
    "duration": 86,
    "start_time": "2022-01-15T16:44:59.604Z"
   },
   {
    "duration": 18,
    "start_time": "2022-01-15T16:44:59.786Z"
   },
   {
    "duration": 10,
    "start_time": "2022-01-15T16:44:59.959Z"
   },
   {
    "duration": 89,
    "start_time": "2022-01-15T16:45:00.925Z"
   },
   {
    "duration": 17,
    "start_time": "2022-01-15T16:45:01.133Z"
   },
   {
    "duration": 15,
    "start_time": "2022-01-15T16:45:01.322Z"
   },
   {
    "duration": 779,
    "start_time": "2022-01-15T17:40:27.512Z"
   },
   {
    "duration": 54,
    "start_time": "2022-01-15T17:40:28.294Z"
   },
   {
    "duration": 15,
    "start_time": "2022-01-15T17:40:28.351Z"
   },
   {
    "duration": 49,
    "start_time": "2022-01-15T17:40:28.369Z"
   },
   {
    "duration": 47,
    "start_time": "2022-01-15T17:40:28.421Z"
   },
   {
    "duration": 94,
    "start_time": "2022-01-15T17:40:28.471Z"
   },
   {
    "duration": 14,
    "start_time": "2022-01-15T17:40:28.567Z"
   },
   {
    "duration": 34,
    "start_time": "2022-01-15T17:40:28.585Z"
   },
   {
    "duration": 10,
    "start_time": "2022-01-15T17:40:28.622Z"
   },
   {
    "duration": 31,
    "start_time": "2022-01-15T17:40:28.634Z"
   },
   {
    "duration": 63,
    "start_time": "2022-01-15T17:40:28.668Z"
   },
   {
    "duration": 34,
    "start_time": "2022-01-15T17:40:28.733Z"
   },
   {
    "duration": 14,
    "start_time": "2022-01-15T17:40:28.769Z"
   },
   {
    "duration": 38,
    "start_time": "2022-01-15T17:40:28.786Z"
   },
   {
    "duration": 9,
    "start_time": "2022-01-15T17:40:28.826Z"
   },
   {
    "duration": 10,
    "start_time": "2022-01-15T17:40:28.837Z"
   },
   {
    "duration": 10,
    "start_time": "2022-01-15T17:40:28.849Z"
   },
   {
    "duration": 10,
    "start_time": "2022-01-15T17:40:28.861Z"
   },
   {
    "duration": 10,
    "start_time": "2022-01-15T17:40:28.918Z"
   },
   {
    "duration": 11,
    "start_time": "2022-01-15T17:40:28.930Z"
   },
   {
    "duration": 9,
    "start_time": "2022-01-15T17:40:28.943Z"
   },
   {
    "duration": 10,
    "start_time": "2022-01-15T17:40:28.955Z"
   },
   {
    "duration": 51,
    "start_time": "2022-01-15T17:40:28.972Z"
   },
   {
    "duration": 10,
    "start_time": "2022-01-15T17:40:29.027Z"
   },
   {
    "duration": 18,
    "start_time": "2022-01-15T17:40:29.040Z"
   },
   {
    "duration": 14,
    "start_time": "2022-01-15T17:40:29.060Z"
   },
   {
    "duration": 42,
    "start_time": "2022-01-15T17:40:29.076Z"
   },
   {
    "duration": 17,
    "start_time": "2022-01-15T17:40:29.121Z"
   },
   {
    "duration": 30,
    "start_time": "2022-01-15T17:40:29.140Z"
   },
   {
    "duration": 11,
    "start_time": "2022-01-15T17:40:29.172Z"
   },
   {
    "duration": 7,
    "start_time": "2022-01-15T17:40:29.185Z"
   },
   {
    "duration": 23,
    "start_time": "2022-01-15T17:40:29.194Z"
   },
   {
    "duration": 5,
    "start_time": "2022-01-15T17:40:29.220Z"
   },
   {
    "duration": 12,
    "start_time": "2022-01-15T17:40:29.228Z"
   },
   {
    "duration": 13,
    "start_time": "2022-01-15T17:40:29.242Z"
   },
   {
    "duration": 9,
    "start_time": "2022-01-15T17:40:29.257Z"
   },
   {
    "duration": 6,
    "start_time": "2022-01-15T17:40:29.269Z"
   },
   {
    "duration": 40,
    "start_time": "2022-01-15T17:40:29.277Z"
   },
   {
    "duration": 11,
    "start_time": "2022-01-15T17:40:29.320Z"
   },
   {
    "duration": 7,
    "start_time": "2022-01-15T17:40:29.333Z"
   },
   {
    "duration": 7,
    "start_time": "2022-01-15T17:40:29.343Z"
   },
   {
    "duration": 15,
    "start_time": "2022-01-15T17:40:29.352Z"
   },
   {
    "duration": 7,
    "start_time": "2022-01-15T17:40:29.369Z"
   },
   {
    "duration": 45,
    "start_time": "2022-01-15T17:40:29.378Z"
   },
   {
    "duration": 8,
    "start_time": "2022-01-15T17:40:29.426Z"
   },
   {
    "duration": 7,
    "start_time": "2022-01-15T17:40:29.437Z"
   },
   {
    "duration": 13,
    "start_time": "2022-01-15T17:40:29.446Z"
   },
   {
    "duration": 8,
    "start_time": "2022-01-15T17:40:29.461Z"
   },
   {
    "duration": 61,
    "start_time": "2022-01-15T17:40:29.471Z"
   },
   {
    "duration": 45,
    "start_time": "2022-01-15T17:40:29.534Z"
   },
   {
    "duration": 51,
    "start_time": "2022-01-15T17:40:29.581Z"
   },
   {
    "duration": 22,
    "start_time": "2022-01-15T17:40:29.634Z"
   },
   {
    "duration": 13,
    "start_time": "2022-01-15T17:40:29.658Z"
   },
   {
    "duration": 71,
    "start_time": "2022-01-15T17:40:29.673Z"
   },
   {
    "duration": 13,
    "start_time": "2022-01-15T17:40:29.746Z"
   },
   {
    "duration": 13,
    "start_time": "2022-01-15T17:40:29.761Z"
   },
   {
    "duration": 5,
    "start_time": "2022-01-15T17:40:29.776Z"
   },
   {
    "duration": 35,
    "start_time": "2022-01-15T17:40:29.784Z"
   },
   {
    "duration": 15,
    "start_time": "2022-01-15T17:40:29.821Z"
   },
   {
    "duration": 23,
    "start_time": "2022-01-15T17:40:29.838Z"
   },
   {
    "duration": 20,
    "start_time": "2022-01-15T17:40:29.863Z"
   },
   {
    "duration": 43,
    "start_time": "2022-01-15T17:40:29.885Z"
   },
   {
    "duration": 12,
    "start_time": "2022-01-15T17:40:29.930Z"
   },
   {
    "duration": 12,
    "start_time": "2022-01-15T17:40:29.944Z"
   },
   {
    "duration": 21,
    "start_time": "2022-01-15T17:40:29.958Z"
   },
   {
    "duration": 34,
    "start_time": "2022-01-15T17:40:30.018Z"
   },
   {
    "duration": 105,
    "start_time": "2022-01-15T17:40:30.055Z"
   },
   {
    "duration": 15,
    "start_time": "2022-01-15T17:40:30.168Z"
   },
   {
    "duration": 31,
    "start_time": "2022-01-15T17:40:30.186Z"
   },
   {
    "duration": 17,
    "start_time": "2022-01-15T17:40:30.220Z"
   },
   {
    "duration": 828,
    "start_time": "2022-01-15T17:40:30.239Z"
   },
   {
    "duration": 2025,
    "start_time": "2022-01-15T17:40:31.069Z"
   },
   {
    "duration": 21,
    "start_time": "2022-01-15T17:40:33.096Z"
   },
   {
    "duration": 7,
    "start_time": "2022-01-15T17:40:33.119Z"
   },
   {
    "duration": 8,
    "start_time": "2022-01-15T17:40:33.128Z"
   },
   {
    "duration": 5,
    "start_time": "2022-01-15T17:40:33.138Z"
   },
   {
    "duration": 6,
    "start_time": "2022-01-15T17:40:33.145Z"
   },
   {
    "duration": 9,
    "start_time": "2022-01-15T17:40:33.153Z"
   },
   {
    "duration": 54,
    "start_time": "2022-01-15T17:40:33.164Z"
   },
   {
    "duration": 5,
    "start_time": "2022-01-15T17:40:33.221Z"
   },
   {
    "duration": 7,
    "start_time": "2022-01-15T17:40:33.229Z"
   },
   {
    "duration": 6,
    "start_time": "2022-01-15T17:40:33.238Z"
   },
   {
    "duration": 7,
    "start_time": "2022-01-15T17:40:33.246Z"
   },
   {
    "duration": 3083,
    "start_time": "2022-01-15T17:40:33.255Z"
   },
   {
    "duration": 9,
    "start_time": "2022-01-15T17:40:36.341Z"
   },
   {
    "duration": 83,
    "start_time": "2022-01-15T17:40:36.353Z"
   },
   {
    "duration": 1334,
    "start_time": "2022-01-15T17:40:35.105Z"
   },
   {
    "duration": 1326,
    "start_time": "2022-01-15T17:40:35.114Z"
   },
   {
    "duration": 1323,
    "start_time": "2022-01-15T17:40:35.119Z"
   },
   {
    "duration": 1318,
    "start_time": "2022-01-15T17:40:35.125Z"
   },
   {
    "duration": 1312,
    "start_time": "2022-01-15T17:40:35.133Z"
   },
   {
    "duration": 1308,
    "start_time": "2022-01-15T17:40:35.138Z"
   },
   {
    "duration": 1304,
    "start_time": "2022-01-15T17:40:35.144Z"
   },
   {
    "duration": 1297,
    "start_time": "2022-01-15T17:40:35.152Z"
   },
   {
    "duration": 1293,
    "start_time": "2022-01-15T17:40:35.158Z"
   },
   {
    "duration": 25,
    "start_time": "2022-01-15T17:49:16.624Z"
   },
   {
    "duration": 23,
    "start_time": "2022-01-15T17:49:22.689Z"
   },
   {
    "duration": 14,
    "start_time": "2022-01-15T17:57:24.307Z"
   },
   {
    "duration": 15,
    "start_time": "2022-01-15T17:57:30.074Z"
   },
   {
    "duration": 24,
    "start_time": "2022-01-15T17:57:34.345Z"
   },
   {
    "duration": 21,
    "start_time": "2022-01-15T17:57:37.837Z"
   },
   {
    "duration": 555,
    "start_time": "2022-01-16T15:53:17.206Z"
   },
   {
    "duration": 43,
    "start_time": "2022-01-16T15:53:17.763Z"
   },
   {
    "duration": 11,
    "start_time": "2022-01-16T15:53:17.809Z"
   },
   {
    "duration": 18,
    "start_time": "2022-01-16T15:53:17.822Z"
   },
   {
    "duration": 51,
    "start_time": "2022-01-16T15:53:17.841Z"
   },
   {
    "duration": 48,
    "start_time": "2022-01-16T15:53:17.894Z"
   },
   {
    "duration": 9,
    "start_time": "2022-01-16T15:53:17.943Z"
   },
   {
    "duration": 10,
    "start_time": "2022-01-16T15:53:17.954Z"
   },
   {
    "duration": 31,
    "start_time": "2022-01-16T15:53:17.966Z"
   },
   {
    "duration": 21,
    "start_time": "2022-01-16T15:53:17.998Z"
   },
   {
    "duration": 20,
    "start_time": "2022-01-16T15:53:18.020Z"
   },
   {
    "duration": 20,
    "start_time": "2022-01-16T15:53:18.042Z"
   },
   {
    "duration": 10,
    "start_time": "2022-01-16T15:53:18.091Z"
   },
   {
    "duration": 7,
    "start_time": "2022-01-16T15:53:18.102Z"
   },
   {
    "duration": 15,
    "start_time": "2022-01-16T15:53:18.110Z"
   },
   {
    "duration": 7,
    "start_time": "2022-01-16T15:53:18.126Z"
   },
   {
    "duration": 6,
    "start_time": "2022-01-16T15:53:18.135Z"
   },
   {
    "duration": 6,
    "start_time": "2022-01-16T15:53:18.143Z"
   },
   {
    "duration": 41,
    "start_time": "2022-01-16T15:53:18.151Z"
   },
   {
    "duration": 8,
    "start_time": "2022-01-16T15:53:18.194Z"
   },
   {
    "duration": 6,
    "start_time": "2022-01-16T15:53:18.204Z"
   },
   {
    "duration": 8,
    "start_time": "2022-01-16T15:53:18.212Z"
   },
   {
    "duration": 7,
    "start_time": "2022-01-16T15:53:18.224Z"
   },
   {
    "duration": 8,
    "start_time": "2022-01-16T15:53:18.233Z"
   },
   {
    "duration": 8,
    "start_time": "2022-01-16T15:53:18.243Z"
   },
   {
    "duration": 9,
    "start_time": "2022-01-16T15:53:18.291Z"
   },
   {
    "duration": 11,
    "start_time": "2022-01-16T15:53:18.301Z"
   },
   {
    "duration": 11,
    "start_time": "2022-01-16T15:53:18.314Z"
   },
   {
    "duration": 9,
    "start_time": "2022-01-16T15:53:18.327Z"
   },
   {
    "duration": 7,
    "start_time": "2022-01-16T15:53:18.338Z"
   },
   {
    "duration": 6,
    "start_time": "2022-01-16T15:53:18.346Z"
   },
   {
    "duration": 5,
    "start_time": "2022-01-16T15:53:18.353Z"
   },
   {
    "duration": 33,
    "start_time": "2022-01-16T15:53:18.360Z"
   },
   {
    "duration": 8,
    "start_time": "2022-01-16T15:53:18.395Z"
   },
   {
    "duration": 5,
    "start_time": "2022-01-16T15:53:18.405Z"
   },
   {
    "duration": 8,
    "start_time": "2022-01-16T15:53:18.411Z"
   },
   {
    "duration": 4,
    "start_time": "2022-01-16T15:53:18.420Z"
   },
   {
    "duration": 8,
    "start_time": "2022-01-16T15:53:18.426Z"
   },
   {
    "duration": 5,
    "start_time": "2022-01-16T15:53:18.436Z"
   },
   {
    "duration": 4,
    "start_time": "2022-01-16T15:53:18.443Z"
   },
   {
    "duration": 7,
    "start_time": "2022-01-16T15:53:18.449Z"
   },
   {
    "duration": 38,
    "start_time": "2022-01-16T15:53:18.458Z"
   },
   {
    "duration": 9,
    "start_time": "2022-01-16T15:53:18.497Z"
   },
   {
    "duration": 9,
    "start_time": "2022-01-16T15:53:18.507Z"
   },
   {
    "duration": 5,
    "start_time": "2022-01-16T15:53:18.517Z"
   },
   {
    "duration": 6,
    "start_time": "2022-01-16T15:53:18.523Z"
   },
   {
    "duration": 11,
    "start_time": "2022-01-16T15:53:18.530Z"
   },
   {
    "duration": 3,
    "start_time": "2022-01-16T15:53:18.543Z"
   },
   {
    "duration": 48,
    "start_time": "2022-01-16T15:53:18.548Z"
   },
   {
    "duration": 28,
    "start_time": "2022-01-16T15:53:18.598Z"
   },
   {
    "duration": 14,
    "start_time": "2022-01-16T15:53:18.627Z"
   },
   {
    "duration": 14,
    "start_time": "2022-01-16T15:53:18.642Z"
   },
   {
    "duration": 33,
    "start_time": "2022-01-16T15:53:18.658Z"
   },
   {
    "duration": 35,
    "start_time": "2022-01-16T15:53:18.693Z"
   },
   {
    "duration": 9,
    "start_time": "2022-01-16T15:53:18.729Z"
   },
   {
    "duration": 11,
    "start_time": "2022-01-16T15:53:18.740Z"
   },
   {
    "duration": 4,
    "start_time": "2022-01-16T15:53:18.752Z"
   },
   {
    "duration": 4,
    "start_time": "2022-01-16T15:53:18.757Z"
   },
   {
    "duration": 9,
    "start_time": "2022-01-16T15:53:18.791Z"
   },
   {
    "duration": 16,
    "start_time": "2022-01-16T15:53:18.801Z"
   },
   {
    "duration": 14,
    "start_time": "2022-01-16T15:53:18.819Z"
   },
   {
    "duration": 9,
    "start_time": "2022-01-16T15:53:18.834Z"
   },
   {
    "duration": 7,
    "start_time": "2022-01-16T15:53:18.844Z"
   },
   {
    "duration": 10,
    "start_time": "2022-01-16T15:53:18.852Z"
   },
   {
    "duration": 40,
    "start_time": "2022-01-16T15:53:18.863Z"
   },
   {
    "duration": 22,
    "start_time": "2022-01-16T15:53:18.905Z"
   },
   {
    "duration": 67,
    "start_time": "2022-01-16T15:53:18.929Z"
   },
   {
    "duration": 10,
    "start_time": "2022-01-16T15:53:19.001Z"
   },
   {
    "duration": 4,
    "start_time": "2022-01-16T15:53:19.013Z"
   },
   {
    "duration": 4,
    "start_time": "2022-01-16T15:53:19.019Z"
   },
   {
    "duration": 583,
    "start_time": "2022-01-16T15:53:19.024Z"
   },
   {
    "duration": 1266,
    "start_time": "2022-01-16T15:53:19.608Z"
   },
   {
    "duration": 7,
    "start_time": "2022-01-16T15:53:20.876Z"
   },
   {
    "duration": 19,
    "start_time": "2022-01-16T15:53:20.892Z"
   },
   {
    "duration": 16,
    "start_time": "2022-01-16T15:53:20.913Z"
   },
   {
    "duration": 7,
    "start_time": "2022-01-16T15:53:20.931Z"
   },
   {
    "duration": 5,
    "start_time": "2022-01-16T15:53:20.940Z"
   },
   {
    "duration": 10,
    "start_time": "2022-01-16T15:53:20.946Z"
   },
   {
    "duration": 4,
    "start_time": "2022-01-16T15:53:20.958Z"
   },
   {
    "duration": 7,
    "start_time": "2022-01-16T15:53:20.964Z"
   },
   {
    "duration": 6,
    "start_time": "2022-01-16T15:53:20.973Z"
   },
   {
    "duration": 5,
    "start_time": "2022-01-16T15:53:20.980Z"
   },
   {
    "duration": 7,
    "start_time": "2022-01-16T15:53:20.991Z"
   },
   {
    "duration": 1733,
    "start_time": "2022-01-16T15:53:21.000Z"
   },
   {
    "duration": 7,
    "start_time": "2022-01-16T15:53:22.734Z"
   },
   {
    "duration": 17,
    "start_time": "2022-01-16T15:53:22.743Z"
   },
   {
    "duration": 9,
    "start_time": "2022-01-16T15:53:22.762Z"
   },
   {
    "duration": 21,
    "start_time": "2022-01-16T15:53:22.772Z"
   },
   {
    "duration": 12,
    "start_time": "2022-01-16T15:53:22.794Z"
   },
   {
    "duration": 10,
    "start_time": "2022-01-16T15:53:22.808Z"
   },
   {
    "duration": 18,
    "start_time": "2022-01-16T15:53:22.819Z"
   },
   {
    "duration": 10,
    "start_time": "2022-01-16T15:53:22.839Z"
   },
   {
    "duration": 42,
    "start_time": "2022-01-16T15:53:22.851Z"
   },
   {
    "duration": 13,
    "start_time": "2022-01-16T15:53:22.895Z"
   },
   {
    "duration": 61,
    "start_time": "2022-01-16T15:53:22.909Z"
   },
   {
    "duration": 16,
    "start_time": "2022-01-16T16:18:12.898Z"
   },
   {
    "duration": 12,
    "start_time": "2022-01-16T16:18:24.864Z"
   },
   {
    "duration": 228,
    "start_time": "2022-01-16T16:18:55.571Z"
   },
   {
    "duration": 594,
    "start_time": "2022-01-16T16:19:03.379Z"
   },
   {
    "duration": 43,
    "start_time": "2022-01-16T16:19:05.813Z"
   },
   {
    "duration": 12,
    "start_time": "2022-01-16T16:19:09.742Z"
   },
   {
    "duration": 20,
    "start_time": "2022-01-16T16:19:14.837Z"
   },
   {
    "duration": 47,
    "start_time": "2022-01-16T16:19:18.562Z"
   },
   {
    "duration": 71,
    "start_time": "2022-01-16T16:19:21.364Z"
   },
   {
    "duration": 11,
    "start_time": "2022-01-16T16:19:27.874Z"
   },
   {
    "duration": 12,
    "start_time": "2022-01-16T16:19:31.675Z"
   },
   {
    "duration": 12,
    "start_time": "2022-01-16T16:19:35.473Z"
   },
   {
    "duration": 18,
    "start_time": "2022-01-16T16:20:23.244Z"
   },
   {
    "duration": 10,
    "start_time": "2022-01-16T16:21:00.649Z"
   },
   {
    "duration": 22,
    "start_time": "2022-01-16T16:21:08.822Z"
   },
   {
    "duration": 23,
    "start_time": "2022-01-16T16:21:16.202Z"
   },
   {
    "duration": 23,
    "start_time": "2022-01-16T16:21:21.388Z"
   },
   {
    "duration": 736,
    "start_time": "2022-01-16T16:26:21.688Z"
   },
   {
    "duration": 81,
    "start_time": "2022-01-16T16:26:22.427Z"
   },
   {
    "duration": 24,
    "start_time": "2022-01-16T16:26:22.511Z"
   },
   {
    "duration": 47,
    "start_time": "2022-01-16T16:26:22.540Z"
   },
   {
    "duration": 69,
    "start_time": "2022-01-16T16:26:22.594Z"
   },
   {
    "duration": 89,
    "start_time": "2022-01-16T16:26:22.669Z"
   },
   {
    "duration": 19,
    "start_time": "2022-01-16T16:26:22.764Z"
   },
   {
    "duration": 32,
    "start_time": "2022-01-16T16:26:22.786Z"
   },
   {
    "duration": 25,
    "start_time": "2022-01-16T16:26:22.821Z"
   },
   {
    "duration": 32,
    "start_time": "2022-01-16T16:26:22.848Z"
   },
   {
    "duration": 21,
    "start_time": "2022-01-16T16:26:22.882Z"
   },
   {
    "duration": 44,
    "start_time": "2022-01-16T16:26:22.905Z"
   },
   {
    "duration": 32,
    "start_time": "2022-01-16T16:26:22.951Z"
   },
   {
    "duration": 38,
    "start_time": "2022-01-16T16:26:22.986Z"
   },
   {
    "duration": 16,
    "start_time": "2022-01-16T16:26:23.026Z"
   },
   {
    "duration": 10,
    "start_time": "2022-01-16T16:26:23.044Z"
   },
   {
    "duration": 36,
    "start_time": "2022-01-16T16:26:23.056Z"
   },
   {
    "duration": 9,
    "start_time": "2022-01-16T16:26:23.094Z"
   },
   {
    "duration": 8,
    "start_time": "2022-01-16T16:26:23.104Z"
   },
   {
    "duration": 14,
    "start_time": "2022-01-16T16:26:23.114Z"
   },
   {
    "duration": 9,
    "start_time": "2022-01-16T16:26:23.130Z"
   },
   {
    "duration": 9,
    "start_time": "2022-01-16T16:26:23.141Z"
   },
   {
    "duration": 14,
    "start_time": "2022-01-16T16:26:23.192Z"
   },
   {
    "duration": 11,
    "start_time": "2022-01-16T16:26:23.210Z"
   },
   {
    "duration": 8,
    "start_time": "2022-01-16T16:26:23.224Z"
   },
   {
    "duration": 13,
    "start_time": "2022-01-16T16:26:23.235Z"
   },
   {
    "duration": 41,
    "start_time": "2022-01-16T16:26:23.250Z"
   },
   {
    "duration": 8,
    "start_time": "2022-01-16T16:26:23.293Z"
   },
   {
    "duration": 9,
    "start_time": "2022-01-16T16:26:23.302Z"
   },
   {
    "duration": 13,
    "start_time": "2022-01-16T16:26:23.313Z"
   },
   {
    "duration": 13,
    "start_time": "2022-01-16T16:26:23.328Z"
   },
   {
    "duration": 9,
    "start_time": "2022-01-16T16:26:23.346Z"
   },
   {
    "duration": 42,
    "start_time": "2022-01-16T16:26:23.357Z"
   },
   {
    "duration": 6,
    "start_time": "2022-01-16T16:26:23.403Z"
   },
   {
    "duration": 11,
    "start_time": "2022-01-16T16:26:23.411Z"
   },
   {
    "duration": 6,
    "start_time": "2022-01-16T16:26:23.425Z"
   },
   {
    "duration": 8,
    "start_time": "2022-01-16T16:26:23.433Z"
   },
   {
    "duration": 6,
    "start_time": "2022-01-16T16:26:23.444Z"
   },
   {
    "duration": 44,
    "start_time": "2022-01-16T16:26:23.452Z"
   },
   {
    "duration": 9,
    "start_time": "2022-01-16T16:26:23.498Z"
   },
   {
    "duration": 7,
    "start_time": "2022-01-16T16:26:23.509Z"
   },
   {
    "duration": 6,
    "start_time": "2022-01-16T16:26:23.518Z"
   },
   {
    "duration": 4,
    "start_time": "2022-01-16T16:26:23.526Z"
   },
   {
    "duration": 30,
    "start_time": "2022-01-16T16:26:23.532Z"
   },
   {
    "duration": 47,
    "start_time": "2022-01-16T16:26:23.564Z"
   },
   {
    "duration": 17,
    "start_time": "2022-01-16T16:26:23.614Z"
   },
   {
    "duration": 52,
    "start_time": "2022-01-16T16:26:23.634Z"
   },
   {
    "duration": 10,
    "start_time": "2022-01-16T16:26:23.688Z"
   },
   {
    "duration": 18,
    "start_time": "2022-01-16T16:26:23.700Z"
   },
   {
    "duration": 6,
    "start_time": "2022-01-16T16:26:23.720Z"
   },
   {
    "duration": 25,
    "start_time": "2022-01-16T16:26:23.728Z"
   },
   {
    "duration": 73,
    "start_time": "2022-01-16T16:26:23.755Z"
   },
   {
    "duration": 19,
    "start_time": "2022-01-16T16:26:23.831Z"
   },
   {
    "duration": 20,
    "start_time": "2022-01-16T16:26:23.852Z"
   },
   {
    "duration": 13,
    "start_time": "2022-01-16T16:26:23.893Z"
   },
   {
    "duration": 33,
    "start_time": "2022-01-16T16:26:23.908Z"
   },
   {
    "duration": 15,
    "start_time": "2022-01-16T16:26:23.944Z"
   },
   {
    "duration": 39,
    "start_time": "2022-01-16T16:26:23.961Z"
   },
   {
    "duration": 6,
    "start_time": "2022-01-16T16:26:24.002Z"
   },
   {
    "duration": 5,
    "start_time": "2022-01-16T16:26:24.010Z"
   },
   {
    "duration": 12,
    "start_time": "2022-01-16T16:26:24.017Z"
   },
   {
    "duration": 20,
    "start_time": "2022-01-16T16:26:24.031Z"
   },
   {
    "duration": 14,
    "start_time": "2022-01-16T16:26:24.092Z"
   },
   {
    "duration": 12,
    "start_time": "2022-01-16T16:26:24.109Z"
   },
   {
    "duration": 11,
    "start_time": "2022-01-16T16:26:24.123Z"
   },
   {
    "duration": 13,
    "start_time": "2022-01-16T16:26:24.136Z"
   },
   {
    "duration": 45,
    "start_time": "2022-01-16T16:26:24.151Z"
   },
   {
    "duration": 33,
    "start_time": "2022-01-16T16:26:24.204Z"
   },
   {
    "duration": 106,
    "start_time": "2022-01-16T16:26:24.240Z"
   },
   {
    "duration": 17,
    "start_time": "2022-01-16T16:26:24.348Z"
   },
   {
    "duration": 27,
    "start_time": "2022-01-16T16:26:24.367Z"
   },
   {
    "duration": 5,
    "start_time": "2022-01-16T16:26:24.399Z"
   },
   {
    "duration": 712,
    "start_time": "2022-01-16T16:26:24.407Z"
   },
   {
    "duration": 1504,
    "start_time": "2022-01-16T16:26:25.121Z"
   },
   {
    "duration": 13,
    "start_time": "2022-01-16T16:26:26.627Z"
   },
   {
    "duration": 29,
    "start_time": "2022-01-16T16:26:26.642Z"
   },
   {
    "duration": 16,
    "start_time": "2022-01-16T16:26:26.673Z"
   },
   {
    "duration": 15,
    "start_time": "2022-01-16T16:26:26.691Z"
   },
   {
    "duration": 11,
    "start_time": "2022-01-16T16:26:26.708Z"
   },
   {
    "duration": 21,
    "start_time": "2022-01-16T16:26:26.721Z"
   },
   {
    "duration": 7,
    "start_time": "2022-01-16T16:26:26.744Z"
   },
   {
    "duration": 21,
    "start_time": "2022-01-16T16:26:26.753Z"
   },
   {
    "duration": 21,
    "start_time": "2022-01-16T16:26:26.777Z"
   },
   {
    "duration": 12,
    "start_time": "2022-01-16T16:26:26.800Z"
   },
   {
    "duration": 20,
    "start_time": "2022-01-16T16:26:26.814Z"
   },
   {
    "duration": 1886,
    "start_time": "2022-01-16T16:26:26.835Z"
   },
   {
    "duration": 9,
    "start_time": "2022-01-16T16:26:28.723Z"
   },
   {
    "duration": 19,
    "start_time": "2022-01-16T16:26:28.734Z"
   },
   {
    "duration": 6,
    "start_time": "2022-01-16T16:26:28.756Z"
   },
   {
    "duration": 29,
    "start_time": "2022-01-16T16:26:28.764Z"
   },
   {
    "duration": 15,
    "start_time": "2022-01-16T16:26:28.795Z"
   },
   {
    "duration": 13,
    "start_time": "2022-01-16T16:26:28.812Z"
   },
   {
    "duration": 19,
    "start_time": "2022-01-16T16:26:28.827Z"
   },
   {
    "duration": 53,
    "start_time": "2022-01-16T16:26:28.848Z"
   },
   {
    "duration": 15,
    "start_time": "2022-01-16T16:26:28.903Z"
   },
   {
    "duration": 14,
    "start_time": "2022-01-16T16:26:28.919Z"
   },
   {
    "duration": 639,
    "start_time": "2022-01-16T20:02:39.593Z"
   },
   {
    "duration": 46,
    "start_time": "2022-01-16T20:02:40.234Z"
   },
   {
    "duration": 13,
    "start_time": "2022-01-16T20:02:40.283Z"
   },
   {
    "duration": 18,
    "start_time": "2022-01-16T20:02:40.298Z"
   },
   {
    "duration": 33,
    "start_time": "2022-01-16T20:02:40.317Z"
   },
   {
    "duration": 78,
    "start_time": "2022-01-16T20:02:40.352Z"
   },
   {
    "duration": 9,
    "start_time": "2022-01-16T20:02:40.431Z"
   },
   {
    "duration": 11,
    "start_time": "2022-01-16T20:02:40.442Z"
   },
   {
    "duration": 38,
    "start_time": "2022-01-16T20:02:40.455Z"
   },
   {
    "duration": 20,
    "start_time": "2022-01-16T20:02:40.494Z"
   },
   {
    "duration": 8,
    "start_time": "2022-01-16T20:02:40.516Z"
   },
   {
    "duration": 21,
    "start_time": "2022-01-16T20:02:40.526Z"
   },
   {
    "duration": 56,
    "start_time": "2022-01-16T20:02:40.549Z"
   },
   {
    "duration": 21,
    "start_time": "2022-01-16T20:02:40.606Z"
   },
   {
    "duration": 10,
    "start_time": "2022-01-16T20:02:40.629Z"
   },
   {
    "duration": 23,
    "start_time": "2022-01-16T20:02:40.640Z"
   },
   {
    "duration": 27,
    "start_time": "2022-01-16T20:02:40.665Z"
   },
   {
    "duration": 8,
    "start_time": "2022-01-16T20:02:40.694Z"
   },
   {
    "duration": 16,
    "start_time": "2022-01-16T20:02:40.703Z"
   },
   {
    "duration": 9,
    "start_time": "2022-01-16T20:02:40.721Z"
   },
   {
    "duration": 21,
    "start_time": "2022-01-16T20:02:40.731Z"
   },
   {
    "duration": 16,
    "start_time": "2022-01-16T20:02:40.754Z"
   },
   {
    "duration": 28,
    "start_time": "2022-01-16T20:02:40.773Z"
   },
   {
    "duration": 20,
    "start_time": "2022-01-16T20:02:40.804Z"
   },
   {
    "duration": 19,
    "start_time": "2022-01-16T20:02:40.826Z"
   },
   {
    "duration": 25,
    "start_time": "2022-01-16T20:02:40.847Z"
   },
   {
    "duration": 22,
    "start_time": "2022-01-16T20:02:40.874Z"
   },
   {
    "duration": 12,
    "start_time": "2022-01-16T20:02:40.898Z"
   },
   {
    "duration": 15,
    "start_time": "2022-01-16T20:02:40.912Z"
   },
   {
    "duration": 22,
    "start_time": "2022-01-16T20:02:40.929Z"
   },
   {
    "duration": 18,
    "start_time": "2022-01-16T20:02:40.953Z"
   },
   {
    "duration": 23,
    "start_time": "2022-01-16T20:02:40.973Z"
   },
   {
    "duration": 14,
    "start_time": "2022-01-16T20:02:40.998Z"
   },
   {
    "duration": 8,
    "start_time": "2022-01-16T20:02:41.014Z"
   },
   {
    "duration": 25,
    "start_time": "2022-01-16T20:02:41.024Z"
   },
   {
    "duration": 6,
    "start_time": "2022-01-16T20:02:41.051Z"
   },
   {
    "duration": 4,
    "start_time": "2022-01-16T20:02:41.059Z"
   },
   {
    "duration": 8,
    "start_time": "2022-01-16T20:02:41.065Z"
   },
   {
    "duration": 5,
    "start_time": "2022-01-16T20:02:41.091Z"
   },
   {
    "duration": 6,
    "start_time": "2022-01-16T20:02:41.098Z"
   },
   {
    "duration": 8,
    "start_time": "2022-01-16T20:02:41.105Z"
   },
   {
    "duration": 5,
    "start_time": "2022-01-16T20:02:41.114Z"
   },
   {
    "duration": 5,
    "start_time": "2022-01-16T20:02:41.120Z"
   },
   {
    "duration": 8,
    "start_time": "2022-01-16T20:02:41.126Z"
   },
   {
    "duration": 4,
    "start_time": "2022-01-16T20:02:41.136Z"
   },
   {
    "duration": 55,
    "start_time": "2022-01-16T20:02:41.142Z"
   },
   {
    "duration": 5,
    "start_time": "2022-01-16T20:02:41.198Z"
   },
   {
    "duration": 5,
    "start_time": "2022-01-16T20:02:41.205Z"
   },
   {
    "duration": 10,
    "start_time": "2022-01-16T20:02:41.211Z"
   },
   {
    "duration": 4,
    "start_time": "2022-01-16T20:02:41.222Z"
   },
   {
    "duration": 15,
    "start_time": "2022-01-16T20:02:41.228Z"
   },
   {
    "duration": 67,
    "start_time": "2022-01-16T20:02:41.245Z"
   },
   {
    "duration": 14,
    "start_time": "2022-01-16T20:02:41.314Z"
   },
   {
    "duration": 15,
    "start_time": "2022-01-16T20:02:41.329Z"
   },
   {
    "duration": 10,
    "start_time": "2022-01-16T20:02:41.345Z"
   },
   {
    "duration": 65,
    "start_time": "2022-01-16T20:02:41.356Z"
   },
   {
    "duration": 9,
    "start_time": "2022-01-16T20:02:41.422Z"
   },
   {
    "duration": 9,
    "start_time": "2022-01-16T20:02:41.433Z"
   },
   {
    "duration": 4,
    "start_time": "2022-01-16T20:02:41.444Z"
   },
   {
    "duration": 3,
    "start_time": "2022-01-16T20:02:41.449Z"
   },
   {
    "duration": 44,
    "start_time": "2022-01-16T20:02:41.454Z"
   },
   {
    "duration": 17,
    "start_time": "2022-01-16T20:02:41.500Z"
   },
   {
    "duration": 13,
    "start_time": "2022-01-16T20:02:41.518Z"
   },
   {
    "duration": 9,
    "start_time": "2022-01-16T20:02:41.532Z"
   },
   {
    "duration": 9,
    "start_time": "2022-01-16T20:02:41.543Z"
   },
   {
    "duration": 10,
    "start_time": "2022-01-16T20:02:41.592Z"
   },
   {
    "duration": 15,
    "start_time": "2022-01-16T20:02:41.604Z"
   },
   {
    "duration": 19,
    "start_time": "2022-01-16T20:02:41.624Z"
   },
   {
    "duration": 87,
    "start_time": "2022-01-16T20:02:41.645Z"
   },
   {
    "duration": 11,
    "start_time": "2022-01-16T20:02:41.734Z"
   },
   {
    "duration": 5,
    "start_time": "2022-01-16T20:02:41.746Z"
   },
   {
    "duration": 4,
    "start_time": "2022-01-16T20:02:41.753Z"
   },
   {
    "duration": 602,
    "start_time": "2022-01-16T20:02:41.758Z"
   },
   {
    "duration": 1299,
    "start_time": "2022-01-16T20:02:42.362Z"
   },
   {
    "duration": 9,
    "start_time": "2022-01-16T20:02:43.662Z"
   },
   {
    "duration": 20,
    "start_time": "2022-01-16T20:02:43.672Z"
   },
   {
    "duration": 8,
    "start_time": "2022-01-16T20:02:43.694Z"
   },
   {
    "duration": 7,
    "start_time": "2022-01-16T20:02:43.704Z"
   },
   {
    "duration": 8,
    "start_time": "2022-01-16T20:02:43.712Z"
   },
   {
    "duration": 12,
    "start_time": "2022-01-16T20:02:43.721Z"
   },
   {
    "duration": 4,
    "start_time": "2022-01-16T20:02:43.734Z"
   },
   {
    "duration": 7,
    "start_time": "2022-01-16T20:02:43.739Z"
   },
   {
    "duration": 6,
    "start_time": "2022-01-16T20:02:43.747Z"
   },
   {
    "duration": 41,
    "start_time": "2022-01-16T20:02:43.754Z"
   },
   {
    "duration": 9,
    "start_time": "2022-01-16T20:02:43.796Z"
   },
   {
    "duration": 1724,
    "start_time": "2022-01-16T20:02:43.806Z"
   },
   {
    "duration": 7,
    "start_time": "2022-01-16T20:02:45.533Z"
   },
   {
    "duration": 14,
    "start_time": "2022-01-16T20:02:45.542Z"
   },
   {
    "duration": 6,
    "start_time": "2022-01-16T20:02:45.558Z"
   },
   {
    "duration": 27,
    "start_time": "2022-01-16T20:02:45.566Z"
   },
   {
    "duration": 13,
    "start_time": "2022-01-16T20:02:45.594Z"
   },
   {
    "duration": 10,
    "start_time": "2022-01-16T20:02:45.609Z"
   },
   {
    "duration": 16,
    "start_time": "2022-01-16T20:02:45.621Z"
   },
   {
    "duration": 10,
    "start_time": "2022-01-16T20:02:45.639Z"
   },
   {
    "duration": 52,
    "start_time": "2022-01-16T20:02:45.651Z"
   },
   {
    "duration": 11,
    "start_time": "2022-01-16T20:02:45.704Z"
   },
   {
    "duration": 831,
    "start_time": "2022-01-17T09:04:58.584Z"
   },
   {
    "duration": 236,
    "start_time": "2022-01-17T09:04:59.418Z"
   },
   {
    "duration": 15,
    "start_time": "2022-01-17T09:04:59.658Z"
   },
   {
    "duration": 27,
    "start_time": "2022-01-17T09:04:59.676Z"
   },
   {
    "duration": 48,
    "start_time": "2022-01-17T09:04:59.706Z"
   },
   {
    "duration": 98,
    "start_time": "2022-01-17T09:04:59.757Z"
   },
   {
    "duration": 13,
    "start_time": "2022-01-17T09:04:59.857Z"
   },
   {
    "duration": 38,
    "start_time": "2022-01-17T09:04:59.874Z"
   },
   {
    "duration": 14,
    "start_time": "2022-01-17T09:04:59.914Z"
   },
   {
    "duration": 25,
    "start_time": "2022-01-17T09:04:59.931Z"
   },
   {
    "duration": 43,
    "start_time": "2022-01-17T09:04:59.959Z"
   },
   {
    "duration": 38,
    "start_time": "2022-01-17T09:05:00.005Z"
   },
   {
    "duration": 32,
    "start_time": "2022-01-17T09:05:00.046Z"
   },
   {
    "duration": 38,
    "start_time": "2022-01-17T09:05:00.102Z"
   },
   {
    "duration": 14,
    "start_time": "2022-01-17T09:05:00.143Z"
   },
   {
    "duration": 42,
    "start_time": "2022-01-17T09:05:00.160Z"
   },
   {
    "duration": 10,
    "start_time": "2022-01-17T09:05:00.205Z"
   },
   {
    "duration": 10,
    "start_time": "2022-01-17T09:05:00.218Z"
   },
   {
    "duration": 11,
    "start_time": "2022-01-17T09:05:00.230Z"
   },
   {
    "duration": 12,
    "start_time": "2022-01-17T09:05:00.243Z"
   },
   {
    "duration": 11,
    "start_time": "2022-01-17T09:05:00.301Z"
   },
   {
    "duration": 13,
    "start_time": "2022-01-17T09:05:00.315Z"
   },
   {
    "duration": 11,
    "start_time": "2022-01-17T09:05:00.334Z"
   },
   {
    "duration": 11,
    "start_time": "2022-01-17T09:05:00.349Z"
   },
   {
    "duration": 11,
    "start_time": "2022-01-17T09:05:00.400Z"
   },
   {
    "duration": 12,
    "start_time": "2022-01-17T09:05:00.414Z"
   },
   {
    "duration": 12,
    "start_time": "2022-01-17T09:05:00.429Z"
   },
   {
    "duration": 11,
    "start_time": "2022-01-17T09:05:00.443Z"
   },
   {
    "duration": 46,
    "start_time": "2022-01-17T09:05:00.456Z"
   },
   {
    "duration": 18,
    "start_time": "2022-01-17T09:05:00.505Z"
   },
   {
    "duration": 12,
    "start_time": "2022-01-17T09:05:00.526Z"
   },
   {
    "duration": 11,
    "start_time": "2022-01-17T09:05:00.541Z"
   },
   {
    "duration": 47,
    "start_time": "2022-01-17T09:05:00.554Z"
   },
   {
    "duration": 7,
    "start_time": "2022-01-17T09:05:00.603Z"
   },
   {
    "duration": 7,
    "start_time": "2022-01-17T09:05:00.612Z"
   },
   {
    "duration": 14,
    "start_time": "2022-01-17T09:05:00.622Z"
   },
   {
    "duration": 8,
    "start_time": "2022-01-17T09:05:00.638Z"
   },
   {
    "duration": 11,
    "start_time": "2022-01-17T09:05:00.648Z"
   },
   {
    "duration": 41,
    "start_time": "2022-01-17T09:05:00.661Z"
   },
   {
    "duration": 10,
    "start_time": "2022-01-17T09:05:00.705Z"
   },
   {
    "duration": 13,
    "start_time": "2022-01-17T09:05:00.717Z"
   },
   {
    "duration": 8,
    "start_time": "2022-01-17T09:05:00.733Z"
   },
   {
    "duration": 12,
    "start_time": "2022-01-17T09:05:00.743Z"
   },
   {
    "duration": 12,
    "start_time": "2022-01-17T09:05:00.758Z"
   },
   {
    "duration": 31,
    "start_time": "2022-01-17T09:05:00.773Z"
   },
   {
    "duration": 23,
    "start_time": "2022-01-17T09:05:00.807Z"
   },
   {
    "duration": 10,
    "start_time": "2022-01-17T09:05:00.832Z"
   },
   {
    "duration": 9,
    "start_time": "2022-01-17T09:05:00.844Z"
   },
   {
    "duration": 17,
    "start_time": "2022-01-17T09:05:00.855Z"
   },
   {
    "duration": 29,
    "start_time": "2022-01-17T09:05:00.874Z"
   },
   {
    "duration": 26,
    "start_time": "2022-01-17T09:05:00.905Z"
   },
   {
    "duration": 73,
    "start_time": "2022-01-17T09:05:00.933Z"
   },
   {
    "duration": 24,
    "start_time": "2022-01-17T09:05:01.008Z"
   },
   {
    "duration": 25,
    "start_time": "2022-01-17T09:05:01.034Z"
   },
   {
    "duration": 42,
    "start_time": "2022-01-17T09:05:01.061Z"
   },
   {
    "duration": 49,
    "start_time": "2022-01-17T09:05:01.106Z"
   },
   {
    "duration": 14,
    "start_time": "2022-01-17T09:05:01.158Z"
   },
   {
    "duration": 65,
    "start_time": "2022-01-17T09:05:01.202Z"
   },
   {
    "duration": 66,
    "start_time": "2022-01-17T09:05:01.270Z"
   },
   {
    "duration": 19,
    "start_time": "2022-01-17T09:05:01.339Z"
   },
   {
    "duration": 23,
    "start_time": "2022-01-17T09:05:01.360Z"
   },
   {
    "duration": 36,
    "start_time": "2022-01-17T09:05:01.385Z"
   },
   {
    "duration": 27,
    "start_time": "2022-01-17T09:05:01.423Z"
   },
   {
    "duration": 15,
    "start_time": "2022-01-17T09:05:01.453Z"
   },
   {
    "duration": 33,
    "start_time": "2022-01-17T09:05:01.470Z"
   },
   {
    "duration": 19,
    "start_time": "2022-01-17T09:05:01.505Z"
   },
   {
    "duration": 22,
    "start_time": "2022-01-17T09:05:01.527Z"
   },
   {
    "duration": 62,
    "start_time": "2022-01-17T09:05:01.557Z"
   },
   {
    "duration": 96,
    "start_time": "2022-01-17T09:05:01.623Z"
   },
   {
    "duration": 15,
    "start_time": "2022-01-17T09:05:01.722Z"
   },
   {
    "duration": 32,
    "start_time": "2022-01-17T09:05:01.740Z"
   },
   {
    "duration": 25,
    "start_time": "2022-01-17T09:05:01.775Z"
   },
   {
    "duration": 877,
    "start_time": "2022-01-17T09:05:01.803Z"
   },
   {
    "duration": 2390,
    "start_time": "2022-01-17T09:05:02.682Z"
   },
   {
    "duration": 15,
    "start_time": "2022-01-17T09:05:05.075Z"
   },
   {
    "duration": 9,
    "start_time": "2022-01-17T09:05:05.092Z"
   },
   {
    "duration": 9,
    "start_time": "2022-01-17T09:05:05.104Z"
   },
   {
    "duration": 7,
    "start_time": "2022-01-17T09:05:05.116Z"
   },
   {
    "duration": 6,
    "start_time": "2022-01-17T09:05:05.126Z"
   },
   {
    "duration": 10,
    "start_time": "2022-01-17T09:05:05.134Z"
   },
   {
    "duration": 56,
    "start_time": "2022-01-17T09:05:05.147Z"
   },
   {
    "duration": 8,
    "start_time": "2022-01-17T09:05:05.206Z"
   },
   {
    "duration": 7,
    "start_time": "2022-01-17T09:05:05.217Z"
   },
   {
    "duration": 7,
    "start_time": "2022-01-17T09:05:05.227Z"
   },
   {
    "duration": 9,
    "start_time": "2022-01-17T09:05:05.237Z"
   },
   {
    "duration": 3274,
    "start_time": "2022-01-17T09:05:05.248Z"
   },
   {
    "duration": 10,
    "start_time": "2022-01-17T09:05:08.525Z"
   },
   {
    "duration": 24,
    "start_time": "2022-01-17T09:05:08.538Z"
   },
   {
    "duration": 8,
    "start_time": "2022-01-17T09:05:08.565Z"
   },
   {
    "duration": 7,
    "start_time": "2022-01-17T09:05:08.602Z"
   },
   {
    "duration": 21,
    "start_time": "2022-01-17T09:05:08.612Z"
   },
   {
    "duration": 17,
    "start_time": "2022-01-17T09:05:08.636Z"
   },
   {
    "duration": 64,
    "start_time": "2022-01-17T09:05:08.656Z"
   },
   {
    "duration": 17,
    "start_time": "2022-01-17T09:05:08.723Z"
   },
   {
    "duration": 23,
    "start_time": "2022-01-17T09:05:08.742Z"
   },
   {
    "duration": 45,
    "start_time": "2022-01-17T09:05:08.768Z"
   }
  ],
  "kernelspec": {
   "display_name": "Python 3 (ipykernel)",
   "language": "python",
   "name": "python3"
  },
  "language_info": {
   "codemirror_mode": {
    "name": "ipython",
    "version": 3
   },
   "file_extension": ".py",
   "mimetype": "text/x-python",
   "name": "python",
   "nbconvert_exporter": "python",
   "pygments_lexer": "ipython3",
   "version": "3.9.7"
  },
  "toc": {
   "base_numbering": 1,
   "nav_menu": {},
   "number_sections": true,
   "sideBar": true,
   "skip_h1_title": true,
   "title_cell": "Table of Contents",
   "title_sidebar": "Contents",
   "toc_cell": false,
   "toc_position": {},
   "toc_section_display": true,
   "toc_window_display": false
  }
 },
 "nbformat": 4,
 "nbformat_minor": 2
}
